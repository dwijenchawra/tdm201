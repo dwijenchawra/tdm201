{
 "cells": [
  {
   "cell_type": "markdown",
   "id": "be02a957-7133-4d02-818e-fedeb3cecb05",
   "metadata": {},
   "source": [
    "# Project 4 -- Dwijen Chawra"
   ]
  },
  {
   "cell_type": "markdown",
   "id": "1ff61db1",
   "metadata": {},
   "source": [
    "# Question 1"
   ]
  },
  {
   "cell_type": "code",
   "execution_count": 9,
   "id": "81efc491",
   "metadata": {
    "vscode": {
     "languageId": "shellscript"
    }
   },
   "outputs": [
    {
     "name": "stdout",
     "output_type": "stream",
     "text": [
      "1\n",
      "What Country or Region do you live in?\n",
      "Which US State or Territory do you live in?\n",
      "How old are you?\n",
      "How many years of IT/Programming experience do you have?\n",
      "How would you best describe the industry you work in?\n",
      "Which best describes the size of your company?\n",
      "Which of the following best describes your occupation?\n",
      "How likely is it that a recommendation you make will be acted upon?\n",
      "What is your involvement in purchasing? You can choose more than 1.\n",
      "\n",
      "\n",
      "\n",
      "\n",
      "\n",
      "\n",
      "What types of purchases are you involved in?\n",
      "\n",
      "\n",
      "\n",
      "\n",
      "\n",
      "\"What is your budget for outside expenditures (hardware\n",
      " software\n",
      " consulting\n",
      " etc) for 2011?\"\n",
      "\n",
      "\n",
      "\n",
      "\n",
      "\n",
      "\n",
      "\n",
      "What type of project are you developing?\n",
      "Which languages are you proficient in?\n",
      "\n",
      "\n",
      "\n",
      "\n",
      "\n",
      "\n",
      "\n",
      "\n",
      "\n",
      "\n",
      "\n",
      "\n",
      "What operating system do you use the most?\n",
      "Please rate your job/career satisfaction\n",
      "\"Including bonus\n",
      " what is your annual compensation in USD?\"\n",
      "Which technology products do you own? (You can choose more than one)\n",
      "\n",
      "\n",
      "\n",
      "\n",
      "\n",
      "\n",
      "\n",
      "\n",
      "\n",
      "\n",
      "\n",
      "\n",
      "\n",
      "\n",
      "\n",
      "\n",
      "\"In the last 12 months\n",
      " how much money have you spent on personal technology-related purchases? \"\n",
      "Response our sites do you frequent most?\n",
      "Response\n",
      "Response\n",
      "Response\n",
      "Response\n",
      "Response\n",
      "Response\n",
      "Response\n",
      "Influencer\n",
      "Recommender\n",
      "Approver\n",
      "Purchaser\n",
      "Check Writer\n",
      "No Involvement\n",
      "I'm a Seller\n",
      "Hardware\n",
      "Servers\n",
      "Software\n",
      "\"User Equipment: Monitors\n",
      " PCs\n",
      " Laptops\"\n",
      "Consultants\n",
      "Other\n",
      "\"<$10\n",
      "000\"\n",
      "\"$10\n",
      "001 - $25\n",
      "000\"\n",
      "\"$25\n",
      "001 - $40\n",
      "000\"\n"
     ]
    }
   ],
   "source": [
    "%%bash\n",
    "# head -n 1 /anvil/projects/tdm/data/stackoverflow/unprocessed/2011.csv\n",
    "head -n 1 /anvil/projects/tdm/data/stackoverflow/unprocessed/2011.csv | cut -d \",\" -f 1- --output-delimiter=\"\\n\" | wc -l\n",
    "\n",
    "\n",
    "head -n 1 /anvil/projects/tdm/data/stackoverflow/unprocessed/2011.csv | tr \",\" \"\\n\" | head -n 100"
   ]
  },
  {
   "cell_type": "markdown",
   "id": "0de50c38",
   "metadata": {},
   "source": [
    "I notice that `cut` was unable to properly replace the comma with newlines, and `wc -l` still returned 1 for the line count.\n",
    "\n",
    "`tr` was able to properly display and replace the commas with new lines, and the line count was more accurate."
   ]
  },
  {
   "cell_type": "markdown",
   "id": "1ff61db1",
   "metadata": {},
   "source": [
    "# Question 2"
   ]
  },
  {
   "cell_type": "code",
   "execution_count": 3,
   "id": "b79ce399",
   "metadata": {
    "vscode": {
     "languageId": "shellscript"
    }
   },
   "outputs": [
    {
     "name": "stdout",
     "output_type": "stream",
     "text": [
      "24\n"
     ]
    }
   ],
   "source": [
    "%%bash\n",
    "head -n 1 /anvil/projects/tdm/data/iowa_liquor_sales/iowa_liquor_sales_cleaner.csv | tr \";\" \"\\n\" | wc -l"
   ]
  },
  {
   "cell_type": "markdown",
   "id": "4a4660a6",
   "metadata": {},
   "source": [
    "`iowa_liquor_sales_cleaner.csv` has 24 columns."
   ]
  },
  {
   "cell_type": "markdown",
   "id": "0044d37e",
   "metadata": {},
   "source": [
    "# Question 3"
   ]
  },
  {
   "cell_type": "code",
   "execution_count": null,
   "id": "7e220fc1",
   "metadata": {
    "vscode": {
     "languageId": "shellscript"
    }
   },
   "outputs": [],
   "source": []
  },
  {
   "cell_type": "markdown",
   "id": "72b6af46",
   "metadata": {},
   "source": [
    "# Question 4"
   ]
  },
  {
   "cell_type": "markdown",
   "id": "b66f04fe",
   "metadata": {},
   "source": [
    "# Question 5"
   ]
  }
 ],
 "metadata": {
  "kernelspec": {
   "display_name": "Python 3.8.9 64-bit",
   "language": "python",
   "name": "python3"
  },
  "language_info": {
   "codemirror_mode": {
    "name": "ipython",
    "version": 3
   },
   "file_extension": ".py",
   "mimetype": "text/x-python",
   "name": "python",
   "nbconvert_exporter": "python",
   "pygments_lexer": "ipython3",
   "version": "3.6.8"
  },
  "vscode": {
   "interpreter": {
    "hash": "31f2aee4e71d21fbe5cf8b01ff0e069b9275f58929596ceb00d14d90e3e16cd6"
   }
  }
 },
 "nbformat": 4,
 "nbformat_minor": 5
}
