{
 "cells": [
  {
   "cell_type": "markdown",
   "id": "be02a957-7133-4d02-818e-fedeb3cecb05",
   "metadata": {},
   "source": [
    "# Project 4 -- Dwijen Chawra"
   ]
  },
  {
   "cell_type": "markdown",
   "id": "1ff61db1",
   "metadata": {},
   "source": [
    "# Question 1"
   ]
  },
  {
   "cell_type": "code",
   "execution_count": 9,
   "id": "81efc491",
   "metadata": {
    "vscode": {
     "languageId": "shellscript"
    }
   },
   "outputs": [
    {
     "name": "stdout",
     "output_type": "stream",
     "text": [
      "1\n",
      "What Country or Region do you live in?\n",
      "Which US State or Territory do you live in?\n",
      "How old are you?\n",
      "How many years of IT/Programming experience do you have?\n",
      "How would you best describe the industry you work in?\n",
      "Which best describes the size of your company?\n",
      "Which of the following best describes your occupation?\n",
      "How likely is it that a recommendation you make will be acted upon?\n",
      "What is your involvement in purchasing? You can choose more than 1.\n",
      "\n",
      "\n",
      "\n",
      "\n",
      "\n",
      "\n",
      "What types of purchases are you involved in?\n",
      "\n",
      "\n",
      "\n",
      "\n",
      "\n",
      "\"What is your budget for outside expenditures (hardware\n",
      " software\n",
      " consulting\n",
      " etc) for 2011?\"\n",
      "\n",
      "\n",
      "\n",
      "\n",
      "\n",
      "\n",
      "\n",
      "What type of project are you developing?\n",
      "Which languages are you proficient in?\n",
      "\n",
      "\n",
      "\n",
      "\n",
      "\n",
      "\n",
      "\n",
      "\n",
      "\n",
      "\n",
      "\n",
      "\n",
      "What operating system do you use the most?\n",
      "Please rate your job/career satisfaction\n",
      "\"Including bonus\n",
      " what is your annual compensation in USD?\"\n",
      "Which technology products do you own? (You can choose more than one)\n",
      "\n",
      "\n",
      "\n",
      "\n",
      "\n",
      "\n",
      "\n",
      "\n",
      "\n",
      "\n",
      "\n",
      "\n",
      "\n",
      "\n",
      "\n",
      "\n",
      "\"In the last 12 months\n",
      " how much money have you spent on personal technology-related purchases? \"\n",
      "Response our sites do you frequent most?\n",
      "Response\n",
      "Response\n",
      "Response\n",
      "Response\n",
      "Response\n",
      "Response\n",
      "Response\n",
      "Influencer\n",
      "Recommender\n",
      "Approver\n",
      "Purchaser\n",
      "Check Writer\n",
      "No Involvement\n",
      "I'm a Seller\n",
      "Hardware\n",
      "Servers\n",
      "Software\n",
      "\"User Equipment: Monitors\n",
      " PCs\n",
      " Laptops\"\n",
      "Consultants\n",
      "Other\n",
      "\"<$10\n",
      "000\"\n",
      "\"$10\n",
      "001 - $25\n",
      "000\"\n",
      "\"$25\n",
      "001 - $40\n",
      "000\"\n"
     ]
    }
   ],
   "source": [
    "%%bash\n",
    "# head -n 1 /anvil/projects/tdm/data/stackoverflow/unprocessed/2011.csv\n",
    "head -n 1 /anvil/projects/tdm/data/stackoverflow/unprocessed/2011.csv | cut -d \",\" -f 1- --output-delimiter=\"\\n\" | wc -l\n",
    "\n",
    "\n",
    "head -n 1 /anvil/projects/tdm/data/stackoverflow/unprocessed/2011.csv | tr \",\" \"\\n\" | head -n 100"
   ]
  },
  {
   "cell_type": "markdown",
   "id": "0de50c38",
   "metadata": {},
   "source": [
    "I notice that `cut` was unable to properly replace the comma with newlines, and `wc -l` still returned 1 for the line count.\n",
    "\n",
    "`tr` was able to properly display and replace the commas with new lines, and the line count was more accurate."
   ]
  },
  {
   "cell_type": "markdown",
   "id": "1ff61db1",
   "metadata": {},
   "source": [
    "# Question 2"
   ]
  },
  {
   "cell_type": "code",
   "execution_count": 3,
   "id": "b79ce399",
   "metadata": {
    "vscode": {
     "languageId": "shellscript"
    }
   },
   "outputs": [
    {
     "name": "stdout",
     "output_type": "stream",
     "text": [
      "24\n"
     ]
    }
   ],
   "source": [
    "%%bash\n",
    "head -n 1 /anvil/projects/tdm/data/iowa_liquor_sales/iowa_liquor_sales_cleaner.csv | tr \";\" \"\\n\" | wc -l"
   ]
  },
  {
   "cell_type": "markdown",
   "id": "4a4660a6",
   "metadata": {},
   "source": [
    "`iowa_liquor_sales_cleaner.csv` has 24 columns."
   ]
  },
  {
   "cell_type": "markdown",
   "id": "0044d37e",
   "metadata": {},
   "source": [
    "# Question 3"
   ]
  },
  {
   "cell_type": "code",
   "execution_count": 9,
   "id": "7e220fc1",
   "metadata": {
    "vscode": {
     "languageId": "shellscript"
    }
   },
   "outputs": [
    {
     "name": "stdout",
     "output_type": "stream",
     "text": [
      "S15467600074;10/31/2013;2633;Hy-Vee #3 / BDI / Des Moines;3221 SE 14TH ST;DES MOINES;50320;3221 SE 14TH STDES MOINES 50320(41.554101, -93.596754);77.0;Polk;1031080.0;VODKA 80 PROOF;380.0;Phillips Beverage Company;37347;Phillips Vodka;12;1000;$4.28;$6.42;5280;$33897.60;5280.0;1394.83\n",
      "S31923800002;04/25/2016;2633;Hy-Vee #3 / BDI / Des Moines;3221 SE 14TH ST;DES MOINES;50320;3221 SE 14TH STDES MOINES 50320(41.554101, -93.596754);77.0;Polk;1011300.0;TENNESSEE WHISKIES;85.0;Brown-Forman Corporation;26827;Jack Daniels Old #7 Black Lbl;12;1000;$18.38;$27.57;6600;$181962.00;6600.0;1743.54\n",
      "S12933100005;06/24/2013;2633;Hy-Vee #3 / BDI / Des Moines;3221 SE 14TH ST;DES MOINES;50320;3221 SE 14TH STDES MOINES 50320(41.554101, -93.596754);77.0;Polk;1062310.0;SPICED RUM;260.0;Diageo Americas;43337;Captain Morgan Spiced Rum;12;1000;$11.75;$17.62;11124;$196004.88;11124.0;2938.65\n",
      "S05867400001;06/04/2012;2633;Hy-Vee #3 / BDI / Des Moines;3221 SE 14TH ST;DES MOINES;50320;3221 SE 14TH STDES MOINES 50320(41.554101, -93.596754);77.0;Polk;1062310.0;SPICED RUM;260.0;Diageo Americas;43337;Captain Morgan Spiced Rum;12;1000;$11.30;$16.94;15000;$254100.00;15000.0;3962.58\n",
      "S09275100052;12/03/2012;2633;Hy-Vee #3 / BDI / Des Moines;3221 SE 14TH ST;DES MOINES;50320;3221 SE 14TH STDES MOINES 50320(41.554101, -93.596754);77.0;Polk;1062310.0;SPICED RUM;260.0;Diageo Americas;43337;Captain Morgan Spiced Rum;12;1000;$11.30;$16.94;15000;$254100.00;15000.0;3962.58\n"
     ]
    }
   ],
   "source": [
    "%%bash\n",
    "cat /anvil/projects/tdm/data/iowa_liquor_sales/iowa_liquor_sales_cleaner.csv | sort -S 4G -t \";\" -k 21 -n --parallel=32 | tail -n 5"
   ]
  },
  {
   "cell_type": "markdown",
   "id": "72b6af46",
   "metadata": {},
   "source": [
    "# Question 4"
   ]
  },
  {
   "cell_type": "markdown",
   "id": "b66f04fe",
   "metadata": {},
   "source": [
    "# Question 5"
   ]
  }
 ],
 "metadata": {
  "kernelspec": {
   "display_name": "Python 3.9.13 ('hackathon')",
   "language": "python",
   "name": "python3"
  },
  "language_info": {
   "codemirror_mode": {
    "name": "ipython",
    "version": 3
   },
   "file_extension": ".py",
   "mimetype": "text/x-python",
   "name": "python",
   "nbconvert_exporter": "python",
   "pygments_lexer": "ipython3",
   "version": "3.9.13"
  },
  "vscode": {
   "interpreter": {
    "hash": "47ef2d07cb13a693d245cfa793efe84c15311510376b5d2ca6c4836778ee5d6c"
   }
  }
 },
 "nbformat": 4,
 "nbformat_minor": 5
}
