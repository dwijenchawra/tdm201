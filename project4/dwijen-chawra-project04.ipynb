{
 "cells": [
  {
   "cell_type": "markdown",
   "id": "be02a957-7133-4d02-818e-fedeb3cecb05",
   "metadata": {},
   "source": [
    "# Project 4 -- Dwijen Chawra"
   ]
  },
  {
   "cell_type": "markdown",
   "id": "8ba94c56",
   "metadata": {},
   "source": [
    "Collaborators:\n",
    "- Alexiy Buynitsky - called me a monkey and helped me with optimizing sorts"
   ]
  },
  {
   "cell_type": "markdown",
   "id": "1ff61db1",
   "metadata": {},
   "source": [
    "# Question 1"
   ]
  },
  {
   "cell_type": "code",
   "execution_count": 1,
   "id": "81efc491",
   "metadata": {
    "vscode": {
     "languageId": "shellscript"
    }
   },
   "outputs": [
    {
     "name": "stdout",
     "output_type": "stream",
     "text": [
      "191221\n",
      "What Country or Region do you live in?\n",
      "Which US State or Territory do you live in?\n",
      "How old are you?\n",
      "How many years of IT/Programming experience do you have?\n",
      "How would you best describe the industry you work in?\n",
      "Which best describes the size of your company?\n",
      "Which of the following best describes your occupation?\n",
      "How likely is it that a recommendation you make will be acted upon?\n",
      "What is your involvement in purchasing? You can choose more than 1.\n",
      "\n",
      "\n",
      "\n",
      "\n",
      "\n",
      "\n",
      "What types of purchases are you involved in?\n",
      "\n",
      "\n",
      "\n",
      "\n",
      "\n",
      "\"What is your budget for outside expenditures (hardware\n",
      " software\n",
      " consulting\n",
      " etc) for 2011?\"\n",
      "\n",
      "\n",
      "\n",
      "\n",
      "\n",
      "\n",
      "\n",
      "What type of project are you developing?\n",
      "Which languages are you proficient in?\n",
      "\n",
      "\n",
      "\n",
      "\n",
      "\n",
      "\n",
      "\n",
      "\n",
      "\n",
      "\n",
      "\n",
      "\n",
      "What operating system do you use the most?\n",
      "Please rate your job/career satisfaction\n",
      "\"Including bonus\n",
      " what is your annual compensation in USD?\"\n",
      "Which technology products do you own? (You can choose more than one)\n",
      "\n",
      "\n",
      "\n",
      "\n",
      "\n",
      "\n",
      "\n",
      "\n",
      "\n",
      "\n",
      "\n",
      "\n",
      "\n",
      "\n",
      "\n",
      "\n",
      "\"In the last 12 months\n",
      " how much money have you spent on personal technology-related purchases? \"\n",
      "Response our sites do you frequent most?\n",
      "Response\n",
      "Response\n",
      "Response\n",
      "Response\n",
      "Response\n",
      "Response\n",
      "Response\n",
      "Influencer\n",
      "Recommender\n",
      "Approver\n",
      "Purchaser\n",
      "Check Writer\n",
      "No Involvement\n",
      "I'm a Seller\n",
      "Hardware\n",
      "Servers\n",
      "Software\n",
      "\"User Equipment: Monitors\n",
      " PCs\n",
      " Laptops\"\n",
      "Consultants\n",
      "Other\n",
      "\"<$10\n",
      "000\"\n",
      "\"$10\n",
      "001 - $25\n",
      "000\"\n",
      "\"$25\n",
      "001 - $40\n",
      "000\"\n"
     ]
    }
   ],
   "source": [
    "%%bash\n",
    "# head -n 1 /anvil/projects/tdm/data/stackoverflow/unprocessed/2011.csv\n",
    "head -n 1 /anvil/projects/tdm/data/stackoverflow/unprocessed/2011.csv | tr \",\" \"\\n\" | wc -l\n",
    "\n",
    "\n",
    "head -n 1 /anvil/projects/tdm/data/stackoverflow/unprocessed/2011.csv | tr \",\" \"\\n\" | head -n 100"
   ]
  },
  {
   "cell_type": "markdown",
   "id": "0de50c38",
   "metadata": {},
   "source": [
    "I notice that `tr` was unable to properly replace the comma with newlines, and `wc -l` still returned 191221 for the line count because it replaced the ends of the rows with newlines.\n",
    "\n",
    "`tr` was able to properly display and replace the commas with new lines, and the line count was more accurate."
   ]
  },
  {
   "cell_type": "markdown",
   "id": "1ff61db1",
   "metadata": {},
   "source": [
    "# Question 2"
   ]
  },
  {
   "cell_type": "code",
   "execution_count": 2,
   "id": "b79ce399",
   "metadata": {
    "vscode": {
     "languageId": "shellscript"
    }
   },
   "outputs": [
    {
     "name": "stdout",
     "output_type": "stream",
     "text": [
      "19\n",
      "24\n"
     ]
    }
   ],
   "source": [
    "%%bash\n",
    "head -n 1 /anvil/projects/tdm/data/stackoverflow/processed/2011.csv | tr \";\" \"\\n\" | wc -l\n",
    "\n",
    "head -n 1 /anvil/projects/tdm/data/iowa_liquor_sales/iowa_liquor_sales_cleaner.csv | tr \";\" \"\\n\" | wc -l"
   ]
  },
  {
   "cell_type": "markdown",
   "id": "4a4660a6",
   "metadata": {},
   "source": [
    "`2011.csv` has 19 columns.\n",
    "\n",
    "`iowa_liquor_sales_cleaner.csv` has 24 columns."
   ]
  },
  {
   "cell_type": "markdown",
   "id": "0044d37e",
   "metadata": {},
   "source": [
    "# Question 3"
   ]
  },
  {
   "cell_type": "markdown",
   "id": "83299668",
   "metadata": {},
   "source": [
    "### Bottles sold:"
   ]
  },
  {
   "cell_type": "code",
   "execution_count": 5,
   "id": "7e220fc1",
   "metadata": {
    "vscode": {
     "languageId": "shellscript"
    }
   },
   "outputs": [
    {
     "name": "stdout",
     "output_type": "stream",
     "text": [
      "5280\n",
      "6600\n",
      "11124\n",
      "15000\n",
      "15000\n"
     ]
    }
   ],
   "source": [
    "%%bash\n",
    "cut -d \";\" -f 21 /anvil/projects/tdm/data/iowa_liquor_sales/iowa_liquor_sales_cleaner.csv | sort -n | tail -n 5\n"
   ]
  },
  {
   "cell_type": "markdown",
   "id": "774b3a97",
   "metadata": {},
   "source": [
    "### Gallons sold:"
   ]
  },
  {
   "cell_type": "code",
   "execution_count": 6,
   "id": "e9c63660",
   "metadata": {
    "vscode": {
     "languageId": "shellscript"
    }
   },
   "outputs": [
    {
     "ename": "SyntaxError",
     "evalue": "invalid syntax (268557555.py, line 1)",
     "output_type": "error",
     "traceback": [
      "\u001b[0;36m  Input \u001b[0;32mIn [6]\u001b[0;36m\u001b[0m\n\u001b[0;31m    cut -d \";\" -f 24 /anvil/projects/tdm/data/iowa_liquor_sales/iowa_liquor_sales_cleaner.csv | sort -n | tail -n 5\u001b[0m\n\u001b[0m           ^\u001b[0m\n\u001b[0;31mSyntaxError\u001b[0m\u001b[0;31m:\u001b[0m invalid syntax\n"
     ]
    }
   ],
   "source": [
    "cut -d \";\" -f 24 /anvil/projects/tdm/data/iowa_liquor_sales/iowa_liquor_sales_cleaner.csv | sort -n | tail -n 5"
   ]
  },
  {
   "cell_type": "code",
   "execution_count": null,
   "id": "e1135cb7",
   "metadata": {
    "vscode": {
     "languageId": "shellscript"
    }
   },
   "outputs": [],
   "source": []
  },
  {
   "cell_type": "markdown",
   "id": "2b4b3eed",
   "metadata": {},
   "source": [
    "All the 5 largest orders are from the \"Hy-Vee #3 / BDI / Des Moines\" store."
   ]
  },
  {
   "cell_type": "markdown",
   "id": "72b6af46",
   "metadata": {},
   "source": [
    "# Question 4"
   ]
  },
  {
   "cell_type": "code",
   "execution_count": 1,
   "id": "5c0fd995",
   "metadata": {
    "vscode": {
     "languageId": "shellscript"
    }
   },
   "outputs": [
    {
     "name": "stdout",
     "output_type": "stream",
     "text": [
      "      1 \n",
      "      1 $144.00\n",
      "     14 0\n",
      "      1 Bottle Volume (ml)\n",
      "      1 12\n",
      "      1 15\n",
      "   3906 50\n",
      "  39299 100\n",
      "    592 150\n",
      " 440717 200\n",
      "    727 250\n",
      "  61639 300\n",
      "    130 301\n",
      "1224058 375\n",
      "   1004 400\n",
      " 523506 500\n",
      "    349 502\n",
      " 141093 600\n",
      "    187 603\n",
      "5719504 750\n",
      "  13723 800\n",
      "   1235 850\n",
      "    708 900\n",
      "    427 950\n",
      "1787513 1000\n",
      "    303 1125\n",
      "  13949 1200\n",
      "    112 1500\n",
      "      3 1508\n",
      "2550403 1750\n",
      "     29 1800\n",
      "    762 1850\n",
      "    516 1950\n",
      "     23 2000\n",
      "    143 2250\n",
      "   4600 2400\n",
      "     42 2550\n",
      "  58173 3000\n",
      "    301 3500\n",
      "    161 3600\n",
      "     29 3900\n",
      "     49 4500\n",
      "    476 4800\n",
      "    603 6000\n",
      "      1 7580\n",
      "      3 9000\n",
      "     24 31500\n",
      "      8 140000\n",
      "      3 180000\n",
      "      2 189000\n",
      "      1 225000\n",
      "     24 378000\n"
     ]
    }
   ],
   "source": [
    "%%bash\n",
    "\n",
    "cat /anvil/projects/tdm/data/iowa_liquor_sales/iowa_liquor_sales_cleaner.csv | cut -d \";\" -f 18 | sort -n | uniq -c"
   ]
  },
  {
   "cell_type": "markdown",
   "id": "4be266f1",
   "metadata": {},
   "source": [
    "Ignoring the top of the output above, there is a distribution of various bottle sizes in the output. "
   ]
  },
  {
   "cell_type": "markdown",
   "id": "b66f04fe",
   "metadata": {},
   "source": [
    "# Question 5"
   ]
  },
  {
   "cell_type": "code",
   "execution_count": 2,
   "id": "045836ef",
   "metadata": {
    "vscode": {
     "languageId": "shellscript"
    }
   },
   "outputs": [
    {
     "name": "stdout",
     "output_type": "stream",
     "text": [
      "   3090 0\n",
      "5958386 1\n",
      "1966706 2\n",
      " 578190 3\n",
      " 622197 4\n",
      " 702561 5\n",
      " 643977 6\n",
      " 740031 7\n",
      " 550582 8\n",
      " 825346 9\n"
     ]
    }
   ],
   "source": [
    "%%bash\n",
    "cat /anvil/projects/tdm/data/iowa_liquor_sales/iowa_liquor_sales_cleaner.csv | cut -d \";\" -f 20 | cut -c 2 | sort | uniq -c | tail -n 11 | head -n 10"
   ]
  },
  {
   "cell_type": "markdown",
   "id": "d91d664e",
   "metadata": {},
   "source": [
    "This distribution appears to be following the distribution, only up until 2 and 3. Everything past that appears to be rising a little, indicating that the stores might be pricing many items starting with 1 to make them appear smaller, and then similarly towards 8 and 9 so that those liquors are one digit smaller than the next order of 10 (EX: $80 vs $100, though $80 starts with a higher digit, it has less digits total.)"
   ]
  }
 ],
 "metadata": {
  "kernelspec": {
   "display_name": "Python 3.9.13 ('hackathon')",
   "language": "python",
   "name": "python3"
  },
  "language_info": {
   "codemirror_mode": {
    "name": "ipython",
    "version": 3
   },
   "file_extension": ".py",
   "mimetype": "text/x-python",
   "name": "python",
   "nbconvert_exporter": "python",
   "pygments_lexer": "ipython3",
   "version": "3.9.13"
  },
  "vscode": {
   "interpreter": {
    "hash": "47ef2d07cb13a693d245cfa793efe84c15311510376b5d2ca6c4836778ee5d6c"
   }
  }
 },
 "nbformat": 4,
 "nbformat_minor": 5
}
