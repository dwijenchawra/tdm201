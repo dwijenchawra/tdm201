{
 "cells": [
  {
   "cell_type": "markdown",
   "id": "be02a957-7133-4d02-818e-fedeb3cecb05",
   "metadata": {},
   "source": [
    "# Project 1 -- Dwijen Chawra"
   ]
  },
  {
   "cell_type": "markdown",
   "id": "a1228853-dd19-4ab2-89e0-0394d7d72de3",
   "metadata": {},
   "source": [
    "**Collaboration:** None\n"
   ]
  },
  {
   "cell_type": "markdown",
   "id": "6180e742-8e39-4698-98ff-5b00c8cf8ea0",
   "metadata": {},
   "source": [
    "## Question 1"
   ]
  },
  {
   "cell_type": "code",
   "execution_count": 1,
   "id": "f9fe8bf6",
   "metadata": {},
   "outputs": [
    {
     "name": "stderr",
     "output_type": "stream",
     "text": [
      "During startup - Warning messages:\n",
      "1: Setting LC_COLLATE failed, using \"C\" \n",
      "2: Setting LC_TIME failed, using \"C\" \n",
      "3: Setting LC_MESSAGES failed, using \"C\" \n",
      "4: Setting LC_MONETARY failed, using \"C\" \n",
      "5: Setting LC_PAPER failed, using \"C\" \n",
      "6: Setting LC_MEASUREMENT failed, using \"C\" \n"
     ]
    }
   ],
   "source": [
    "%load_ext rpy2.ipython\n",
    "%load_ext sql"
   ]
  },
  {
   "cell_type": "code",
   "execution_count": 2,
   "id": "49445606-d363-41b4-b479-e319a9a84c01",
   "metadata": {},
   "outputs": [
    {
     "name": "stdout",
     "output_type": "stream",
     "text": [
      "[1] \"cores\"\n",
      "[1] 134144\n",
      "[1] \"memory\"\n",
      "[1] 296192\n",
      "[1] \"gigabytes\"\n"
     ]
    }
   ],
   "source": [
    "%%R\n",
    "print(\"cores\")\n",
    "print(128*1000 + 32*128 + 128*16)\n",
    "\n",
    "print(\"memory\")\n",
    "print(1000*256 + 32*1000 + 16*512)\n",
    "print(\"gigabytes\")\n"
   ]
  },
  {
   "cell_type": "markdown",
   "id": "b456e57c-4a12-464b-999a-ef2df5af80c1",
   "metadata": {},
   "source": [
    "My computer has 8 cores, 6 performance and 2 efficiency cores.\n",
    "I also have 32 GB memory on the computer."
   ]
  },
  {
   "cell_type": "markdown",
   "id": "fc601975-35ed-4680-a4e1-0273ee3cc047",
   "metadata": {},
   "source": [
    "## Question 2"
   ]
  },
  {
   "cell_type": "code",
   "execution_count": 3,
   "id": "a16336a1-1ef0-41e8-bc7c-49387db27497",
   "metadata": {},
   "outputs": [
    {
     "name": "stdout",
     "output_type": "stream",
     "text": [
      "a241.anvil.rcac.purdue.edu\n"
     ]
    }
   ],
   "source": [
    "import socket\n",
    "print(socket.gethostname())"
   ]
  },
  {
   "cell_type": "markdown",
   "id": "14dc22d4-ddc3-41cc-a91a-cb0025bc0c80",
   "metadata": {},
   "source": [
    "a240.anvil.rcac.purdue.edu"
   ]
  },
  {
   "cell_type": "markdown",
   "id": "8e586edd-ff26-4ce2-8f6b-2424b26f2929",
   "metadata": {},
   "source": [
    "## Question 3"
   ]
  },
  {
   "cell_type": "code",
   "execution_count": 4,
   "id": "bbe0f40d-9655-4653-9ca8-886bdb61cb91",
   "metadata": {},
   "outputs": [
    {
     "name": "stdout",
     "output_type": "stream",
     "text": [
      "My list is: [1, 2, 3]\n"
     ]
    }
   ],
   "source": [
    "my_list = [1, 2, 3]\n",
    "print(f'My list is: {my_list}')\n",
    "\n",
    "%sql sqlite:////anvil/projects/tdm/data/movies_and_tv/imdb.db\n",
    "\n"
   ]
  },
  {
   "cell_type": "code",
   "execution_count": 5,
   "id": "14ddeca1-61cd-43fb-8ea9-07ececeb70c9",
   "metadata": {},
   "outputs": [
    {
     "name": "stdout",
     "output_type": "stream",
     "text": [
      " * sqlite:////anvil/projects/tdm/data/movies_and_tv/imdb.db\n",
      "Done.\n"
     ]
    },
    {
     "data": {
      "text/html": [
       "<table>\n",
       "    <tr>\n",
       "        <th>title_id</th>\n",
       "        <th>type</th>\n",
       "        <th>primary_title</th>\n",
       "        <th>original_title</th>\n",
       "        <th>is_adult</th>\n",
       "        <th>premiered</th>\n",
       "        <th>ended</th>\n",
       "        <th>runtime_minutes</th>\n",
       "        <th>genres</th>\n",
       "    </tr>\n",
       "    <tr>\n",
       "        <td>tt0000001</td>\n",
       "        <td>short</td>\n",
       "        <td>Carmencita</td>\n",
       "        <td>Carmencita</td>\n",
       "        <td>0</td>\n",
       "        <td>1894</td>\n",
       "        <td>None</td>\n",
       "        <td>1</td>\n",
       "        <td>Documentary,Short</td>\n",
       "    </tr>\n",
       "    <tr>\n",
       "        <td>tt0000002</td>\n",
       "        <td>short</td>\n",
       "        <td>Le clown et ses chiens</td>\n",
       "        <td>Le clown et ses chiens</td>\n",
       "        <td>0</td>\n",
       "        <td>1892</td>\n",
       "        <td>None</td>\n",
       "        <td>5</td>\n",
       "        <td>Animation,Short</td>\n",
       "    </tr>\n",
       "    <tr>\n",
       "        <td>tt0000003</td>\n",
       "        <td>short</td>\n",
       "        <td>Pauvre Pierrot</td>\n",
       "        <td>Pauvre Pierrot</td>\n",
       "        <td>0</td>\n",
       "        <td>1892</td>\n",
       "        <td>None</td>\n",
       "        <td>4</td>\n",
       "        <td>Animation,Comedy,Romance</td>\n",
       "    </tr>\n",
       "    <tr>\n",
       "        <td>tt0000004</td>\n",
       "        <td>short</td>\n",
       "        <td>Un bon bock</td>\n",
       "        <td>Un bon bock</td>\n",
       "        <td>0</td>\n",
       "        <td>1892</td>\n",
       "        <td>None</td>\n",
       "        <td>12</td>\n",
       "        <td>Animation,Short</td>\n",
       "    </tr>\n",
       "    <tr>\n",
       "        <td>tt0000005</td>\n",
       "        <td>short</td>\n",
       "        <td>Blacksmith Scene</td>\n",
       "        <td>Blacksmith Scene</td>\n",
       "        <td>0</td>\n",
       "        <td>1893</td>\n",
       "        <td>None</td>\n",
       "        <td>1</td>\n",
       "        <td>Comedy,Short</td>\n",
       "    </tr>\n",
       "</table>"
      ],
      "text/plain": [
       "[('tt0000001', 'short', 'Carmencita', 'Carmencita', 0, 1894, None, 1, 'Documentary,Short'),\n",
       " ('tt0000002', 'short', 'Le clown et ses chiens', 'Le clown et ses chiens', 0, 1892, None, 5, 'Animation,Short'),\n",
       " ('tt0000003', 'short', 'Pauvre Pierrot', 'Pauvre Pierrot', 0, 1892, None, 4, 'Animation,Comedy,Romance'),\n",
       " ('tt0000004', 'short', 'Un bon bock', 'Un bon bock', 0, 1892, None, 12, 'Animation,Short'),\n",
       " ('tt0000005', 'short', 'Blacksmith Scene', 'Blacksmith Scene', 0, 1893, None, 1, 'Comedy,Short')]"
      ]
     },
     "execution_count": 5,
     "metadata": {},
     "output_type": "execute_result"
    }
   ],
   "source": [
    "%%sql\n",
    "\n",
    "SELECT * FROM titles LIMIT 5;\n"
   ]
  },
  {
   "cell_type": "code",
   "execution_count": 6,
   "id": "8b819a24-6b53-4aa4-a902-236cafd2d65a",
   "metadata": {},
   "outputs": [
    {
     "name": "stdout",
     "output_type": "stream",
     "text": [
      "Miles: 3263678656 \n",
      "Kilometers:5.25238e+09\n"
     ]
    }
   ],
   "source": [
    "%%bash\n",
    "\n",
    "awk -F, '{miles=miles+$19}END{print \"Miles: \" miles, \"\\nKilometers:\" miles*1.609344}' /anvil/projects/tdm/data/flights/subset/1991.csv\n"
   ]
  },
  {
   "cell_type": "markdown",
   "id": "da22f29c-d245-4d2b-9fc1-ca14cb6087d9",
   "metadata": {
    "tags": []
   },
   "source": [
    "## Question 4"
   ]
  },
  {
   "cell_type": "markdown",
   "id": "0d552245-b4d6-474a-9cc9-fa7b8e674d55",
   "metadata": {},
   "source": [
    "5 code cells\n",
    "8 markdown cells"
   ]
  },
  {
   "cell_type": "markdown",
   "id": "88c9cdac-3e92-498f-83fa-e089bfc44ac8",
   "metadata": {
    "tags": []
   },
   "source": [
    "## Question 5"
   ]
  },
  {
   "cell_type": "markdown",
   "id": "9fbf00fb-2418-460f-ae94-2a32b0c28952",
   "metadata": {},
   "source": [
    "My academic interests include:\n",
    "1. programming\n",
    "2. algorithms\n",
    "3. machine learning\n",
    "\n",
    "\n",
    "Most interested to\n",
    "- *machine learning*\n",
    "- **algorithms**\n",
    "- `programming`\n",
    "\n",
    "least interested"
   ]
  },
  {
   "cell_type": "markdown",
   "id": "3a906365-61f0-425e-bd85-092260989fe8",
   "metadata": {},
   "source": [
    "## Question 6"
   ]
  },
  {
   "cell_type": "markdown",
   "id": "562f0206-21dc-4bcf-a961-26db929df84b",
   "metadata": {
    "tags": []
   },
   "source": [
    "### About\n",
    "I'm currently a senior studying at Fremont High School. I’m an innovative thinker, and avid learner, and incredibly passionate about all things microcomputers, robotics, machine learning, and artificial intelligence. \n",
    "\n",
    "Check out my [LinkedIn](https://www.linkedin.com/in/dchawra/)!\n",
    "\n",
    "I find AI/ML profoundly interesting because of the sheer applicability in our daily lives and how it has enabled people to accomplish more, whether it is accurate medical diagnoses, financial modeling, or autonomous driving, the possibilities are endless. \n",
    "\n",
    "I believe that the future of technology lies in AI, and I strive to improve my skills to advance further into this field. "
   ]
  },
  {
   "cell_type": "markdown",
   "id": "45bbdc02-1ff1-456c-904d-158a370ada24",
   "metadata": {},
   "source": [
    "## Question 7\n",
    "\n",
    "This is the project with Python and R to analyze data from `/anvil/projects/tdm/data`"
   ]
  },
  {
   "cell_type": "code",
   "execution_count": 7,
   "id": "0849235e",
   "metadata": {},
   "outputs": [],
   "source": [
    "\n",
    "# print(inputData.iloc[200][\"country\"] == inputData.iloc[200][\"country\"])\n",
    "# inputData.iloc[201][\"country\"] == inputData.iloc[201][\"country\"]\n"
   ]
  },
  {
   "cell_type": "code",
   "execution_count": 8,
   "id": "c769466b-272c-4bf5-b7f5-9fa9ca4de1d9",
   "metadata": {},
   "outputs": [
    {
     "name": "stdout",
     "output_type": "stream",
     "text": [
      "            id                                  name  brewery_id state  \\\n",
      "0       202522                        Olde Cogitator        2199    CA   \n",
      "1        82352  Konrads Stout Russian Imperial Stout       18604   NaN   \n",
      "2       214879                        Scottish Right       44306    IN   \n",
      "3       320009               MegaMeow Imperial Stout        4378    WA   \n",
      "4       246438                       Peaches-N-Cream       44617    PA   \n",
      "...        ...                                   ...         ...   ...   \n",
      "358868  267703              Collective Project: Gose       32763    ON   \n",
      "358869  300013                                Tripel       50238   NaN   \n",
      "358870  187618                                 RIPTA       34665    RI   \n",
      "358871  283124                           Rumble Fish       29238    MI   \n",
      "358872  267484                         Joie De Vivre       25032    CA   \n",
      "\n",
      "       country                    style           availability   abv  \\\n",
      "0           US    English Oatmeal Stout               Rotating   7.3   \n",
      "1           NO   Russian Imperial Stout               Rotating  10.4   \n",
      "2           US             Scottish Ale             Year-round   4.0   \n",
      "3           US  American Imperial Stout                 Winter   8.7   \n",
      "4           US       American Cream Ale               Rotating   5.1   \n",
      "...        ...                      ...                    ...   ...   \n",
      "358868      CA             Leipzig Gose  Limited (brewed once)   5.0   \n",
      "358869      BE           Belgian Tripel             Year-round   8.0   \n",
      "358870      US           Belgian Tripel               Rotating   9.5   \n",
      "358871      US    American Imperial IPA               Rotating   8.3   \n",
      "358872      US           Belgian Saison  Limited (brewed once)   6.6   \n",
      "\n",
      "                                                    notes retired  \n",
      "0                                  No notes at this time.       f  \n",
      "1                                  No notes at this time.       f  \n",
      "2                                  No notes at this time.       t  \n",
      "3                                    Every time this year       f  \n",
      "4                                  No notes at this time.       f  \n",
      "...                                                   ...     ...  \n",
      "358868  Our Gose is an unfiltered wheat beer made with...       t  \n",
      "358869                             No notes at this time.       f  \n",
      "358870                             No notes at this time.       f  \n",
      "358871                             No notes at this time.       f  \n",
      "358872                             No notes at this time.       t  \n",
      "\n",
      "[358873 rows x 10 columns]\n",
      "{'US': [6.722863416359416, 231814], 'NO': [6.4032054794520255, 1095], 'JP': [5.682332490518327, 1582], 'IT': [6.400459770114957, 2523], 'CA': [6.096916670822318, 20053], 'AU': [5.693605908731196, 3791], 'SE': [6.029537881169449, 3181], 'PL': [5.99169577464789, 1775], 'CR': [5.635849056603775, 106], 'DE': [5.543969440832275, 6152], 'BE': [7.1585324700804565, 5097], 'BR': [6.111180086047938, 1627], 'GB': [5.408422432629256, 13730], 'ES': [6.25123209169054, 2094], 'RU': [5.8826568959038, 2661], 'IE': [5.567249747219416, 989], 'DK': [7.1595978905735045, 3034], 'FI': [5.499059011164261, 627], 'NL': [7.532011799410041, 3390], 'IN': [5.987132352941173, 136], 'FR': [6.103705299439897, 2321], 'MX': [5.8585768261964715, 794], 'AM': [5.087500000000001, 32], 'PT': [6.446597633136094, 338], 'RO': [5.730945945945949, 370], 'AR': [5.983190184049085, 326], 'CZ': [5.217756788665884, 847], 'LV': [5.447159090909093, 176], 'NZ': [6.091605902777776, 1152], 'PY': [5.0, 1], 'CL': [5.983181818181817, 220], 'CH': [6.279186046511626, 602], 'UA': [5.495614035087718, 342], 'CN': [5.384042553191486, 282], 'KZ': [4.875609756097558, 41], 'LT': [5.545421133231232, 653], 'HU': [5.802955082742316, 423], 'AT': [5.684022004889959, 818], 'RS': [5.1999999999999975, 128], 'ID': [5.148333333333335, 24], 'HK': [5.9468085106382995, 94], 'PH': [6.127666666666668, 150], 'LA': [4.992857142857143, 14], 'RE': [5.4818181818181815, 22], 'KG': [4.093333333333334, 15], 'ZW': [4.65, 18], 'MU': [6.281818181818181, 22], 'HR': [4.956435643564358, 101], 'IL': [5.873818181818179, 165], 'GR': [5.679906542056075, 214], 'NI': [5.415151515151516, 33], 'MN': [5.574999999999999, 12], 'PE': [6.135365853658537, 82], 'VN': [6.00823170731707, 164], 'DO': [4.444444444444444, 9], 'PA': [5.665000000000002, 80], 'EE': [7.260412979351037, 339], 'BY': [4.751578947368416, 95], 'ZA': [5.265853658536586, 287], 'TR': [5.273437500000002, 64], 'KR': [5.503640167364016, 239], 'SG': [5.306956521739132, 115], 'LB': [5.026666666666666, 27], 'FO': [6.339999999999999, 20], 'SI': [5.490865384615383, 104], 'GE': [4.832692307692306, 52], 'VE': [4.8375, 16], 'LU': [5.536666666666668, 60], 'GF': [5.875, 4], 'MK': [4.761111111111111, 18], 'MD': [5.278048780487806, 41], 'BG': [4.991532258064515, 124], 'UY': [5.570238095238094, 84], 'TN': [5.0888888888888895, 9], 'IS': [6.465048543689321, 206], 'PS': [5.784615384615384, 13], 'CY': [4.88611111111111, 36], 'CO': [4.853870967741936, 93], 'PG': [5.65, 4], 'TZ': [5.352941176470587, 17], 'AZ': [4.861538461538462, 13], 'SK': [5.131395348837208, 86], 'GT': [4.983333333333334, 36], 'JO': [6.559375, 16], 'VI': [6.154545454545455, 22], 'TH': [5.20181818181818, 55], 'BB': [4.3933333333333335, 15], 'PF': [4.92, 5], 'AD': [6.188888888888889, 9], 'PR': [5.815, 70], 'KP': [4.636363636363637, 11], 'GH': [5.677777777777778, 9], 'IM': [4.383333333333335, 36], 'KH': [5.7109589041095905, 73], 'SV': [4.668181818181818, 22], 'LK': [7.189473684210524, 19], 'UZ': [4.710714285714286, 28], 'TW': [4.973684210526318, 76], 'NG': [4.9125000000000005, 8], 'KE': [5.222222222222221, 54], 'EC': [5.595161290322581, 62], 'MG': [4.933333333333334, 12], 'JE': [4.536363636363637, 22], 'HT': [5.6, 1], 'SC': [5.95, 2], 'GL': [5.629499999999999, 20], 'MZ': [5.114285714285714, 7], 'GD': [5.966666666666666, 9], 'ME': [5.045454545454546, 11], 'BS': [5.739999999999999, 24], 'CU': [4.7272727272727275, 11], 'BM': [5.9, 8], 'GN': [5.8, 1], 'ET': [4.940625, 16], 'MT': [4.9607142857142845, 28], 'BD': [4.9, 2], 'MM': [6.381818181818181, 11], 'SM': [5.427272727272729, 11], 'JM': [5.902777777777777, 18], 'GU': [5.822222222222222, 9], 'NP': [5.876086956521739, 23], 'NC': [5.32, 5], 'DZ': [5.3875, 12], 'LC': [5.090909090909091, 11], 'TT': [3.852631578947368, 19], 'AG': [5.199999999999999, 2], 'UG': [5.281818181818181, 11], 'MA': [5.7, 6], 'HN': [5.281818181818182, 11], 'CV': [6.050000000000001, 4], 'MW': [4.466666666666666, 3], 'GG': [4.545454545454546, 11], 'LS': [4.8, 1], 'BO': [5.042857142857143, 21], 'FJ': [5.075, 8], 'BA': [5.452, 30], 'TC': [5.449999999999999, 8], 'MQ': [4.666666666666667, 3], 'WS': [5.75, 4], 'BJ': [4.8, 3], 'AO': [4.75, 2], 'GP': [4.866666666666666, 3], 'KY': [5.23625, 8], 'ER': [4.833333333333333, 3], 'MY': [5.16, 5], 'PK': [6.5, 4], 'EG': [6.072, 25], 'AL': [4.700000000000002, 14], 'RW': [5.525, 4], 'BZ': [5.0, 9], 'SN': [4.7, 2], 'YT': [5.5, 1], 'DM': [5.0, 1], 'MC': [5.28, 5], 'GQ': [4.6, 1], 'CG': [5.66, 5], 'PW': [6.1, 5], 'SY': [4.05, 2], 'CK': [5.166666666666667, 3], 'AW': [5.6, 4], 'VU': [4.9, 7], 'LI': [5.1916666666666655, 12], 'CW': [3.0, 4], 'BW': [3.5, 1], 'TG': [5.333333333333333, 3], 'TD': [5.199999999999999, 2], 'MO': [4.0, 1], 'CI': [4.9, 2], 'AE': [4.69, 1], 'BT': [6.0, 7], 'SB': [5.2, 2], 'TJ': [4.0, 1], 'SR': [5.25, 4], 'GM': [5.1, 2], 'SZ': [3.6500000000000004, 4], 'ZM': [4.333333333333333, 3], 'IQ': [5.0, 2], 'TM': [4.066666666666666, 3], 'VC': [6.15, 2], 'TO': [5.0, 1], 'CM': [5.0, 2], 'GW': [5.1, 1], 'BF': [4.2, 2], 'GA': [4.5, 1], 'CF': [5.2, 1], 'SS': [5.0, 1]}\n"
     ]
    }
   ],
   "source": [
    "#Python\n",
    "\n",
    "import pandas as pd\n",
    "import time\n",
    "\n",
    "inputData = pd.read_csv(\"data_beer.csv\")\n",
    "print(inputData)\n",
    "\n",
    "countries = inputData[\"country\"]\n",
    "abv = inputData[\"abv\"]\n",
    "dataDict = {}\n",
    "\n",
    "for i in range(len(countries)):\n",
    "    curr = countries[i]\n",
    "    if abv[i] != abv[i] or curr != curr:\n",
    "        continue\n",
    "\n",
    "    if curr not in dataDict:\n",
    "        dataDict[curr] = [abv[i], 1]\n",
    "    else:\n",
    "        try:\n",
    "            arr = dataDict[curr]\n",
    "            arr[0] = ((arr[0] * arr[1]) + abv[i]) / (arr[1] + 1)\n",
    "            arr[1] += 1\n",
    "        except:\n",
    "            print(curr)\n",
    "            print(abv[i])\n",
    "            print(type(abv[i]))\n",
    "\n",
    "print(dataDict)\n",
    "\n",
    "\n"
   ]
  },
  {
   "cell_type": "code",
   "execution_count": 9,
   "id": "a2d6e9b8-4afe-4085-be6b-f184031de42b",
   "metadata": {},
   "outputs": [
    {
     "name": "stdout",
     "output_type": "stream",
     "text": [
      "plotting\n"
     ]
    },
    {
     "data": {
      "image/png": "[encoded data removed]",
      "text/plain": [
       "<Figure size 432x288 with 1 Axes>"
      ]
     },
     "metadata": {
      "needs_background": "light"
     },
     "output_type": "display_data"
    },
    {
     "name": "stdout",
     "output_type": "stream",
     "text": [
      "done\n"
     ]
    }
   ],
   "source": [
    "import matplotlib.pyplot as plt\n",
    "\n",
    "abvList = [dataDict[x][0] for x in dataDict]\n",
    "\n",
    "print(\"plotting\")\n",
    "plt.hist(abvList)\n",
    "plt.xlabel('ABV')\n",
    "plt.ylabel('Number')\n",
    "plt.title('Histogram of Beer ABV')\n",
    "plt.show()\n",
    "print(\"done\")\n"
   ]
  },
  {
   "cell_type": "markdown",
   "id": "ed667650",
   "metadata": {},
   "source": [
    "The second histogram is useless, I was just fiddling with multiple arguments in R."
   ]
  },
  {
   "cell_type": "code",
   "execution_count": 10,
   "id": "c39dbd41",
   "metadata": {},
   "outputs": [
    {
     "name": "stdout",
     "output_type": "stream",
     "text": [
      "      id                                 name brewery_id state country\n",
      "1 202522                       Olde Cogitator       2199    CA      US\n",
      "2  82352 Konrads Stout Russian Imperial Stout      18604            NO\n",
      "3 214879                       Scottish Right      44306    IN      US\n",
      "4 320009              MegaMeow Imperial Stout       4378    WA      US\n",
      "5 246438                      Peaches-N-Cream      44617    PA      US\n",
      "                    style availability  abv                  notes retired\n",
      "1   English Oatmeal Stout     Rotating  7.3 No notes at this time.       f\n",
      "2  Russian Imperial Stout     Rotating 10.4 No notes at this time.       f\n",
      "3            Scottish Ale   Year-round  4.0 No notes at this time.       t\n",
      "4 American Imperial Stout       Winter  8.7   Every time this year       f\n",
      "5      American Cream Ale     Rotating  5.1 No notes at this time.       f\n",
      "'data.frame':\t358873 obs. of  10 variables:\n",
      " $ id          : int  202522 82352 214879 320009 246438 8036 108605 345382 255286 29556 ...\n",
      " $ name        : chr  \"Olde Cogitator\" \"Konrads Stout Russian Imperial Stout\" \"Scottish Right\" \"MegaMeow Imperial Stout\" ...\n",
      " $ brewery_id  : int  2199 18604 44306 4378 44617 3469 22598 45567 11203 8203 ...\n",
      " $ state       : chr  \"CA\" \"\" \"IN\" \"WA\" ...\n",
      " $ country     : chr  \"US\" \"NO\" \"US\" \"US\" ...\n",
      " $ style       : chr  \"English Oatmeal Stout\" \"Russian Imperial Stout\" \"Scottish Ale\" \"American Imperial Stout\" ...\n",
      " $ availability: chr  \" Rotating\" \" Rotating\" \" Year-round\" \" Winter\" ...\n",
      " $ abv         : num  7.3 10.4 4 8.7 5.1 5.5 5.6 6.5 4.3 7.5 ...\n",
      " $ notes       : chr  \"No notes at this time.\" \"No notes at this time.\" \"No notes at this time.\" \"Every time this year\" ...\n",
      " $ retired     : chr  \"f\" \"f\" \"t\" \"f\" ...\n",
      "NULL\n",
      "[1] \"abv\"\n",
      "  [1]  4.50  8.00  8.50  5.50  7.30  6.70  6.50 13.10  7.00  8.90  6.00  6.10\n",
      " [13]  5.00  5.20    NA    NA  6.70 10.10 12.00  6.00  5.20  5.20    NA    NA\n",
      " [25]  7.00  4.90  4.50    NA  5.80  6.70  6.70  8.00  4.20  5.40 10.50  8.70\n",
      " [37]    NA  4.73  6.00  5.00 12.00  6.75  6.00  5.20  8.70  6.40  4.80    NA\n",
      " [49]    NA  6.00  5.50  7.00  5.80 12.00  4.80  9.75  4.80  6.00  6.00  4.50\n",
      " [61]  5.50  5.50  7.20  5.60  4.00  7.90  7.50  5.50  6.60  5.00  6.00  5.30\n",
      " [73]  4.90  9.00 10.00  5.80  7.50  2.80  4.00    NA  5.20  6.00  5.00  5.40\n",
      " [85] 12.70  9.40  5.60  9.20 11.50  8.00  4.00  6.00  8.30  5.80  5.50  5.30\n",
      " [97]  5.00 10.50  9.00  6.00  4.20  6.00  4.70  6.80  6.50  5.60 16.20  4.40\n",
      "[109]  6.00  6.30  9.20  7.80    NA  4.10  6.00  6.60  6.80  4.00  6.90  6.20\n",
      "[121] 12.00 12.40  5.00  4.90    NA  6.20  3.80  9.10  7.00  9.50  5.20  7.20\n",
      "[133]  5.60  5.00  5.40  7.50  7.80  4.90  5.00    NA    NA  6.50    NA  6.10\n",
      "[145]  8.50  5.00  5.40  7.00  7.80  9.30  6.30  6.80  5.00  8.30    NA  6.00\n",
      "[157]  8.40  3.90    NA  5.50  8.80  7.50  7.30  4.20  4.90  6.00  4.80  5.50\n",
      "[169]  3.50  5.00  5.80    NA  4.10  9.50  8.50 11.50  4.90  4.00  4.80 14.00\n",
      "[181]  6.00  5.00  4.70 14.00  4.70  6.00    NA  5.60  6.50  9.00  6.00    NA\n",
      "[193]  4.50  9.40  5.00  7.50  4.80    NA  6.20    NA  5.70\n",
      "[1] 1e-02 1e+02\n",
      "  [1]  8.00  4.20  5.40 10.50  8.70  4.73  6.00  5.00 12.00  6.75  6.00  5.20\n",
      " [13]  8.70  6.40  4.80  6.00  5.50  7.00  5.80 12.00  4.80  9.75  4.80  6.00\n",
      " [25]  6.00  4.50  5.50  5.50  7.20  5.60  4.00  7.90  7.50  5.50  6.60  5.00\n",
      " [37]  6.00  5.30  4.90  9.00 10.00  5.80  7.50  2.80  4.00  5.20  6.00  5.00\n",
      " [49]  5.40 12.70  9.40  5.60  9.20 11.50  8.00  4.00  6.00  8.30  5.80  5.50\n",
      " [61]  5.30  5.00 10.50  9.00  6.00  4.20  6.00  4.70  6.80  6.50  5.60 16.20\n",
      " [73]  4.40  6.00  6.30  9.20  7.80  4.10  6.00  6.60  6.80  4.00  6.90  6.20\n",
      " [85] 12.00 12.40  5.00  4.90  6.20  3.80  9.10  7.00  9.50  5.20  7.20  5.60\n",
      " [97]  5.00  5.40  7.50  7.80  4.90  5.00  6.50  6.10  8.50  5.00  5.40  7.00\n",
      "[109]  7.80  9.30  6.30  6.80  5.00  8.30  6.00  8.40  3.90  5.50  8.80  7.50\n",
      "[121]  7.30  4.20  4.90  6.00  4.80  5.50  3.50  5.00  5.80  4.10  9.50  8.50\n",
      "[133] 11.50  4.90  4.00  4.80 14.00  6.00  5.00  4.70 14.00  4.70  6.00  5.60\n",
      "[145]  6.50  9.00  6.00  4.50  9.40  5.00  7.50  4.80  6.20  5.70  4.75 11.00\n",
      "[157]  5.50  5.50  5.20  5.10  6.00  6.50  5.50  4.50  6.00  4.70  8.50 10.00\n",
      "[169]  5.30  6.60  5.20  7.50  6.10  5.50  5.20  5.90  4.00 10.00  6.00  5.20\n",
      "[181] 13.00  7.50  5.60  5.80  8.60 10.80  6.50  5.80  6.00  6.20  6.00  5.50\n",
      "[193]  6.00  5.90  9.00  7.00  5.00 11.50  5.00  6.70  5.50\n",
      "[1] \"brewery_id\"\n",
      "  [1]  1513 28908 46778  7527 33491 50253 51053 13307 42879  6045 27035 43097\n",
      " [13]   556 12613  1620   952  3174  2743 13839 11056   103 17981   898 24880\n",
      " [25]   863 52393   671 30884  5706 29347  1550 38903 42249 28188 27917 41542\n",
      " [37] 30031 48210 45920  1912 32910  1154 45537 37820 32900 35025 30945 16285\n",
      " [49] 36710 34155 38302   301 41566 22513 19765 20680  3925 31724 25422  2294\n",
      " [61]  1390 29971 34962 46364   178 28192 24392 39879 27378 31066 31733 32409\n",
      " [73] 41849 45704 14952 33375 17981 31331 28178   467 49805 38397  1146 30265\n",
      " [85] 16504 28657 29747 28383  3268  9877 37910 38185 36113  2671 11371 29640\n",
      " [97] 30589 16295 50212 35209 30553 20789 47021 21683 33820 37042 16866 33966\n",
      "[109] 24656 33018 29671 53754 46008 28743 29854 44494 22513 36686 18564 29747\n",
      "[121]  1550   530  1177  5581 11141 25433   303  1659 28428  1457 38767  2100\n",
      "[133] 13382   155 22223   873 36073 43427 47203 47796  1471 24075 33013 25622\n",
      "[145] 38898 39455 48447 45230 49662 31481  6045   556  6994   812  5115  8776\n",
      "[157]  3835  4808 45955 51840 49662   470 34640 33108  1482 19476 43488 33735\n",
      "[169] 25314 29268 10485 16816  1090 34032 42560 40035 32846 18228  1145   130\n",
      "[181] 33886 34106 46991 18120 20776 13402 27273   273 11675 31059 51015 40030\n",
      "[193] 49405 43007 16205  6928 21153  4063   780 38228  4106\n",
      "[1]     1 54144\n",
      "  [1]  1513 28908 46778  7527 33491 50253 51053 13307 42879  6045 27035 43097\n",
      " [13]   556 12613  1620   952  3174  2743 13839 11056   103 17981   898 24880\n",
      " [25]   863 52393   671 30884  5706 29347  1550 38903 42249 28188 27917 41542\n",
      " [37] 30031 48210 45920  1912 32910  1154 45537 37820 32900 35025 30945 16285\n",
      " [49] 36710 34155 38302   301 41566 22513 19765 20680  3925 31724 25422  2294\n",
      " [61]  1390 29971 34962 46364   178 28192 24392 39879 27378 31066 31733 32409\n",
      " [73] 41849 45704 14952 33375 17981 31331 28178   467 49805 38397  1146 30265\n",
      " [85] 16504 28657 29747 28383  3268  9877 37910 38185 36113  2671 11371 29640\n",
      " [97] 30589 16295 50212 35209 30553 20789 47021 21683 33820 37042 16866 33966\n",
      "[109] 24656 33018 29671 53754 46008 28743 29854 44494 22513 36686 18564 29747\n",
      "[121]  1550   530  1177  5581 11141 25433   303  1659 28428  1457 38767  2100\n",
      "[133] 13382   155 22223   873 36073 43427 47203 47796  1471 24075 33013 25622\n",
      "[145] 38898 39455 48447 45230 49662 31481  6045   556  6994   812  5115  8776\n",
      "[157]  3835  4808 45955 51840 49662   470 34640 33108  1482 19476 43488 33735\n",
      "[169] 25314 29268 10485 16816  1090 34032 42560 40035 32846 18228  1145   130\n",
      "[181] 33886 34106 46991 18120 20776 13402 27273   273 11675 31059 51015 40030\n",
      "[193] 49405 43007 16205  6928 21153  4063   780 38228  4106\n"
     ]
    },
    {
     "data": {
      "image/png": "[encoded data removed]"
     },
     "metadata": {},
     "output_type": "display_data"
    },
    {
     "data": {
      "image/png": "[encoded data removed]"
     },
     "metadata": {},
     "output_type": "display_data"
    }
   ],
   "source": [
    "%%R\n",
    "\n",
    "data <- read.csv(\"data_beer.csv\")\n",
    "print(head(data, 5))\n",
    "print(str(data))\n",
    "\n",
    "generate_histogram_from <- function(df, ...){\n",
    "    cols <- list(...)\n",
    "    # print(df[,])\n",
    "\n",
    "\n",
    "    # print(head(df, 50))\n",
    "\n",
    "    # print(cols)\n",
    "    for (i in cols) {\n",
    "        print(i)\n",
    "        print(df[, i][200:400])\n",
    "        current_col <- df[, i][!is.na(df[, i])]\n",
    "        print(range(current_col))\n",
    "        print(current_col[200:400])\n",
    "        plot.new()\n",
    "        hist(current_col, plot = TRUE)\n",
    "    }\n",
    "\n",
    "}\n",
    "\n",
    "generate_histogram_from(data, \"abv\", \"brewery_id\")\n"
   ]
  }
 ],
 "metadata": {
  "kernelspec": {
   "display_name": "f2022-s2023",
   "language": "python",
   "name": "f2022-s2023"
  },
  "language_info": {
   "codemirror_mode": {
    "name": "ipython",
    "version": 3
   },
   "file_extension": ".py",
   "mimetype": "text/x-python",
   "name": "python",
   "nbconvert_exporter": "python",
   "pygments_lexer": "ipython3",
   "version": "3.10.5"
  }
 },
 "nbformat": 4,
 "nbformat_minor": 5
}
