{
 "cells": [
  {
   "cell_type": "markdown",
   "id": "be02a957-7133-4d02-818e-fedeb3cecb05",
   "metadata": {},
   "source": [
    "# Project 1 -- Dwijen Chawra"
   ]
  },
  {
   "cell_type": "markdown",
   "id": "a1228853-dd19-4ab2-89e0-0394d7d72de3",
   "metadata": {},
   "source": [
    "**Collaboration:** Friend1, Friend2\n",
    "    \n",
    "- Helped figuring out how to load the dataset.\n",
    "- Helped debug error with my plot."
   ]
  },
  {
   "cell_type": "code",
   "execution_count": 1,
   "id": "9076f4aa",
   "metadata": {
    "vscode": {
     "languageId": "python"
    }
   },
   "outputs": [
    {
     "name": "stderr",
     "output_type": "stream",
     "text": [
      "During startup - Warning messages:\n",
      "1: Setting LC_COLLATE failed, using \"C\" \n",
      "2: Setting LC_TIME failed, using \"C\" \n",
      "3: Setting LC_MESSAGES failed, using \"C\" \n",
      "4: Setting LC_MONETARY failed, using \"C\" \n",
      "5: Setting LC_PAPER failed, using \"C\" \n",
      "6: Setting LC_MEASUREMENT failed, using \"C\" \n"
     ]
    }
   ],
   "source": [
    "%load_ext rpy2.ipython\n",
    "%load_ext sql"
   ]
  },
  {
   "cell_type": "markdown",
   "id": "6180e742-8e39-4698-98ff-5b00c8cf8ea0",
   "metadata": {},
   "source": [
    "## Question 1"
   ]
  },
  {
   "cell_type": "markdown",
   "id": "aa70acd3",
   "metadata": {},
   "source": [
    "I am actually using my local Visual Studio code installation :D\n",
    "But I have already customized that to my liking!"
   ]
  },
  {
   "cell_type": "markdown",
   "id": "3151e897",
   "metadata": {},
   "source": [
    "# Question 2"
   ]
  },
  {
   "cell_type": "code",
   "execution_count": 3,
   "id": "e40d1a11",
   "metadata": {
    "vscode": {
     "languageId": "shellscript"
    }
   },
   "outputs": [
    {
     "name": "stdout",
     "output_type": "stream",
     "text": [
      "/home/x-dchawra\n"
     ]
    }
   ],
   "source": [
    "%%bash\n",
    "pwd"
   ]
  },
  {
   "cell_type": "markdown",
   "id": "f44b6e37",
   "metadata": {},
   "source": [
    "# Question 3"
   ]
  },
  {
   "cell_type": "code",
   "execution_count": 8,
   "id": "e40d1a11",
   "metadata": {
    "vscode": {
     "languageId": "shellscript"
    }
   },
   "outputs": [
    {
     "name": "stdout",
     "output_type": "stream",
     "text": [
      "/anvil/projects/tdm/data\n",
      "8451\n",
      "REEU\n",
      "airbnb\n",
      "amazon\n",
      "apple\n",
      "asadatafest\n",
      "bay_area_bike_share\n",
      "beer\n",
      "biology\n",
      "bosch\n",
      "chinook\n",
      "coco\n",
      "consumer_complaints\n",
      "craigslist\n",
      "death_records\n",
      "disney\n",
      "donerschoose\n",
      "election\n",
      "examples\n",
      "expedia\n",
      "fao\n",
      "fars\n",
      "flights\n",
      "forest\n",
      "gally\n",
      "goodreads\n",
      "hidden\n",
      "honr39900\n",
      "iowa_liquor_sales\n",
      "lahman\n",
      "movies_and_tv\n",
      "noaa\n",
      "okcupid\n",
      "olympics\n",
      "open_food_facts\n",
      "otc\n",
      "precip\n",
      "restaurant_recommendation\n",
      "scavenger_hunt\n",
      "sim\n",
      "spring2020\n",
      "stackoverflow\n",
      "taxi\n",
      "techcrunch\n",
      "whin\n",
      "woodstock.png\n",
      "yelp\n",
      "youtube\n",
      "zillow\n",
      "diagram.txt\n",
      "imdb-old.db\n",
      "imdb.db\n",
      "rotten_tomatoes_movies.csv\n",
      "rotten_tomatoes_reviews.csv\n",
      "the_office_dialogue.csv\n",
      "/home/x-dchawra\n"
     ]
    }
   ],
   "source": [
    "%%bash\n",
    "cd /anvil/projects/tdm/data\n",
    "echo $PWD\n",
    "ls\n",
    "ls movies_and_tv\n",
    "cd\n",
    "pwd\n"
   ]
  },
  {
   "cell_type": "markdown",
   "id": "0a0a3033",
   "metadata": {},
   "source": [
    "# Question 4"
   ]
  },
  {
   "cell_type": "code",
   "execution_count": 11,
   "id": "1b8e91de",
   "metadata": {
    "vscode": {
     "languageId": "shellscript"
    }
   },
   "outputs": [
    {
     "name": "stdout",
     "output_type": "stream",
     "text": [
      "/anvil/projects/tdm/opt/lmod\n",
      "/home/x-dchawra\n"
     ]
    }
   ],
   "source": [
    "%%bash\n",
    "cd /anvil/projects/tdm/opt/lmod\n",
    "echo $PWD\n",
    "\n",
    "cd ../../../../../home/x-dchawra/\n",
    "echo $PWD"
   ]
  },
  {
   "cell_type": "markdown",
   "id": "123a93ce",
   "metadata": {},
   "source": [
    "# Question 5"
   ]
  },
  {
   "cell_type": "code",
   "execution_count": 26,
   "id": "1b8e91de",
   "metadata": {
    "vscode": {
     "languageId": "shellscript"
    }
   },
   "outputs": [
    {
     "name": "stdout",
     "output_type": "stream",
     "text": [
      "/anvil/scratch/x-dchawra\n",
      "===============================================================================\n",
      " Language            Files        Lines         Code     Comments       Blanks\n",
      "===============================================================================\n",
      " BASH                   23          110           59           25           26\n",
      " Perl                    2           54           33           17            4\n",
      " Python                  3           87           75            3            9\n",
      " Shell                   2           18            9            5            4\n",
      "===============================================================================\n",
      " Total                  30          269          176           50           43\n",
      "===============================================================================\n",
      "#!/bin/sh\n",
      "# Print the sorted unique union of file1 and file2\n",
      "#\n",
      "# Doug Crabill dgc@purdue.edu\n",
      "\n",
      "fi\n",
      "\n",
      "cat $1 $2 | sort -u\n",
      "\n",
      "exit 0\n",
      "Lines in the file:\n",
      "14 /home/x-kamstut/bin/union\n",
      "Bytes in the file:\n",
      "211 /home/x-kamstut/bin/union\n",
      "Location of python3:\n",
      "/usr/local/bin/python3\n"
     ]
    }
   ],
   "source": [
    "%%bash\n",
    "cd /anvil/scratch/$USER\n",
    "pwd\n",
    "/anvil/projects/tdm/bin/tokei /home/x-kamstut/bin\n",
    "head -n 5 /home/x-kamstut/bin/union\n",
    "tail -n 5 /home/x-kamstut/bin/union\n",
    "\n",
    "echo \"Lines in the file:\"\n",
    "wc -l /home/x-kamstut/bin/union\n",
    "\n",
    "echo \"Bytes in the file:\"\n",
    "wc -c /home/x-kamstut/bin/union\n",
    "\n",
    "echo \"Location of python3:\"\n",
    "which python3\n"
   ]
  },
  {
   "cell_type": "markdown",
   "id": "5768cad9",
   "metadata": {},
   "source": [
    "# Question 6"
   ]
  },
  {
   "cell_type": "code",
   "execution_count": 31,
   "id": "914582ca",
   "metadata": {
    "vscode": {
     "languageId": "shellscript"
    }
   },
   "outputs": [],
   "source": [
    "%%bash\n",
    "cd /anvil/scratch/$USER\n",
    "cp /anvil/projects/tdm/data/movies_and_tv/imdb.db .\n",
    "\n",
    "mkdir movies_and_tv\n",
    "\n",
    "mv imdb.db movies_and_tv/\n",
    "\n",
    "touch im_empty.txt\n",
    "\n",
    "rm -rf movies_and_tv/\n",
    "\n",
    "rm im_empty.txt\n"
   ]
  },
  {
   "cell_type": "markdown",
   "id": "d0c9d2c0",
   "metadata": {},
   "source": [
    "# Question 7"
   ]
  },
  {
   "cell_type": "markdown",
   "id": "ed7de32e",
   "metadata": {},
   "source": [
    "`x-dchawra@a241.anvil:[~] $ cat /anvil/projects/tdm/data/scavenger_hunt/6bbb0895-dae0-48cf-afad-b1e418ff863d/ee71c843-3579-4f35-8902-140722286b82/80d7b4da-9723-4abe-9a62-d5ecd9b57ea7/f18921e5-2ce4-4add-9e1d-9ada46fadbeb/8fc818ad-2dce-4a9b-a651-c90a0318d6bd/b89b2e38-eac8-4d12-ba0c-8169e72a82c9/hello_there.txt \n",
    "\n",
    "Tab completion is pretty cool. Don't be surprised if you start typing \"Tab\" when writing emails expecting it to read your mind. Shells like zsh can have even cooler completion.\n",
    "\n",
    "x-dchawra@a241.anvil:[~] $ `"
   ]
  }
 ],
 "metadata": {
  "kernelspec": {
   "display_name": "f2022-s2023",
   "language": "python",
   "name": "f2022-s2023"
  }
 },
 "nbformat": 4,
 "nbformat_minor": 5
}
