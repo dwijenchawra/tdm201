{
 "cells": [
  {
   "cell_type": "markdown",
   "id": "be02a957-7133-4d02-818e-fedeb3cecb05",
   "metadata": {},
   "source": [
    "# Project 7 -- Dwijen Chawra"
   ]
  },
  {
   "cell_type": "markdown",
   "id": "a1228853-dd19-4ab2-89e0-0394d7d72de3",
   "metadata": {},
   "source": [
    "**TA Help:** \n",
    "    \n",
    "**Collaboration:** "
   ]
  },
  {
   "cell_type": "markdown",
   "id": "6180e742-8e39-4698-98ff-5b00c8cf8ea0",
   "metadata": {},
   "source": [
    "## Question 1"
   ]
  },
  {
   "cell_type": "code",
   "execution_count": 1,
   "id": "49445606-d363-41b4-b479-e319a9a84c01",
   "metadata": {
    "vscode": {
     "languageId": "shellscript"
    }
   },
   "outputs": [
    {
     "name": "stdout",
     "output_type": "stream",
     "text": [
      "40.39978;-91.387531\n",
      "40.739238;-95.02756\n",
      "40.624226;-91.373211\n",
      "41.985887;-92.579244\n",
      "42.490073;-95.544793\n",
      "42.459938;-92.327917\n",
      "41.985887;-92.579244\n",
      "41.854728;-95.602969\n",
      "43.186038;-95.831721\n",
      "41.542816;-93.644943\n",
      "41.404062;-95.023116\n",
      "42.490073;-95.544793\n",
      "41.858483;-90.184946\n",
      "42.516621;-90.741064\n",
      "42.512771;-92.433344\n",
      "42.012395;-95.348616\n",
      "42.025841;-96.095845\n",
      "41.614909;-93.842181\n",
      "41.610504;-90.344168\n",
      "41.397023;-92.899722\n",
      "41.644041;-93.465301\n",
      "40.961243;-91.525484\n",
      "41.296286;-92.631487\n",
      "43.29355;-94.218\n",
      "41.650657;-95.339881\n",
      "41.704185;-93.621597\n",
      "43.29355;-94.218\n"
     ]
    }
   ],
   "source": [
    "%%bash\n",
    "\n",
    "head -n 30 /anvil/projects/tdm/data/iowa_liquor_sales/iowa_liquor_sales_cleaner.csv | cut -d \";\" -f8 | awk '\n",
    "    BEGIN{\n",
    "        # print(\"lat;lon\");\n",
    "    }\n",
    "    {\n",
    "        if (NR != 1) {\n",
    "            split($0, coords, \"(\")\n",
    "            gsub(/\\)/, \"\", coords[2]);\n",
    "            split(coords[2], final, \", \")\n",
    "            \n",
    "            if (length(final[1]) > 1) {\n",
    "                print(final[1]\";\"final[2]);\n",
    "            }\n",
    "            \n",
    "            \n",
    "            \n",
    "        }\n",
    "    }\n",
    "    END{\n",
    "    }'"
   ]
  },
  {
   "cell_type": "markdown",
   "id": "b456e57c-4a12-464b-999a-ef2df5af80c1",
   "metadata": {},
   "source": [
    "I chose to limit the output because it was freezing my ssh session, and I couldn't work on another code block because it wouldn't save."
   ]
  },
  {
   "cell_type": "markdown",
   "id": "fc601975-35ed-4680-a4e1-0273ee3cc047",
   "metadata": {},
   "source": [
    "## Question 2"
   ]
  },
  {
   "cell_type": "code",
   "execution_count": 4,
   "id": "a16336a1-1ef0-41e8-bc7c-49387db27497",
   "metadata": {
    "vscode": {
     "languageId": "shellscript"
    }
   },
   "outputs": [
    {
     "name": "stdout",
     "output_type": "stream",
     "text": [
      "store_name;date;sold_usd;volume_sold;lat;lon\n",
      "Keokuk Spirits;11/20/2015;$162.84;4.5;40.39978;-91.387531\n",
      "Ding's Honk And Holler;11/21/2015;$325.68;9.0;40.739238;-95.02756\n",
      "Quicker Liquor Store;11/16/2015;$19.20;0.3;40.624226;-91.373211\n",
      "Twin Town Liquor;11/17/2015;$19.20;0.3;41.985887;-92.579244\n",
      "Spirits, Stogies and Stuff;11/11/2015;$53.34;1.75;42.490073;-95.544793\n",
      "Hy-Vee Food Store #3 / Waterloo;11/09/2015;$104.58;9.0;42.459938;-92.327917\n",
      "Twin Town Liquor;11/10/2015;$106.68;3.5;41.985887;-92.579244\n"
     ]
    }
   ],
   "source": [
    "%%bash\n",
    "\n",
    "# head -n 1 /anvil/projects/tdm/data/iowa_liquor_sales/iowa_liquor_sales_cleaner.csv #| cut -d \";\" -f23\n",
    "head -n 10 /anvil/projects/tdm/data/iowa_liquor_sales/iowa_liquor_sales_cleaner.csv | awk -F \";\" '\n",
    "    BEGIN{\n",
    "        print(\"store_name;date;sold_usd;volume_sold;lat;lon\");\n",
    "    }\n",
    "    {\n",
    "        if (NR != 1) {\n",
    "            split($8, coords, \"(\");\n",
    "            gsub(/\\)/, \"\", coords[2]);\n",
    "            split(coords[2], final, \", \");\n",
    "            \n",
    "            if (length(final[1]) > 1) {\n",
    "                print($4\";\"$2\";\"$22\";\"$23\";\"final[1]\";\"final[2]);\n",
    "            }\n",
    "        }\n",
    "    }\n",
    "    END{\n",
    "    }' > $HOME/sales_by_store.csv\n",
    "\n",
    "\n",
    "cat $HOME/sales_by_store.csv"
   ]
  },
  {
   "cell_type": "markdown",
   "id": "14dc22d4-ddc3-41cc-a91a-cb0025bc0c80",
   "metadata": {},
   "source": [
    "This example outputted part of the complete dataset, as the kernel kept freezing as I processed the rest of the data."
   ]
  },
  {
   "cell_type": "markdown",
   "id": "8e586edd-ff26-4ce2-8f6b-2424b26f2929",
   "metadata": {},
   "source": [
    "## Question 3"
   ]
  },
  {
   "cell_type": "code",
   "execution_count": 14,
   "id": "bbe0f40d-9655-4653-9ca8-886bdb61cb91",
   "metadata": {
    "vscode": {
     "languageId": "shellscript"
    }
   },
   "outputs": [
    {
     "name": "stdout",
     "output_type": "stream",
     "text": [
      "309.57\n"
     ]
    }
   ],
   "source": [
    "%%bash\n",
    "\n",
    "echo \"#!/bin/bash\n",
    "\n",
    "awk -v lat1=\\$1 -v lat2=\\$3 -v lon1=\\$2 -v lon2=\\$4 '\n",
    "function arcsin(x) { return atan2(x, sqrt(1-x*x)) }\n",
    "function dtor(x) { return x*atan2(0, -1)/180 }\n",
    "BEGIN{\n",
    "    lat1 = dtor(lat1)\n",
    "    lat2 = dtor(lat2)\n",
    "    lon1 = dtor(lon1)\n",
    "    lon2 = dtor(lon2)\n",
    "    r = 6367.4447\n",
    "    \n",
    "    print(2*r*arcsin(sqrt( ( sin( (lat2 - lat1)/2 )^2 )+( cos(lat1)*cos(lat2) )*(  sin( (lon2 - lon1)/2 )^2 ) )));\n",
    "    \n",
    "}'\" > $HOME/question3.sh\n",
    "chmod +x $HOME/question3.sh\n",
    "\n",
    "bash /$HOME/question3.sh 40.39978 -91.387531 40.739238 -95.02756\n"
   ]
  },
  {
   "cell_type": "markdown",
   "id": "47c6229f-35f7-400c-8366-c442baa5cf47",
   "metadata": {},
   "source": [
    "Markdown notes and sentences and analysis written here."
   ]
  },
  {
   "cell_type": "markdown",
   "id": "da22f29c-d245-4d2b-9fc1-ca14cb6087d9",
   "metadata": {},
   "source": [
    "## Question 4"
   ]
  },
  {
   "cell_type": "code",
   "execution_count": 17,
   "id": "fd4860cb",
   "metadata": {
    "vscode": {
     "languageId": "shellscript"
    }
   },
   "outputs": [
    {
     "name": "stdout",
     "output_type": "stream",
     "text": [
      "3096.67\n"
     ]
    }
   ],
   "source": [
    "%%bash\n",
    "\n",
    "$HOME/question3.sh 37.37193149059638 -121.99445676110507 39.91714675738605 -86.2269535977335"
   ]
  },
  {
   "cell_type": "markdown",
   "id": "0d552245-b4d6-474a-9cc9-fa7b8e674d55",
   "metadata": {},
   "source": [
    "37.37193149059638, -121.99445676110507\n",
    "This is the lat lon of the Costco near my house\n",
    "\n",
    "39.91714675738605, -86.2269535977335\n",
    "This is the lat lon of the Costco nearest to Purdue.\n",
    "\n",
    "This is the result from an online map app: \n",
    "Distance is: 1,925.16 miles / 3,098.25 kilometers / 1,671.81 nautical miles\n",
    "\n",
    "My code was off by 2 kilometers."
   ]
  },
  {
   "cell_type": "markdown",
   "id": "f76442d6-d02e-4f26-b9d6-c3183e1d6929",
   "metadata": {},
   "source": [
    "## Pledge\n",
    "\n",
    "By submitting this work I hereby pledge that this is my own, personal work. I've acknowledged in the designated place at the top of this file all sources that I used to complete said work, including but not limited to: online resources, books, and electronic communications. I've noted all collaboration with fellow students and/or TA's. I did not copy or plagiarize another's work.\n",
    "\n",
    "> As a Boilermaker pursuing academic excellence, I pledge to be honest and true in all that I do. Accountable together – We are Purdue."
   ]
  }
 ],
 "metadata": {
  "kernelspec": {
   "display_name": "Python 3.9.7 64-bit ('jupyter')",
   "language": "python",
   "name": "python3"
  },
  "language_info": {
   "codemirror_mode": {
    "name": "ipython",
    "version": 3
   },
   "file_extension": ".py",
   "mimetype": "text/x-python",
   "name": "python",
   "nbconvert_exporter": "python",
   "pygments_lexer": "ipython3",
   "version": "3.9.7"
  },
  "vscode": {
   "interpreter": {
    "hash": "ee1cd9b302554fc418f8b84f658dab3188467b37dcaeb92c53502d81e2e402a3"
   }
  }
 },
 "nbformat": 4,
 "nbformat_minor": 5
}
