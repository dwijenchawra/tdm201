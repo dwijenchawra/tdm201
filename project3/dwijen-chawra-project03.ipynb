{
 "cells": [
  {
   "cell_type": "markdown",
   "id": "be02a957-7133-4d02-818e-fedeb3cecb05",
   "metadata": {},
   "source": [
    "# Project 1 -- Dwijen Chawra"
   ]
  },
  {
   "cell_type": "markdown",
   "id": "1ff61db1",
   "metadata": {},
   "source": [
    "# Question 1"
   ]
  },
  {
   "cell_type": "code",
   "execution_count": 1,
   "id": "5eab214c",
   "metadata": {
    "vscode": {
     "languageId": "shellscript"
    }
   },
   "outputs": [
    {
     "name": "stdout",
     "output_type": "stream",
     "text": [
      "/anvil/projects/tdm/data/consumer_complaints/processed.csv:129920:fraudy fraudulent\n"
     ]
    }
   ],
   "source": [
    "%%bash\n",
    "grep -n -r -o \"fraudy fraudulent\" /anvil/projects/tdm/data/con*"
   ]
  },
  {
   "cell_type": "markdown",
   "id": "1ff61db1",
   "metadata": {},
   "source": [
    "# Question 2"
   ]
  },
  {
   "cell_type": "code",
   "execution_count": 2,
   "id": "853ef60c",
   "metadata": {
    "vscode": {
     "languageId": "shellscript"
    }
   },
   "outputs": [
    {
     "name": "stdout",
     "output_type": "stream",
     "text": [
      "\"I financed my XXXX XXXX through Wells Fargo in XX/XX/XXXX on a five-year note. After I moved from Oklahoma to Wisconsin in XX/XX/XXXX I had a hiccup in my car insurance payment where it was sent to the old payment address that I'd used as an Oklahoma driver instead of the new payment address that I should have been using as a Wisconsin driver. That was totally my fault ; my insurance company contacted me the payment was applied to my insurance premium a few days after its original due date and I updated my online billpay to reflect the correct payment address for my future insurance premiums. A few days later I got a letter from Wells Fargo stating that they'd been notified of a late payment by my insurance company and that if I didn't provide proof of coverage they were going to provide coverage themselves and bill me for the additional premiums. Now please don't get me wrong -- I was fine with that. It was my responsibility to insure the car that Wells Fargo was financing and it was my fault that an insurance premium was received late. I called my insurance agent provided him with the fax number for providing proof of insurance to Wells Fargo and they faxed the requested proof of insurance over while I was still on the line. Here 's where things REALLY get interesting! Two or three days later I placed a follow-up call to Wells Fargo to ensure that they'd received what they needed. The woman that I spoke with sounded confused and said it looked like I'd been paying insurance premiums to Wells Fargo since I first bought my Jeep. I explained that this wasn't the case -- that I was calling in response to their letter -- and she explained that she was new didn't understand what she was seeing on my account but would get help from a supervisor.I spent about eight to ten minutes on hold before she came back said she'd been mistaken that they'd received my fax and everything was fine. Now one thing you should know is that I paid my car installments to Wells Fargo ahead of schedule. Every month I paid early and I always paid extra every month and so in XX/XX/XXXX I couldn't understand why the principal that I owed on my XXXX  was higher than it ought to have been if I'd paid my installments according to their schedule. Once again I called Wells Fargo. The woman that I spoke with this time said that my principal balance had gone up because Wells Fargo had billed me for insurance premiums. I asked to speak to a supervisor and suddenly her story changed : I was told that I'd been billed for insurance premiums but those premiums had also been refunded to me so that that in the end they hadn't increased my principal balance at all. I was told that I hadn't made as many extra payments as I thought I had and that their accounting was correct. Wells Fargo refused to provide me with any sort of billing and payment summary -- my questions weren't answered. I continued to pay off my XXXX early every month until the loan was paid off in XX/XX/XXXX. In XX/XX/XXXX I saw a news article about Wells Fargo being fined a XXXX dollars by the Consumer Financial Protection Bureau for fraudulently charging its car loan customers for unwanted auto insurance. Of course I instantly knew that I'd been one of those customers even before I got the letter from Wells Fargo in XX/XX/XXXX. That letter was very apologetic and promised to make full restitution although Wells Fargo didn't use the word 'fraud ' the way that the CFPB had used it when fining the XXXX out of them. I think Wells Fargo 's letter used the word 'mistakenly ' or 'in error ' or 'inadvertently ' or somesuch nonsense sprinkled in with a few \"\" unfortunatelies '' and \"\" sincerelies. '' It was fraud. Pure and simple fraud. Fraudy fraudulent fraud. Wells Fargo fraudulently defrauded fraud victims with this sort of fraudy fraud. I was asked to furnish Wells Fargo with 'proof ' that I'd maintained my own private auto insurance coverage so that Wells Fargo could reimburse me for any periods where I'd been charged for their in-house insurance product 'in error ' in order to qualify for a full refund ... along with Wells Fargo 's most profound apologies. Sincere apologies. Big wet crocodile teardrop apologies. Wells Fargo was SOOOOO very sorry that it had gotten caught stealing from me.I sent Wells Fargo the requested information via USPS certified mail. I know they received it before the deadline. I have the proof of delivery.About six months later I received a check from Wells Fargo.IN.THE.AMOUNT.OF.XXXX XXXX.DOLLARS. You read that right. My 'full restitution ' for Wells Fargo 's mistaken completely in error unfortunate deeply regretted certainly-not-a-case-of-fraud was {$29.00}. Keep in mind that I still haven't received any full accounting of my account history because Wells Fargo won't provide that information to me. After working the phones for a few days I finally got in touch with Wells Fargo 's office of the president. What I learned was that Wells Fargo had fraudulently added {$840.00} to my principal loan balance in XX/XX/XXXX and XX/XX/XXXX long before I moved to Wisconsin and had my little incident with a misapplied insurance payment. I was charged another lump-sum amount for insurance coverage in XX/XX/XXXX and XX/XX/XXXX but that they'd canceled that coverage after I called them to make sure they're received my agent 's fax refunding all but {$260.00} of that second amount.Keep in mind the agent who presumably canceled that insurance in XX/XX/XXXX told me that she'd been mistaken about seeing insurance on my account. Keep in mind that I'd been told by a supervisor that I'd been completely refunded for all insurance premiums so that they hadn't increased my loan amount. Keep in mind that Wells Fargo initially tried to make me go away with a {$29.00} check. That's the sort of fraudy fraudulent fraud that Wells Fargo defrauds its fraud-victim customers with. Fraudulently. Fraud. Fraud. Fraud.By my reckoning then Wells Fargo stole {$840.00} and {$260.00} from me plus compounded interest on this amount from XX/XX/XXXX to XX/XX/XXXX less the {$29.00} insult check that they sent to me. Keep in mind that these are Wells Fargo 's numbers and that to this day I don't know exactly what charges were applied to my principal loan amount or on what dates or how much interest was charged on this balance because Wells Fargo won't tell me. Completely setting aside interest amounts -- and I want a refund on interest paid I just don't know how much that was -- Wells Fargo owes me {$1000.00} in fraudulent charges applied to my principal loan amount. I think we've been more or less in agreement on that amount since XX/XX/XXXX -- or at least Wells Fargo doesn't dispute that amount -- but they still won't pay me. The funny thing is that Wells Fargo has spent about XXXX months \"\" verifying my insurance coverage '' prior to payment -- that strikes me as funny because they really should have done that BEFORE billing me for their insurance product. Late in XX/XX/XXXX I read in the news that Wells Fargo had told the CFPB that it wouldn't be prepared to begin making settlement offers to its victims until XX/XX/XXXX and that it wouldn't complete its restitution payments until XX/XX/XXXX. So as I understand it Wells Fargo notified me of fraudulent charges on my account in XX/XX/XXXX five years after it added those charges to to my loan balance and four years after it first lied to me about those charges -- and now Wells Fargo has decided that it's going to take another two years to decide how to make that situation right as if that solution weren't already obvious and THEN Wells Fargo is going to graciously allow itself another year to actually return the money that it had no right to take in the first place. The REAL kicker was reading last week that a top official at Wells Fargo Bank was aware of this fraud in XX/XX/XXXX but did nothing to stop it -- and HE STILL HAS A JOB AT THIS COMPANY. I just want my money back. How in God 's name do I push Wells Fargo 's monstrous bureaucracy into action?\",FL,3072823\n"
     ]
    }
   ],
   "source": [
    "%%bash\n",
    "\n",
    "# head -n 1 /anvil/projects/tdm/data/consumer_complaints/processed.csv | grep -o \",\" | wc -l\n",
    "# head -n 100 /anvil/projects/tdm/data/consumer_complaints/processed.csv | cut -d \",\" -f7,10,19 \n",
    "\n",
    "head -n 129920 /anvil/projects/tdm/data/consumer_complaints/processed.csv | cut -d \",\" -f7,10,19 | tail -n 1"
   ]
  },
  {
   "cell_type": "markdown",
   "id": "0044d37e",
   "metadata": {},
   "source": [
    "# Question 3"
   ]
  },
  {
   "cell_type": "code",
   "execution_count": 5,
   "id": "23e83837",
   "metadata": {
    "vscode": {
     "languageId": "shellscript"
    }
   },
   "outputs": [
    {
     "name": "stdout",
     "output_type": "stream",
     "text": [
      "79M\n"
     ]
    }
   ],
   "source": [
    "%%bash\n",
    "\n",
    "cat /anvil/projects/tdm/data/consumer_complaints/processed.csv | cut -d \",\" -f7,10,12,19 | grep -E \",FL,|,GA,|,MI,|,SC,\" > southeast.csv\n",
    "\n",
    "ls -la --block-size=M | grep southeast | cut -d \" \" -f6"
   ]
  },
  {
   "cell_type": "markdown",
   "id": "72b6af46",
   "metadata": {},
   "source": [
    "# Question 4"
   ]
  },
  {
   "cell_type": "code",
   "execution_count": 4,
   "id": "7607d48a",
   "metadata": {
    "vscode": {
     "languageId": "shellscript"
    }
   },
   "outputs": [
    {
     "name": "stdout",
     "output_type": "stream",
     "text": [
      "\"Attached you will find documents mailed to me by companies stating they would be contacting EXPERIAN to remove unknown credit inquiries. To speed up the process I sent copies over to EXPERIAN. Some have been since XX/XX/2018 which gives them more than 9- days to remove the inquiry. Yesterday I called and spoke with XXXX who was very rude with me. First he claimed EXPERIAN has \"\" never received your letters sir! '' Then he put me on hold for 20 minutes and magically he was able to read me word-for-word the letters I have attached for you here. He then told me \"\" WE WILL NOT BE REMOVING THE INQURIES SIR. FOR ALL WE KNOW YOU WROTE THESE LETTERS. THEY ARE NOT OFFICIAL. WE HAVE NOT RECEIVED ANY INFORMATION FROM THESE COMPANIES DIRECTLY. NOPE! WE WILL NOT REMOVE. YOU NEED TO WRITE TO THE COMPANIES YOU HAVE SENT US LETTERS FOR AND YOU NEED TO TELL THEM TO SEND YOU OFFICIAL LETTERS SIR! '' Just rude! I've done my part as a consumer. These companies sent me letters on their letter head. I WANT THEM DELETED IMMEDIATELY! FURTHERMORE at this point I want my {$1000.00} per inquiry and per defamation of character. THIS IS PROOF EXPERIAN IS REPORTING WHATEVER THEY FEEL LIKE REPORTING AND THINK THEY ARE ABOVE THE LAW! In addition I have proven I do no have a XXXX account. I have enclosed a letter that XXXX admits they can not even prove they have proof of a contract with them. No phone number for me nothing! The email they took from the CFPB complaint! I want XXXX deleted immediately from my report and I want a check for {$1000.00} for listing the account selling the account TWICE and DEFAMATION OF CHARACTER -- {$4000.00} EXPERIAN also claims they have the right to report any name they want to on me. I am ONE name. There are no variations of my name. It is clear accounts have been opened in my name using just my middle and last as well as my first name middle initial and last. I ALWAYS USE AND SIGN MY FULL NAME. I DEMAND ALL ACCOUNTS NOT HOLDING MY FULL NAME BE REMOVED! Again under FCRA I have a right to {$1000.00} for every account falsely listed using variations of my name that are not as I legally AM or PRESENT myself. The representative said if a credit card lists me as MIDDLE NAME and LAST they have they right to list it. NOT TRUE. THERE IS NO PROOF OF MY LEGAL SIGNATURE under FCRA it has to be removed -- at minimum while it is investigated. Then they have to write me 5 days notice before being able to put it on. HOW IS THE CFPB ALLOWING THIS NONSENSE\",MI,,3075960\n",
      "On XX/XX/2018 I called Navient and tried to get a better/lower payment for my student loans because my family and I have been struggling to pay all our bills. One of the reps said that the only option for me was to lower my interest rate and get my bill down from {$410.00} a month to {$310.00}. I told her that was still too steep for me having listed all my expenses and so forth. She called in a manager to ask if we could do anything further. The manager was very rude! She told me that if it was up to her she would not have given me any assistance or even reduce my bill in the first place! However since the rep had already given me the offer of {$310.00} I could choose to accept or deny it. She was very rude short and distasteful. I am totally disappointed with the company and this individual. I hope no one ever has to be subjected to this type of treatment.,FL,,3039856\n",
      "\"Five year ago during my financial struggles I was found to be deemed eligible for HAMP program through Bank of America. My home loan was modified and I received all of the benefits and protections available to me during that 5 year time period. Customer Service was first class during the 5 year eligibility and no one could touch my account outside of my assigned account manager. Well let 's fast-forward 5 years my eligibility period has ended no assigned account manager and ALL protections have ended ... Bank of America attacks like pitbulls. XX/XX/XXXX I call several times disputing with BOA over PMI that I wanted removed immediately from my account. I received push back. I advised them of my rights as a consumer and threatened to report them so the removed the PMI reluctantly. In XX/XX/XXXX I am informed by BOA that my escrow will increase by {$150.00} because of an \"\" anticipated '' shortfall. I called and email pleading my case. Customer service was horrific and rude! I requested a manager perform a new analysis of my account because I would NOT be able to handle the increase. I never received the new analysis or a return call. So I go with the program I find myself in a state of XXXX thinking I can't go against this banking bully or giant. XX/XX/XXXX rolls around I find there to be a {$500.00} dollar overage in my escrow so I email and call requesting my funds be reimbursed. Feeling bullied and threatened BOA denied my request. I was irate. For 5 years I was treated like Royalty under the HAMP program now you are treating me like trash. My mortgage was being paid timely. There was no late payments. I was doing EVERYTHING right but I the consumer was being treated like a second class citizen. XX/XX/XXXX I go to make my mortgage payment online. My mortgage has increased by {$55.00}. I was NOT notified! Reviewing my statement online the have once again INCREASED my escrow amount. Their methods and reasons are unethical illegal and unfounded. They had just performed an analysis 6 months prior. There was an overage going into XX/XX/XXXX. There should NOT be any PMI on my account. What is the justification for the increase? I was NEVER informed! I paid the requested amount ONLY to prevent late payments. I am requesting that BOA unethical practices be fully investigated and exposed! I am requesting my overage be reimbursed. I am requesting that the escrow increase be removed from my account dating back to XX/XX/XXXX.\",GA,,2882803\n",
      "I was notifi ed by care credit that my min. payment owed was {$200.00}! I understand that i did not pay off the {$1 000.00} dollars in a year But i never missed a min. Payment in that year.Why in the world is my Min. now {$200.00}? I did not know this would happen no one called me at the beginning to inform me of these changes.I am now paying {$35.00} a month That is all i can afford! I received a very nasty phone call from one of their rep 's telling me in no certain terms that we need to go ahead an take care of this NOW! I do not want any trouble I always try to come to some kind of agreement. I really do n't appreciate the tone i was talked to in I found it to be very rude! Is there any way i can get some kind of help dealing with this situation?,FL,,2481288\n",
      "\"Green tree XXXX what you want to call it is a disgrace to mortgage lending. lets go back to when i refinance with then green tree/XXXX. in XXXX i was doing fine in a HUD loan paying XXXX monthly. we decided we wanted to do some home repairs so we were going to get a XXXX mortgage through green-tree/XXXX i was told that we could get a loan of XXXX paying XXXXmnth. after a long wait for the funds we told we had to refinance. biggest mistake ever on my part. i agreed. not knowing about balloon payments pre payment penalties and all the tricks. we fell victim to green tree 's predatory lending practices and it did n't take long for us like many other to be \"\" underwater '' in our loan we owed more than the home was worth. went went from paying {$880.00} to paying XXXX with 11.5 % INTEREST RATE. it was too much for our income which by the way the green-tree XXXX broker provided false XXXX and pay-stubs to further set us up for failure from the get go. eventually we got a couple months behind and our loan was sent to the collection department. wow! where should i begin. XXXX it was so much dishonesty and corruption all the agents used the XXXX and XXXX in the beginning. different people same name. they would call XXXX in the morning up till XXXX at night demanding payment sometimes XXXX a day. they would call family friends and neighbors. they would give personal information to third parties.it seemed there goal was not to collect but put us in worse situation example we would be a month behind they would refuse to take that months payment if we did n't pay the upcoming months payment which was n't due yet. if i sent it to them they would send it back. then demand three months payment and then threatening foreclosure cause now the loan is in \"\" default '' by there standards. understanding we were over our heads we attempted to sell the property but could not cause of their prepayment penalties. we were stuck. I paid green-tree XXXX and refinanced to a still outrages 8.9 % now paying XXXX over the next couple of years although we struggled paying that amount we did. green tree got worse with there collection practices. threats. unreasonable demands for money often telling me to borrow the money from strangers refusing money one month then taking it the next month. then they began to harass my elderly mother. i warned them that she was not healthy and to deal with me only but every chance they got they called her. XXXX confusing her head with threats of having her removed from the home immediatelyXXXXin recent years i eventually had to file bankruptcy protection paying {$220.00} to them while still paying mortgage. my mother is XXXX yeas old a very comfortable where she lives thas why we fought so hard for this property. but its been a constant struggle with green tree and there blatant non professionalism and unfair collection practices. after all these years we finally got our mortgage to a affordable rate and monthly fee but my mother fell victim identity theft and a check was returned. it went to collections although by then we settled with the bank and were willing to pay what we were behind green tree sent it to foreclosure. eventually cancelling it. right now where in limbo. they wont except what we are behind. they want money from before the bankruptcy. over XXXX we are just sick and tired of this company and feel something needs to be done. starting now!\",GA,,1424761\n"
     ]
    }
   ],
   "source": [
    "cat southeast.csv | grep -E \"wow\\!|irritating\\!|rude\\!\" | head -n 5"
   ]
  },
  {
   "cell_type": "markdown",
   "id": "b66f04fe",
   "metadata": {},
   "source": [
    "# Question 5"
   ]
  },
  {
   "cell_type": "code",
   "execution_count": 3,
   "id": "dcc790c1",
   "metadata": {
    "vscode": {
     "languageId": "shellscript"
    }
   },
   "outputs": [
    {
     "name": "stdout",
     "output_type": "stream",
     "text": [
      "\"I checked my credit report and out of no where I have this collection in my report from \"\" Midwest Recovery Sys '' opened XX/XX/2019 for {$1400.00}. I have never had any business of any kind or service with this company. I do not recognize this account.\",FL,,3185125\n",
      "CONSUMER ENFORCEMENT ACTION As a Federally Protected Consumer Original Creditor Principal and Authorized Representative for XXXX XXXX on all accounts created by my seal/signature I order you to make recompense and pay redress and compensation for your trespass against me. You are attempting to extort and rob me using deceptive misleading and abusive practices against me personally my family and my household. This is criminal activity at least and unacceptable by every means. You have committed several federal violations against me a Private law abiding Federally Protected Consumer. Each violation is a statutory cost of {$1000.00} each which does not include my personal cost and fees ( which I determine ) for taking time to address these issues. Violations committed against me include but not limited to : 1. Violated 15 USC 1692c ( a ) ; Communication without prior consent expressed permission 2. Violated 15 USC 1692c ( b ) ; Communication without prior consent expressed permission 3. Violated 15 USC 1692d ; Harass and oppressive use of intercourse about an alleged debt. 4. Violated 15 USC 1692d ( 1 ) ; Attacking my reputation accusing me of owing an alleged debt to you. 5. Violated 15 USC 1692d ( 2 ) ; Use of obscene or profane language on my report ( saying I owe you a debt ) 6. Violated 15 USC 1692e ; Using false deceptive or misleading representations 7. Violated 15 USC 1692e ( 2 ) ( A ) ; False representation of the character and amount of the alleged debt 8. Violated 15 USC 1692e ( 2 ) ( B ) ; False representation of any service rendered or compensation 9. Violated 15 USC 1692e ( 8 ) ; Communicating false information 10. Violated 15 USC 1692e ( 9 ) ; Use/distribution of communication with authorization or approval 11.  Violated 15 USC 1692e ( 10 ) ; False Representation ( not a party to alleged debt by my consent ) 12. Violated 15 USC 1692e ( 12 ) ; False representation/implication ( innocent purchasers for value ) 13. Violated 15 USC 1692f ; Unfair Practices attempting collect an alleged debt.14. Violated 15 USC 1692f ( 1 ) ; Attempting to collect a debt unauthorized by an agreement between parties.15. Violated 15 USC 1692g ( a ) ( 4 ) Certifiable Validation and Verification of alleged debt ( s ) 16. Violated 15 USC 1692j ( a b ) ; Furnishing certain deceptive forms. ( You are not a party in the alleged debt ) 17. IDENTITY THIEF ; Obtaining personal identification information without prior consent and creating an account in my name without my knowledge.18. Invasion of Individual and Family Privacy CONVERGENT OUTSOURCING and its representatives/agents is Civilly Liable for your transgression against me a consumer under 1692k.,FL,Servicemember,3184467\n",
      "There are several accounts falsely reported to my credit report. I complained to the FTC and directly to the credit bureaus. I submitted copies of my DL SS Card Current Bills ETC all to prove my identity. I asked them to match the signatures on my DL with the signatures on the accounts falsely opened in my name. -XXXX XXXX XXXX XXXX XXXX : {$3400.00} -XXXX XXXX XXXX XXXX XXXX XXXX {$120.00} -XXXX XXXX XXXXXXXX : {$330.00},SC,,3183547\n",
      "There are several accounts falsely reported to my credit report. I complained to the FTC and directly to the credit bureaus. I submitted copies of my DL SS Card Current Bills ETC all to prove my identity. I asked them to match the signatures on my DL with the signatures on the accounts falsely opened in my name. -XXXX XXXX XXXX/XXXX XXXX XXXX : {$3400.00} -XXXX XXXX XXXX/XXXX XXXX XXXX : {$120.00} -XXXX XXXX/XXXX XXXX : {$330.00},SC,,3183544\n",
      "\"I was informed by the XXXX in SC to file a complaint here because I had a bill that was supposed to be paid in full in XX/XX/XXXX. I never heard anything about the resolved bill until XX/XX/XXXX.  Neither by postal mail email nor phone call. I received a phone call on XX/XX/XXXX from Deversified Consultants Inc ( XXXX )  explaining that I owed XXXX ( cable/wifi provider ) an amount of {$220.00}. Explaining the situation to the rep I asked why after almost 2yrs I hadn't heard anything from the original biller in question. Of course she could not answer! So I asked if they had ever tried to contact me before. The rep explained not to her knowledge and she received my info to collect on XX/XX/XXXX. Asked again .... If you have all my contact info why didn't they contact me anytime between XX/XX/XXXX and currentXX/XX/XXXX. Again of course she couldn't answer. The reason for this complaint is I never once received any kind of contact neither from XXXX nor the collections agency. According to the XXXX either company was supposed to contact me by mail and provide 30 days for me to dispute the issue which NEVER happened. Below is the complaint I sent to the XXXX in XXXX XXXX Missouri After having continuous problems with the company ( XXXX  ) starting from the beginning ( XX/XX/XXXX ) I had to file a complaint with the XXXX concerning service ( case # XXXX ). In which getting resolved in XX/XX/XXXX. I continued using the cable/wifi provider until XX/XX/XXXX when I paid my final bill. Final bill meaning ... I spoke with a representative on XX/XX/XXXX getting billing current. After explaining the issues from prior the representative informed me to change billing from XXXX XXXX to XXXX billing. I had to wait 3 business  days for payment to post. Called on XX/XX/XXXX to hopefully get a better rate. I explained my situation with the representative then that we weren't using some of the package and wanted a cheaper bill from the current {$120.00}. After being placed on an extended hold the rep explained about her great news of eliminating certain things and down sizing the package would be {$150.00}. Asking if the rep had lost her mind I told her that \"\" I was done '' with them and they would not receive any more money from me. They continued to keep service going through XX/XX/XXXX even though I wasn't paying! They were supposed to send a return box for the devices. Never showed! XX/XX/XXXX a rep showed up in the yard to retrieve the devices. Explained again the entire situation. After I released the devices the rep explained I would receive an email explaining that the devices were returned and I owed the company nothing {$0.00}!!! He gave me his contact info for a follow up. Waited 2wks and nothing. Texted the rep and he said he'd come out and get the issue resolved. Waited another 2wks and texted again. This time no response. So I called XXXX directly on XX/XX/XXXX. Talking with the rep I found that the devices were returned and I didn't owe the company any amount of money per what the rep that received the devices explained! XX/XX/XXXX I receive a phone call from a collection agency explaining I owed XXXX {$220.00}. The rep explained that she received the info on XXXX. Explaining to the collections rep that I assumed the issue was resolved in XX/XX/XXXX and had NOT heard one thing from them via email phone call or postal mail I would contact the company and get the issue handled. So ... Contacted a rep from XXXX   immediately after ( same day XXXX ). She acknowledged everything. Times dates and rep 's concerning my issue. But explained the amount owed was wrong. It was {$140.00} ( approximate amount I did not note exact because I don't owe anything ). She explained she would get the info current to the collections rep. I explained I owed nothing several times. Openly admitting that all my notes were correct finding all my issues and explaining that there \"\" could '' have been a misunderstanding on either end I asked why it had taken from XX/XX/XXXX until XX/XX/XXXX to hear anything. AGAIN no contact from XXXX  since XXXX until a collection agency phone call on XXXX. She again said maybe a misunderstanding but would not resolve the issue so now we're here! Please feel free to contact me as I have more accurate dates and names. Thank you!\",SC,,3182879\n"
     ]
    }
   ],
   "source": [
    "%%bash\n",
    "grep -E '{[^a-zA-Z][0-9,. >=$]+[0-9 ]+}' southeast.csv | head -n 5"
   ]
  }
 ],
 "metadata": {
  "kernelspec": {
   "display_name": "f2022-s2023",
   "language": "python",
   "name": "f2022-s2023"
  }
 },
 "nbformat": 4,
 "nbformat_minor": 5
}
