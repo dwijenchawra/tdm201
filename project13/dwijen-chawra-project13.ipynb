{
 "cells": [
  {
   "cell_type": "markdown",
   "id": "be02a957-7133-4d02-818e-fedeb3cecb05",
   "metadata": {},
   "source": [
    "# Project 13 -- Dwijen Chawra"
   ]
  },
  {
   "cell_type": "markdown",
   "id": "6180e742-8e39-4698-98ff-5b00c8cf8ea0",
   "metadata": {},
   "source": [
    "## Question 1"
   ]
  },
  {
   "cell_type": "code",
   "execution_count": 3,
   "id": "7e417b67",
   "metadata": {
    "vscode": {
     "languageId": "shellscript"
    }
   },
   "outputs": [
    {
     "name": "stdout",
     "output_type": "stream",
     "text": [
      "The sql extension is already loaded. To reload it, use:\n",
      "  %reload_ext sql\n"
     ]
    }
   ],
   "source": [
    "%load_ext sql"
   ]
  },
  {
   "cell_type": "code",
   "execution_count": 4,
   "id": "55e95543",
   "metadata": {
    "vscode": {
     "languageId": "shellscript"
    }
   },
   "outputs": [],
   "source": [
    "%sql sqlite:///flights_sample.db\n"
   ]
  },
  {
   "cell_type": "code",
   "execution_count": 48,
   "id": "49445606-d363-41b4-b479-e319a9a84c01",
   "metadata": {
    "vscode": {
     "languageId": "sql"
    }
   },
   "outputs": [
    {
     "name": "stdout",
     "output_type": "stream",
     "text": [
      "Year|Month|DayofMonth|DayOfWeek|DepTime|CRSDepTime|ArrTime|CRSArrTime|UniqueCarrier|FlightNum|TailNum|ActualElapsedTime|CRSElapsedTime|AirTime|ArrDelay|DepDelay|Origin|Dest|Distance|TaxiIn|TaxiOut|Cancelled|CancellationCode|Diverted|CarrierDelay|WeatherDelay|NASDelay|SecurityDelay|LateAircraftDelay\n",
      "2007|1|1|1|1232|1225|1341|1340|WN|2891|N351|69|75|54|1|7|SMF|ONT|389|4|11|0||0|0|0|0|0|0\n",
      "2007|1|1|1|1918|1905|2043|2035|WN|462|N370|85|90|74|8|13|SMF|PDX|479|5|6|0||0|0|0|0|0|0\n",
      "2007|1|1|1|2206|2130|2334|2300|WN|1229|N685|88|90|73|34|36|SMF|PDX|479|6|9|0||0|3|0|0|0|31\n",
      "2007|1|1|1|1230|1200|1356|1330|WN|1355|N364|86|90|75|26|30|SMF|PDX|479|3|8|0||0|23|0|0|0|3\n",
      "2007|1|1|1|831|830|957|1000|WN|2278|N480|86|90|74|-3|1|SMF|PDX|479|3|9|0||0|0|0|0|0|0\n",
      "Year|Month|DayofMonth|DayOfWeek|DepTime|CRSDepTime|ArrTime|CRSArrTime|UniqueCarrier|FlightNum|TailNum|ActualElapsedTime|CRSElapsedTime|AirTime|ArrDelay|DepDelay|Origin|Dest|Distance|TaxiIn|TaxiOut|Cancelled|CancellationCode|Diverted|CarrierDelay|WeatherDelay|NASDelay|SecurityDelay|LateAircraftDelay|updated_at\n",
      "2007|1|1|1|1232|1225|1341|1340|WN|2891|N351|69|75|54|1|7|SMF|ONT|389|4|11|0||0|0|0|0|0|0|1970-01-01 00:00:00\n",
      "2007|1|1|1|1918|1905|2043|2035|WN|462|N370|85|90|74|8|13|SMF|PDX|479|5|6|0||0|0|0|0|0|0|1970-01-01 00:00:00\n",
      "2007|1|1|1|2206|2130|2334|2300|WN|1229|N685|88|90|73|34|36|SMF|PDX|479|6|9|0||0|3|0|0|0|31|1970-01-01 00:00:00\n",
      "2007|1|1|1|1230|1200|1356|1330|WN|1355|N364|86|90|75|26|30|SMF|PDX|479|3|8|0||0|23|0|0|0|3|1970-01-01 00:00:00\n",
      "2007|1|1|1|831|830|957|1000|WN|2278|N480|86|90|74|-3|1|SMF|PDX|479|3|9|0||0|0|0|0|0|0|1970-01-01 00:00:00\n",
      "Year|Month|DayofMonth|DayOfWeek|DepTime|CRSDepTime|ArrTime|CRSArrTime|UniqueCarrier|FlightNum|TailNum|ActualElapsedTime|CRSElapsedTime|AirTime|ArrDelay|DepDelay|Origin|Dest|Distance|TaxiIn|TaxiOut|Cancelled|CancellationCode|Diverted|CarrierDelay|WeatherDelay|NASDelay|SecurityDelay|LateAircraftDelay|updated_at\n",
      "5555|1|1|1|1225|1215|1816|1745|NW|398|N326US|231|210|195|31|10|SMF|MSP|1518|15|21|0||0|3|0|21|0|7|2022-12-09 07:05:35\n"
     ]
    }
   ],
   "source": [
    "%%bash\n",
    "\n",
    "cd ~/tdm201/project13\n",
    "\n",
    "cp /anvil/projects/tdm/data/flights/flights_sample.db .\n",
    "\n",
    "sqlite3 flights_sample.db\n",
    "\n",
    ".header on\n",
    "SELECT * FROM flights LIMIT 5;\n",
    "\n",
    "ALTER TABLE flights ADD COLUMN updated_at DATETIME DEFAULT '1970-01-01 00:00:00';\n",
    "SELECT * FROM flights LIMIT 5;\n",
    "\n",
    "\n",
    "CREATE TRIGGER update_updated_at\n",
    "    AFTER UPDATE ON flights\n",
    "    BEGIN\n",
    "        UPDATE flights\n",
    "        SET updated_at = CURRENT_TIMESTAMP\n",
    "        WHERE rowid = new.rowid;\n",
    "    END;\n",
    "\n",
    "UPDATE flights SET Year = 5555 WHERE Year = 2007 AND Month = 1 AND DayofMonth = 1 AND DayOfWeek = 1 AND DepTime = 1225 AND Origin = 'SMF';\n",
    "\n",
    "SELECT * FROM flights WHERE Year = 5555;"
   ]
  },
  {
   "cell_type": "code",
   "execution_count": 44,
   "id": "41757824",
   "metadata": {
    "vscode": {
     "languageId": "shellscript"
    }
   },
   "outputs": [
    {
     "name": "stdout",
     "output_type": "stream",
     "text": [
      "5555|1|1|1|1225|1215|1816|1745|NW|398|N326US|231|210|195|31|10|SMF|MSP|1518|15|21|0||0|3|0|21|0|7|2022-12-09 06:53:33\n"
     ]
    }
   ],
   "source": [
    "%%bash\n",
    "sqlite3 flights_sample.db\n",
    "SELECT * FROM flights WHERE Year = 5555;"
   ]
  },
  {
   "cell_type": "markdown",
   "id": "fc601975-35ed-4680-a4e1-0273ee3cc047",
   "metadata": {},
   "source": [
    "## Question 2"
   ]
  },
  {
   "cell_type": "code",
   "execution_count": 40,
   "id": "a16336a1-1ef0-41e8-bc7c-49387db27497",
   "metadata": {
    "vscode": {
     "languageId": "sql"
    }
   },
   "outputs": [
    {
     "name": "stdout",
     "output_type": "stream",
     "text": [
      "tt0000001|short|Carmencita|Carmencita|0|1894||1|Documentary,Short|5.7|1718\n",
      "tt0000002|short|Le clown et ses chiens|Le clown et ses chiens|0|1892||5|Animation,Short|6|211\n",
      "tt0000003|short|Pauvre Pierrot|Pauvre Pierrot|0|1892||4|Animation,Comedy,Romance|6.5|1480\n",
      "tt0000004|short|Un bon bock|Un bon bock|0|1892||12|Animation,Short|6.1|124\n",
      "tt0000005|short|Blacksmith Scene|Blacksmith Scene|0|1893||1|Comedy,Short|6.2|2283\n"
     ]
    }
   ],
   "source": [
    "%%bash\n",
    "cp /anvil/projects/tdm/data/movies_and_tv/imdb.db $SCRATCH\n",
    "\n",
    "cd $SCRATCH\n",
    "\n",
    "sqlite3 imdb.db\n",
    "-- Create a view called titles_with_ratings that has all of the information from the titles table \n",
    "-- It also includes the rating and votes from the ratings table.\n",
    "-- The view should have the same columns as the titles table, plus the rating and votes columns from the ratings table.\n",
    "\n",
    "CREATE VIEW titles_with_ratings AS\n",
    "SELECT t.*, r.rating, r.votes FROM titles AS t INNER JOIN ratings AS r ON t.title_id = r.title_id;\n",
    "\n",
    "SELECT * FROM titles_with_ratings LIMIT 5;"
   ]
  },
  {
   "cell_type": "markdown",
   "id": "14dc22d4-ddc3-41cc-a91a-cb0025bc0c80",
   "metadata": {},
   "source": [
    "Markdown notes and sentences and analysis written here."
   ]
  },
  {
   "cell_type": "markdown",
   "id": "8e586edd-ff26-4ce2-8f6b-2424b26f2929",
   "metadata": {},
   "source": [
    "## Question 3"
   ]
  },
  {
   "cell_type": "code",
   "execution_count": 50,
   "id": "bbe0f40d-9655-4653-9ca8-886bdb61cb91",
   "metadata": {
    "vscode": {
     "languageId": "shellscript"
    }
   },
   "outputs": [
    {
     "name": "stdout",
     "output_type": "stream",
     "text": [
      "7777|1|1|1|1225|1215|1816|1745|NW|398|N326US|231|210|195|31|10|SMF|MSP|1518|15|21|0||0|3|0|21|0|7|2022-12-09 07:06:50\n",
      "5555|1|1|1|1225|1215|1816|1745|NW|398|N326US|231|210|195|31|10|SMF|MSP|1518|15|21|0||0|3|0|21|0|7|2022-12-09 07:05:35\n"
     ]
    }
   ],
   "source": [
    "%%bash\n",
    "\n",
    "cd ~/tdm201/project13\n",
    "\n",
    "sqlite3 flights_sample.db\n",
    "\n",
    "BEGIN;\n",
    "UPDATE flights SET Year = 7777 WHERE Year = 5555;\n",
    "SELECT * FROM flights WHERE Year = 7777;\n",
    "\n",
    "ROLLBACK;\n",
    "\n",
    "SELECT * FROM flights WHERE Year = 7777;\n",
    "SELECT * FROM flights WHERE Year = 5555;\n",
    "\n",
    "\n"
   ]
  },
  {
   "attachments": {},
   "cell_type": "markdown",
   "id": "47c6229f-35f7-400c-8366-c442baa5cf47",
   "metadata": {},
   "source": [
    "the first print is when the flight with year 5555 is changed and then the next print statement is when the flight with year 7777 is reverted back to 5555."
   ]
  },
  {
   "cell_type": "markdown",
   "id": "da22f29c-d245-4d2b-9fc1-ca14cb6087d9",
   "metadata": {},
   "source": [
    "## Question 4"
   ]
  },
  {
   "cell_type": "code",
   "execution_count": 65,
   "id": "b76ac9be",
   "metadata": {
    "vscode": {
     "languageId": "shellscript"
    }
   },
   "outputs": [
    {
     "name": "stdout",
     "output_type": "stream",
     "text": [
      "ABE|528.123837923171\n",
      "ABI|158.0\n",
      "ABQ|658.160054420446\n",
      "ABY|146.0\n",
      "ACK|209.105095541401\n",
      "ACT|89.0\n",
      "ACV|224.982954545455\n",
      "ACY|688.315646258503\n",
      "ADK|1075.94174757282\n",
      "ADQ|252.0\n",
      "AEX|337.576769025367\n",
      "AGS|144.82239720035\n",
      "AKN|368.110638297872\n",
      "ALB|613.982960240561\n",
      "ALO|166.0\n",
      "AMA|357.817157252718\n",
      "ANC|1232.19751961529\n",
      "APF|540.0\n",
      "ASE|244.783788878417\n",
      "ATL|653.067599208411\n",
      "ATW|324.797863731995\n",
      "AUS|676.490845616757\n",
      "AVL|420.746620726213\n",
      "AVP|561.011764705882\n",
      "AZO|174.013669205233\n",
      "BDL|755.942532258559\n",
      "BET|399.0\n",
      "BFL|372.461020211742\n",
      "BGM|461.831262939959\n",
      "BGR|577.777560498656\n",
      "BHM|537.661185468451\n",
      "BIL|491.085641244141\n",
      "BIS|439.536291600634\n",
      "BJI|199.0\n",
      "BLI|755.578231292517\n",
      "BMI|340.794264043612\n",
      "BNA|671.374848534469\n",
      "BOI|548.162929415663\n",
      "BOS|845.992214775561\n",
      "BPT|79.0\n",
      "BQK|238.0\n",
      "BQN|1459.30656934307\n",
      "BRO|308.0\n",
      "BRW|504.202479338843\n",
      "BTM|357.0\n",
      "BTR|402.772397796463\n",
      "BTV|474.422986600359\n",
      "BUF|495.255929853487\n",
      "BUR|529.143341712347\n",
      "BWI|703.85664396398\n",
      "BZN|584.290624403284\n",
      "CAE|509.066979362101\n",
      "CAK|528.891162292448\n",
      "CDV|186.5\n",
      "CEC|219.355450236967\n",
      "CHA|336.101478049857\n",
      "CHO|422.483405483405\n",
      "CHS|493.480380271805\n",
      "CIC|152.889374090247\n",
      "CID|392.770693211371\n",
      "CLD|118.705128205128\n",
      "CLE|598.682633353771\n",
      "CLL|149.226890756303\n",
      "CLT|607.111007961733\n",
      "CMH|562.135818804483\n",
      "CMI|208.873775843308\n",
      "CMX|277.0\n",
      "COD|332.476047904192\n",
      "COS|572.627981198863\n",
      "CPR|315.253984575835\n",
      "CRP|313.019796129414\n",
      "CRW|434.382790165809\n",
      "CSG|83.0\n",
      "CVG|609.361617605806\n",
      "CWA|255.025944726452\n",
      "DAB|465.170056956875\n",
      "DAL|315.432892810143\n",
      "DAY|450.631182795699\n",
      "DBQ|147.0\n",
      "DCA|599.297715968149\n",
      "DEN|818.839877473768\n",
      "DFW|770.000121071483\n",
      "DHN|171.0\n",
      "DLG|329.0\n",
      "DLH|254.862431444241\n",
      "DRO|282.021325209444\n",
      "DSM|524.908292300806\n",
      "DTW|569.028026008857\n",
      "EAU|85.0\n",
      "EGE|519.884649776453\n",
      "EKO|200.020340846619\n",
      "ELM|331.0\n",
      "ELP|559.412611786288\n",
      "ERI|321.639911634757\n",
      "EUG|493.525200188413\n",
      "EVV|332.621742112483\n",
      "EWN|433.0\n",
      "EWR|928.465191125992\n",
      "EYW|646.0\n",
      "FAI|625.344806763285\n",
      "FAR|462.463773584906\n",
      "FAT|368.613279012031\n",
      "FAY|331.0\n",
      "FCA|604.93343419062\n",
      "FLG|119.0\n",
      "FLL|966.026795747256\n",
      "FLO|273.0\n",
      "FNT|500.144308681672\n",
      "FSD|453.935260286094\n",
      "FSM|280.24168190128\n",
      "FWA|293.588199605642\n",
      "GEG|572.782956306167\n",
      "GFK|284.0\n",
      "GGG|140.0\n",
      "GJT|261.655619596542\n",
      "GLH|122.0\n",
      "GNV|300.0\n",
      "GPT|392.796316507503\n",
      "GRB|251.595684135641\n",
      "GRK|241.664789279472\n",
      "GRR|396.687789422374\n",
      "GSO|513.27870493992\n",
      "GSP|503.927889242615\n",
      "GST|41.0\n",
      "GTF|574.148097360302\n",
      "GTR|241.0\n",
      "GUC|204.889238020424\n",
      "HDN|364.39739292365\n",
      "HHH|239.0\n",
      "HLN|504.951747088186\n",
      "HNL|874.032257587192\n",
      "HOU|565.411248673505\n",
      "HPN|808.442676426128\n",
      "HRL|273.309396636993\n",
      "HSV|452.53533496732\n",
      "HTS|174.806451612903\n",
      "IAD|879.147889025569\n",
      "IAH|829.897225825766\n",
      "ICT|580.184677966102\n",
      "IDA|347.710020691694\n",
      "ILG|642.0\n",
      "ILM|294.768545216252\n",
      "IND|637.536878098036\n",
      "INL|254.0\n",
      "IPL|118.459230769231\n",
      "ISO|406.0\n",
      "ISP|838.820242186222\n",
      "ITO|208.596551724138\n",
      "IYK|123.01630988787\n",
      "JAC|478.734717088428\n",
      "JAN|456.110456987269\n",
      "JAX|606.015167960814\n",
      "JFK|1143.2562635519\n",
      "JNU|467.051045648752\n",
      "KOA|653.551153052934\n",
      "KTN|444.962730318258\n",
      "LAN|195.724902216428\n",
      "LAS|913.574471328702\n",
      "LAW|140.0\n",
      "LAX|961.014061625357\n",
      "LBB|329.036649816176\n",
      "LCH|127.0\n",
      "LEX|377.277054108216\n",
      "LFT|292.21529844215\n",
      "LGA|673.207991928331\n",
      "LGB|1122.15390570021\n",
      "LIH|404.85666900555\n",
      "LIT|456.433006055618\n",
      "LNK|432.27453769559\n",
      "LRD|360.610696028313\n",
      "LSE|171.24402866242\n",
      "LWB|369.0\n",
      "LWS|460.184135977337\n",
      "LYH|389.0\n",
      "MAF|360.723566543924\n",
      "MBS|177.833867521368\n",
      "MCI|671.185907000354\n",
      "MCN|79.0\n",
      "MCO|904.443326295674\n",
      "MDT|526.122342239909\n",
      "MDW|811.669611841899\n",
      "MEI|267.0\n",
      "MEM|539.311169649787\n",
      "MFE|491.301922670611\n",
      "MFR|410.884175927375\n",
      "MGM|240.653121175031\n",
      "MHT|664.185722984683\n",
      "MIA|1029.9030613821\n",
      "MKC|438.0\n",
      "MKE|551.765525982256\n",
      "MLB|483.149706457926\n",
      "MLI|412.658890290038\n",
      "MLU|351.483193277311\n",
      "MOB|402.10354885756\n",
      "MOD|174.733660130719\n",
      "MOT|449.0\n",
      "MQT|227.442469597755\n",
      "MRY|300.730383211679\n",
      "MSN|356.264758497317\n",
      "MSO|610.537956396112\n",
      "MSP|762.729200621126\n",
      "MSY|636.122157036085\n",
      "MTH|647.0\n",
      "MTJ|346.308902532617\n",
      "MYR|315.557510348906\n",
      "OAJ|399.0\n",
      "OAK|728.191905308388\n",
      "OGG|747.627121301195\n",
      "OKC|571.763721999703\n",
      "OMA|644.493465332431\n",
      "OME|421.205882352941\n",
      "ONT|587.18348822131\n",
      "ORD|694.259053073042\n",
      "ORF|569.074905056966\n",
      "OTZ|304.325966850829\n",
      "OXR|49.0316642120766\n",
      "PBI|882.60125646711\n",
      "PDX|923.541269218299\n",
      "PFN|304.010957324106\n",
      "PHF|501.305695746215\n",
      "PHL|890.783948185234\n",
      "PHX|863.450959862038\n",
      "PIA|290.418128115193\n",
      "PIH|150.0\n",
      "PIR|872.5\n",
      "PIT|629.835070820378\n",
      "PLN|243.71875\n",
      "PMD|315.323979591837\n",
      "PNS|421.355350194553\n",
      "PSC|650.861476608187\n",
      "PSE|1493.62137862138\n",
      "PSG|77.0\n",
      "PSP|521.95280660556\n",
      "PVD|669.942679176851\n",
      "PWM|541.229445506692\n",
      "RAP|420.936492136174\n",
      "RDD|199.063022866704\n",
      "RDM|313.482720789907\n",
      "RDU|554.678998199378\n",
      "RFD|829.340057636888\n",
      "RHI|190.0\n",
      "RIC|503.880092662537\n",
      "RNO|516.480687957076\n",
      "ROA|385.559482060966\n",
      "ROC|483.151904596503\n",
      "ROW|435.0\n",
      "RST|213.372530573848\n",
      "RSW|899.090566720985\n",
      "SAN|827.073276747914\n",
      "SAT|668.015616237436\n",
      "SAV|499.299838946852\n",
      "SBA|299.13051702396\n",
      "SBN|241.250390015601\n",
      "SBP|246.466534316506\n",
      "SCC|415.0\n",
      "SCE|409.703101920236\n",
      "SDF|469.933375320527\n",
      "SEA|1197.90155506886\n",
      "SFO|1034.68435494003\n",
      "SGF|438.364170736119\n",
      "SGU|284.935918591859\n",
      "SHV|335.059872895529\n",
      "SIT|251.191791044776\n",
      "SJC|669.921461394085\n",
      "SJT|228.0\n",
      "SJU|1517.0352608714\n",
      "SLC|686.020952857761\n",
      "SLE|627.298994974874\n",
      "SMF|689.214467748046\n",
      "SMX|135.0\n",
      "SNA|759.87220742923\n",
      "SOP|297.0\n",
      "SPI|243.751289398281\n",
      "SPS|113.0\n",
      "SRQ|689.524485063429\n",
      "STL|683.606404958678\n",
      "STT|1180.68629441624\n",
      "STX|1275.5114822547\n",
      "SUN|222.865648379052\n",
      "SUX|234.0\n",
      "SWF|854.525214592275\n",
      "SYR|486.256615152657\n",
      "TEX|387.0\n",
      "TLH|359.935239896006\n",
      "TOL|324.281488549618\n",
      "TPA|844.772676568277\n",
      "TRI|232.028169014085\n",
      "TTN|332.581683168317\n",
      "TUL|529.692472691162\n",
      "TUP|253.0\n",
      "TUS|664.069215206048\n",
      "TVC|243.851824993957\n",
      "TWF|174.971891376846\n",
      "TXK|181.0\n",
      "TYR|103.0\n",
      "TYS|481.099319727891\n",
      "VLD|208.0\n",
      "VPS|427.641403204851\n",
      "WRG|56.5\n",
      "WYS|273.0\n",
      "XNA|569.079714795009\n",
      "YAK|206.0\n",
      "YKM|586.0\n",
      "YUM|168.602724177072\n"
     ]
    }
   ],
   "source": [
    "%%bash\n",
    "\n",
    "cd ~/tdm201/project13\n",
    "\n",
    "sqlite3 flights_sample.db\n",
    "\n",
    "SELECT Origin, AVG(Distance)\n",
    "FROM flights\n",
    "GROUP BY Origin\n"
   ]
  },
  {
   "attachments": {},
   "cell_type": "markdown",
   "id": "0d552245-b4d6-474a-9cc9-fa7b8e674d55",
   "metadata": {},
   "source": [
    "I decided to experiment with the average function and see what the average distance per location was."
   ]
  },
  {
   "cell_type": "markdown",
   "id": "f76442d6-d02e-4f26-b9d6-c3183e1d6929",
   "metadata": {},
   "source": [
    "## Pledge\n",
    "\n",
    "By submitting this work I hereby pledge that this is my own, personal work. I've acknowledged in the designated place at the top of this file all sources that I used to complete said work, including but not limited to: online resources, books, and electronic communications. I've noted all collaboration with fellow students and/or TA's. I did not copy or plagiarize another's work.\n",
    "\n",
    "> As a Boilermaker pursuing academic excellence, I pledge to be honest and true in all that I do. Accountable together – We are Purdue."
   ]
  }
 ],
 "metadata": {
  "kernelspec": {
   "display_name": "f2022-s2023",
   "language": "python",
   "name": "f2022-s2023"
  },
  "language_info": {
   "codemirror_mode": {
    "name": "ipython",
    "version": 3
   },
   "file_extension": ".py",
   "mimetype": "text/x-python",
   "name": "python",
   "nbconvert_exporter": "python",
   "pygments_lexer": "ipython3",
   "version": "3.10.7"
  },
  "vscode": {
   "interpreter": {
    "hash": "ede1fc51efc0c2e1fa43b680fdadfb56e2fd99fe201f23fb79f1719519f26dcb"
   }
  }
 },
 "nbformat": 4,
 "nbformat_minor": 5
}
