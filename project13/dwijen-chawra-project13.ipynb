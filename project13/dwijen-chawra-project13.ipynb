{
 "cells": [
  {
   "cell_type": "markdown",
   "id": "be02a957-7133-4d02-818e-fedeb3cecb05",
   "metadata": {},
   "source": [
    "# Project 13 -- Dwijen Chawra"
   ]
  },
  {
   "cell_type": "markdown",
   "id": "6180e742-8e39-4698-98ff-5b00c8cf8ea0",
   "metadata": {},
   "source": [
    "## Question 1"
   ]
  },
  {
   "cell_type": "code",
   "execution_count": 3,
   "id": "7e417b67",
   "metadata": {
    "vscode": {
     "languageId": "shellscript"
    }
   },
   "outputs": [
    {
     "name": "stdout",
     "output_type": "stream",
     "text": [
      "The sql extension is already loaded. To reload it, use:\n",
      "  %reload_ext sql\n"
     ]
    }
   ],
   "source": [
    "%load_ext sql"
   ]
  },
  {
   "cell_type": "code",
   "execution_count": 4,
   "id": "55e95543",
   "metadata": {
    "vscode": {
     "languageId": "shellscript"
    }
   },
   "outputs": [],
   "source": [
    "%sql sqlite:///flights_sample.db\n"
   ]
  },
  {
   "cell_type": "code",
   "execution_count": 43,
   "id": "49445606-d363-41b4-b479-e319a9a84c01",
   "metadata": {
    "vscode": {
     "languageId": "sql"
    }
   },
   "outputs": [
    {
     "name": "stdout",
     "output_type": "stream",
     "text": [
      "Year|Month|DayofMonth|DayOfWeek|DepTime|CRSDepTime|ArrTime|CRSArrTime|UniqueCarrier|FlightNum|TailNum|ActualElapsedTime|CRSElapsedTime|AirTime|ArrDelay|DepDelay|Origin|Dest|Distance|TaxiIn|TaxiOut|Cancelled|CancellationCode|Diverted|CarrierDelay|WeatherDelay|NASDelay|SecurityDelay|LateAircraftDelay\n",
      "2007|1|1|1|1232|1225|1341|1340|WN|2891|N351|69|75|54|1|7|SMF|ONT|389|4|11|0||0|0|0|0|0|0\n",
      "2007|1|1|1|1918|1905|2043|2035|WN|462|N370|85|90|74|8|13|SMF|PDX|479|5|6|0||0|0|0|0|0|0\n",
      "2007|1|1|1|2206|2130|2334|2300|WN|1229|N685|88|90|73|34|36|SMF|PDX|479|6|9|0||0|3|0|0|0|31\n",
      "2007|1|1|1|1230|1200|1356|1330|WN|1355|N364|86|90|75|26|30|SMF|PDX|479|3|8|0||0|23|0|0|0|3\n",
      "2007|1|1|1|831|830|957|1000|WN|2278|N480|86|90|74|-3|1|SMF|PDX|479|3|9|0||0|0|0|0|0|0\n",
      "Year|Month|DayofMonth|DayOfWeek|DepTime|CRSDepTime|ArrTime|CRSArrTime|UniqueCarrier|FlightNum|TailNum|ActualElapsedTime|CRSElapsedTime|AirTime|ArrDelay|DepDelay|Origin|Dest|Distance|TaxiIn|TaxiOut|Cancelled|CancellationCode|Diverted|CarrierDelay|WeatherDelay|NASDelay|SecurityDelay|LateAircraftDelay|updated_at\n",
      "2007|1|1|1|1232|1225|1341|1340|WN|2891|N351|69|75|54|1|7|SMF|ONT|389|4|11|0||0|0|0|0|0|0|1970-01-01 00:00:00\n",
      "2007|1|1|1|1918|1905|2043|2035|WN|462|N370|85|90|74|8|13|SMF|PDX|479|5|6|0||0|0|0|0|0|0|1970-01-01 00:00:00\n",
      "2007|1|1|1|2206|2130|2334|2300|WN|1229|N685|88|90|73|34|36|SMF|PDX|479|6|9|0||0|3|0|0|0|31|1970-01-01 00:00:00\n",
      "2007|1|1|1|1230|1200|1356|1330|WN|1355|N364|86|90|75|26|30|SMF|PDX|479|3|8|0||0|23|0|0|0|3|1970-01-01 00:00:00\n",
      "2007|1|1|1|831|830|957|1000|WN|2278|N480|86|90|74|-3|1|SMF|PDX|479|3|9|0||0|0|0|0|0|0|1970-01-01 00:00:00\n",
      "Year|Month|DayofMonth|DayOfWeek|DepTime|CRSDepTime|ArrTime|CRSArrTime|UniqueCarrier|FlightNum|TailNum|ActualElapsedTime|CRSElapsedTime|AirTime|ArrDelay|DepDelay|Origin|Dest|Distance|TaxiIn|TaxiOut|Cancelled|CancellationCode|Diverted|CarrierDelay|WeatherDelay|NASDelay|SecurityDelay|LateAircraftDelay|updated_at\n",
      "5555|1|1|1|1225|1215|1816|1745|NW|398|N326US|231|210|195|31|10|SMF|MSP|1518|15|21|0||0|3|0|21|0|7|2022-12-09 06:53:33\n"
     ]
    }
   ],
   "source": [
    "%%bash\n",
    "\n",
    "cd ~/tdm201/project13\n",
    "\n",
    "cp /anvil/projects/tdm/data/flights/flights_sample.db .\n",
    "\n",
    "sqlite3 flights_sample.db\n",
    "\n",
    ".header on\n",
    "SELECT * FROM flights LIMIT 5;\n",
    "\n",
    "ALTER TABLE flights ADD COLUMN updated_at DATETIME DEFAULT '1970-01-01 00:00:00';\n",
    "SELECT * FROM flights LIMIT 5;\n",
    "\n",
    "\n",
    "CREATE TRIGGER update_updated_at\n",
    "    AFTER UPDATE ON flights\n",
    "    BEGIN\n",
    "        UPDATE flights\n",
    "        SET updated_at = CURRENT_TIMESTAMP\n",
    "        WHERE rowid = new.rowid;\n",
    "    END;\n",
    "\n",
    "UPDATE flights SET Year = 5555 WHERE Year = 2007 AND Month = 1 AND DayofMonth = 1 AND DayOfWeek = 1 AND DepTime = 1225 AND Origin = 'SMF';\n",
    "\n",
    "SELECT * FROM flights WHERE Year = 5555;"
   ]
  },
  {
   "cell_type": "code",
   "execution_count": 44,
   "id": "41757824",
   "metadata": {
    "vscode": {
     "languageId": "shellscript"
    }
   },
   "outputs": [
    {
     "name": "stdout",
     "output_type": "stream",
     "text": [
      "5555|1|1|1|1225|1215|1816|1745|NW|398|N326US|231|210|195|31|10|SMF|MSP|1518|15|21|0||0|3|0|21|0|7|2022-12-09 06:53:33\n"
     ]
    }
   ],
   "source": [
    "%%bash\n",
    "sqlite3 flights_sample.db\n",
    "SELECT * FROM flights WHERE Year = 5555;"
   ]
  },
  {
   "cell_type": "markdown",
   "id": "fc601975-35ed-4680-a4e1-0273ee3cc047",
   "metadata": {},
   "source": [
    "## Question 2"
   ]
  },
  {
   "cell_type": "code",
   "execution_count": 40,
   "id": "a16336a1-1ef0-41e8-bc7c-49387db27497",
   "metadata": {
    "vscode": {
     "languageId": "sql"
    }
   },
   "outputs": [
    {
     "name": "stdout",
     "output_type": "stream",
     "text": [
      "tt0000001|short|Carmencita|Carmencita|0|1894||1|Documentary,Short|5.7|1718\n",
      "tt0000002|short|Le clown et ses chiens|Le clown et ses chiens|0|1892||5|Animation,Short|6|211\n",
      "tt0000003|short|Pauvre Pierrot|Pauvre Pierrot|0|1892||4|Animation,Comedy,Romance|6.5|1480\n",
      "tt0000004|short|Un bon bock|Un bon bock|0|1892||12|Animation,Short|6.1|124\n",
      "tt0000005|short|Blacksmith Scene|Blacksmith Scene|0|1893||1|Comedy,Short|6.2|2283\n"
     ]
    }
   ],
   "source": [
    "%%bash\n",
    "cp /anvil/projects/tdm/data/movies_and_tv/imdb.db $SCRATCH\n",
    "\n",
    "cd $SCRATCH\n",
    "\n",
    "sqlite3 imdb.db\n",
    "-- Create a view called titles_with_ratings that has all of the information from the titles table \n",
    "-- It also includes the rating and votes from the ratings table.\n",
    "-- The view should have the same columns as the titles table, plus the rating and votes columns from the ratings table.\n",
    "\n",
    "CREATE VIEW titles_with_ratings AS\n",
    "SELECT t.*, r.rating, r.votes FROM titles AS t INNER JOIN ratings AS r ON t.title_id = r.title_id;\n",
    "\n",
    "SELECT * FROM titles_with_ratings LIMIT 5;"
   ]
  },
  {
   "cell_type": "markdown",
   "id": "14dc22d4-ddc3-41cc-a91a-cb0025bc0c80",
   "metadata": {},
   "source": [
    "Markdown notes and sentences and analysis written here."
   ]
  },
  {
   "cell_type": "markdown",
   "id": "8e586edd-ff26-4ce2-8f6b-2424b26f2929",
   "metadata": {},
   "source": [
    "## Question 3"
   ]
  },
  {
   "cell_type": "code",
   "execution_count": 45,
   "id": "bbe0f40d-9655-4653-9ca8-886bdb61cb91",
   "metadata": {
    "vscode": {
     "languageId": "shellscript"
    }
   },
   "outputs": [
    {
     "ename": "SyntaxError",
     "evalue": "invalid syntax (3324422648.py, line 1)",
     "output_type": "error",
     "traceback": [
      "\u001b[0;36m  Input \u001b[0;32mIn [45]\u001b[0;36m\u001b[0m\n\u001b[0;31m    cd ~/tdm201/project13\u001b[0m\n\u001b[0m       ^\u001b[0m\n\u001b[0;31mSyntaxError\u001b[0m\u001b[0;31m:\u001b[0m invalid syntax\n"
     ]
    }
   ],
   "source": [
    "%%bash\n",
    "\n",
    "cd ~/tdm201/project13\n",
    "\n",
    "sqlite3 flights_sample.db\n",
    "\n",
    "UPDATE flights SET Year = 7777 WHERE Year = 5555;\n",
    "SELECT * FROM flights WHERE Year = 7777;\n",
    "\n"
   ]
  },
  {
   "cell_type": "markdown",
   "id": "47c6229f-35f7-400c-8366-c442baa5cf47",
   "metadata": {},
   "source": [
    "Markdown notes and sentences and analysis written here."
   ]
  },
  {
   "cell_type": "markdown",
   "id": "da22f29c-d245-4d2b-9fc1-ca14cb6087d9",
   "metadata": {},
   "source": [
    "## Question 4"
   ]
  },
  {
   "cell_type": "code",
   "execution_count": null,
   "id": "8cffc767-d1c8-4d64-b7dc-f0d2ee8a80d1",
   "metadata": {
    "vscode": {
     "languageId": "shellscript"
    }
   },
   "outputs": [],
   "source": [
    "# code here"
   ]
  },
  {
   "cell_type": "markdown",
   "id": "0d552245-b4d6-474a-9cc9-fa7b8e674d55",
   "metadata": {},
   "source": [
    "Markdown notes and sentences and analysis written here."
   ]
  },
  {
   "cell_type": "markdown",
   "id": "88c9cdac-3e92-498f-83fa-e089bfc44ac8",
   "metadata": {},
   "source": [
    "## Question 5"
   ]
  },
  {
   "cell_type": "code",
   "execution_count": null,
   "id": "d370d7c9-06db-42b9-b75f-240481a5c491",
   "metadata": {
    "vscode": {
     "languageId": "shellscript"
    }
   },
   "outputs": [],
   "source": [
    "# code here"
   ]
  },
  {
   "cell_type": "markdown",
   "id": "9fbf00fb-2418-460f-ae94-2a32b0c28952",
   "metadata": {},
   "source": [
    "Markdown notes and sentences and analysis written here."
   ]
  },
  {
   "cell_type": "markdown",
   "id": "f76442d6-d02e-4f26-b9d6-c3183e1d6929",
   "metadata": {},
   "source": [
    "## Pledge\n",
    "\n",
    "By submitting this work I hereby pledge that this is my own, personal work. I've acknowledged in the designated place at the top of this file all sources that I used to complete said work, including but not limited to: online resources, books, and electronic communications. I've noted all collaboration with fellow students and/or TA's. I did not copy or plagiarize another's work.\n",
    "\n",
    "> As a Boilermaker pursuing academic excellence, I pledge to be honest and true in all that I do. Accountable together – We are Purdue."
   ]
  }
 ],
 "metadata": {
  "kernelspec": {
   "display_name": "f2022-s2023",
   "language": "python",
   "name": "f2022-s2023"
  },
  "language_info": {
   "codemirror_mode": {
    "name": "ipython",
    "version": 3
   },
   "file_extension": ".py",
   "mimetype": "text/x-python",
   "name": "python",
   "nbconvert_exporter": "python",
   "pygments_lexer": "ipython3",
   "version": "3.10.7"
  },
  "vscode": {
   "interpreter": {
    "hash": "ede1fc51efc0c2e1fa43b680fdadfb56e2fd99fe201f23fb79f1719519f26dcb"
   }
  }
 },
 "nbformat": 4,
 "nbformat_minor": 5
}
