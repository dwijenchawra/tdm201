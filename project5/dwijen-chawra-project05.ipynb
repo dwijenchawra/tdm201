{
 "cells": [
  {
   "cell_type": "markdown",
   "id": "be02a957-7133-4d02-818e-fedeb3cecb05",
   "metadata": {},
   "source": [
    "# Project 5 -- Dwijen Chawra"
   ]
  },
  {
   "cell_type": "markdown",
   "id": "a1228853-dd19-4ab2-89e0-0394d7d72de3",
   "metadata": {},
   "source": [
    "**TA Help:** None\n",
    "\n",
    "- \n",
    "    \n",
    "**Collaboration:** None\n",
    "\n",
    "- \n",
    "\n",
    "**Resources Used:** \n",
    "\n",
    "- https://stackoverflow.com/questions/22190902/cut-or-awk-command-to-print-first-field-of-first-row\n",
    "  - Learned how to print the first line using the dollar sign operator, and the exit command.\n",
    "- https://www.linuxquestions.org/questions/linux-general-1/awk-gawk-to-print-equally-spaced-output-906329/\n",
    "  - learned how to `printf`\n",
    "\n"
   ]
  },
  {
   "cell_type": "markdown",
   "id": "6180e742-8e39-4698-98ff-5b00c8cf8ea0",
   "metadata": {},
   "source": [
    "## Question 1"
   ]
  },
  {
   "cell_type": "code",
   "execution_count": 9,
   "id": "49445606-d363-41b4-b479-e319a9a84c01",
   "metadata": {
    "vscode": {
     "languageId": "shellscript"
    }
   },
   "outputs": [
    {
     "name": "stdout",
     "output_type": "stream",
     "text": [
      "24\n"
     ]
    }
   ],
   "source": [
    "%%bash\n",
    "awk -F \";\" \"{print NF; exit}\" iowa_liquor_sales_cleaner.csv"
   ]
  },
  {
   "cell_type": "code",
   "execution_count": 23,
   "id": "a37b7198",
   "metadata": {
    "vscode": {
     "languageId": "shellscript"
    }
   },
   "outputs": [
    {
     "name": "stdout",
     "output_type": "stream",
     "text": [
      "Invoice/Item Number;Date;Store Number;Store Name;Address;City;Zip Code;Store Location;County Number;County;Category;Category Name;Vendor Number;Vendor Name;Item Number;Item Description;Pack;Bottle Volume (ml);State Bottle Cost;State Bottle Retail;Bottles Sold;Sale (Dollars);Volume Sold (Liters);Volume Sold (Gallons)\n"
     ]
    }
   ],
   "source": [
    "%%bash\n",
    "awk \"{print $1; exit}\" iowa_liquor_sales_cleaner.csv\n"
   ]
  },
  {
   "cell_type": "code",
   "execution_count": 10,
   "id": "4f236b93",
   "metadata": {
    "vscode": {
     "languageId": "shellscript"
    }
   },
   "outputs": [
    {
     "name": "stdout",
     "output_type": "stream",
     "text": [
      "12591079\n"
     ]
    }
   ],
   "source": [
    "%%bash\n",
    "awk \"END{print NR}\" iowa_liquor_sales_cleaner.csv"
   ]
  },
  {
   "cell_type": "markdown",
   "id": "fc601975-35ed-4680-a4e1-0273ee3cc047",
   "metadata": {},
   "source": [
    "## Question 2"
   ]
  },
  {
   "cell_type": "code",
   "execution_count": 10,
   "id": "a16336a1-1ef0-41e8-bc7c-49387db27497",
   "metadata": {
    "vscode": {
     "languageId": "shellscript"
    }
   },
   "outputs": [
    {
     "name": "stdout",
     "output_type": "stream",
     "text": [
      "    Store Name                            Number of Sales\n",
      "1   Hy-Vee #3 / BDI / Des Moines          112191\n",
      "2   Central City 2                        89443\n",
      "3   Central City Liquor, Inc.             89043\n",
      "4   Hy-Vee Wine and Spirits / Iowa City   84825\n",
      "5   Hy-Vee #3 Food and Drugstore          72274\n",
      "6   Hy-Vee  #2 / Ames                     68215\n",
      "7   Hy-Vee Food Store #1 / Mason City     68092\n",
      "8   Hy-Vee Wine and Spirits / Bettendorf  64516\n",
      "9   Hy-Vee Food Store #1 / Ames           62404\n",
      "10  Hy-Vee #4 / Wdm                       62394\n"
     ]
    }
   ],
   "source": [
    "%%bash\n",
    "\n",
    "cat iowa_liquor_sales_cleaner.csv | awk -F \";\" '\n",
    "    BEGIN{\n",
    "        PROCINFO[\"sorted_in\"] = \"@val_num_desc\"\n",
    "    }\n",
    "    {\n",
    "    storename[$3] = $4;\n",
    "    numsales[$3]++;\n",
    "    }\n",
    "    END{\n",
    "        count = 1;\n",
    "        for (i in numsales) {\n",
    "            print(count\":\"storename[i]\":\"numsales[i])\n",
    "            count++;\n",
    "        }\n",
    "    }' | head -n 10 | column --table --table-columns \" \",\"Store Name\",\"Number of Sales\" -s \":\""
   ]
  },
  {
   "cell_type": "markdown",
   "id": "14dc22d4-ddc3-41cc-a91a-cb0025bc0c80",
   "metadata": {},
   "source": [
    "Markdown notes and sentences and analysis written here."
   ]
  },
  {
   "cell_type": "markdown",
   "id": "8e586edd-ff26-4ce2-8f6b-2424b26f2929",
   "metadata": {},
   "source": [
    "## Question 3"
   ]
  },
  {
   "cell_type": "code",
   "execution_count": null,
   "id": "bbe0f40d-9655-4653-9ca8-886bdb61cb91",
   "metadata": {
    "vscode": {
     "languageId": "shellscript"
    }
   },
   "outputs": [],
   "source": [
    "% % bash\n",
    "\n",
    "cat iowa_liquor_sales_cleaner.csv | awk - F \";\" '\n",
    "BEGIN{\n",
    "    PROCINFO[\"sorted_in\"] = \"@val_num_desc\"\n",
    "}\n",
    "{\n",
    "    storename[$3] = $4\n",
    "    numsales[$3]++\n",
    "}\n",
    "END{\n",
    "    count = 1\n",
    "    for (i in numsales) {\n",
    "        print(count\":\"storename[i]\":\"numsales[i])\n",
    "        count++\n",
    "    }\n",
    "}' | head - n 10 | column - -table - -table-columns \" \", \"Store Name\", \"Number of Sales\" - s \":\"\n"
   ]
  },
  {
   "cell_type": "markdown",
   "id": "47c6229f-35f7-400c-8366-c442baa5cf47",
   "metadata": {},
   "source": [
    "Markdown notes and sentences and analysis written here."
   ]
  },
  {
   "cell_type": "markdown",
   "id": "da22f29c-d245-4d2b-9fc1-ca14cb6087d9",
   "metadata": {},
   "source": [
    "## Question 4"
   ]
  },
  {
   "cell_type": "code",
   "execution_count": null,
   "id": "8cffc767-d1c8-4d64-b7dc-f0d2ee8a80d1",
   "metadata": {},
   "outputs": [],
   "source": [
    "# code here"
   ]
  },
  {
   "cell_type": "markdown",
   "id": "0d552245-b4d6-474a-9cc9-fa7b8e674d55",
   "metadata": {},
   "source": [
    "Markdown notes and sentences and analysis written here."
   ]
  },
  {
   "cell_type": "markdown",
   "id": "88c9cdac-3e92-498f-83fa-e089bfc44ac8",
   "metadata": {},
   "source": [
    "## Question 5"
   ]
  },
  {
   "cell_type": "code",
   "execution_count": null,
   "id": "d370d7c9-06db-42b9-b75f-240481a5c491",
   "metadata": {},
   "outputs": [],
   "source": [
    "# code here"
   ]
  },
  {
   "cell_type": "markdown",
   "id": "9fbf00fb-2418-460f-ae94-2a32b0c28952",
   "metadata": {},
   "source": [
    "Markdown notes and sentences and analysis written here."
   ]
  },
  {
   "cell_type": "markdown",
   "id": "f76442d6-d02e-4f26-b9d6-c3183e1d6929",
   "metadata": {},
   "source": [
    "## Pledge\n",
    "\n",
    "By submitting this work I hereby pledge that this is my own, personal work. I've acknowledged in the designated place at the top of this file all sources that I used to complete said work, including but not limited to: online resources, books, and electronic communications. I've noted all collaboration with fellow students and/or TA's. I did not copy or plagiarize another's work.\n",
    "\n",
    "> As a Boilermaker pursuing academic excellence, I pledge to be honest and true in all that I do. Accountable together – We are Purdue."
   ]
  }
 ],
 "metadata": {
  "kernelspec": {
   "display_name": "Python 3.9.7 64-bit ('jupyter')",
   "language": "python",
   "name": "python3"
  },
  "language_info": {
   "codemirror_mode": {
    "name": "ipython",
    "version": 3
   },
   "file_extension": ".py",
   "mimetype": "text/x-python",
   "name": "python",
   "nbconvert_exporter": "python",
   "pygments_lexer": "ipython3",
   "version": "3.9.7"
  },
  "vscode": {
   "interpreter": {
    "hash": "ee1cd9b302554fc418f8b84f658dab3188467b37dcaeb92c53502d81e2e402a3"
   }
  }
 },
 "nbformat": 4,
 "nbformat_minor": 5
}
