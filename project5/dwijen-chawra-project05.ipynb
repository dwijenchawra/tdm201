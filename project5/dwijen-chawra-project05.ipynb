{
 "cells": [
  {
   "cell_type": "markdown",
   "id": "be02a957-7133-4d02-818e-fedeb3cecb05",
   "metadata": {},
   "source": [
    "# Project 5 -- Dwijen Chawra"
   ]
  },
  {
   "cell_type": "markdown",
   "id": "a1228853-dd19-4ab2-89e0-0394d7d72de3",
   "metadata": {},
   "source": [
    "**TA Help:** None\n",
    "\n",
    "- \n",
    "    \n",
    "**Collaboration:** None\n",
    "\n",
    "- \n",
    "\n",
    "**Resources Used:** \n",
    "\n",
    "- https://stackoverflow.com/questions/22190902/cut-or-awk-command-to-print-first-field-of-first-row\n",
    "  - Learned how to print the first line using the dollar sign operator, and the exit command.\n",
    "- https://www.linuxquestions.org/questions/linux-general-1/awk-gawk-to-print-equally-spaced-output-906329/\n",
    "  - learned how to `printf`\n",
    "\n"
   ]
  },
  {
   "cell_type": "markdown",
   "id": "6180e742-8e39-4698-98ff-5b00c8cf8ea0",
   "metadata": {},
   "source": [
    "## Question 1"
   ]
  },
  {
   "cell_type": "code",
   "execution_count": 9,
   "id": "49445606-d363-41b4-b479-e319a9a84c01",
   "metadata": {
    "vscode": {
     "languageId": "shellscript"
    }
   },
   "outputs": [
    {
     "name": "stdout",
     "output_type": "stream",
     "text": [
      "24\n"
     ]
    }
   ],
   "source": [
    "%%bash\n",
    "awk -F \";\" \"{print NF; exit}\" iowa_liquor_sales_cleaner.csv"
   ]
  },
  {
   "cell_type": "code",
   "execution_count": 23,
   "id": "a37b7198",
   "metadata": {
    "vscode": {
     "languageId": "shellscript"
    }
   },
   "outputs": [
    {
     "name": "stdout",
     "output_type": "stream",
     "text": [
      "Invoice/Item Number;Date;Store Number;Store Name;Address;City;Zip Code;Store Location;County Number;County;Category;Category Name;Vendor Number;Vendor Name;Item Number;Item Description;Pack;Bottle Volume (ml);State Bottle Cost;State Bottle Retail;Bottles Sold;Sale (Dollars);Volume Sold (Liters);Volume Sold (Gallons)\n"
     ]
    }
   ],
   "source": [
    "%%bash\n",
    "awk \"{print $1; exit}\" iowa_liquor_sales_cleaner.csv\n"
   ]
  },
  {
   "cell_type": "code",
   "execution_count": 10,
   "id": "4f236b93",
   "metadata": {
    "vscode": {
     "languageId": "shellscript"
    }
   },
   "outputs": [
    {
     "name": "stdout",
     "output_type": "stream",
     "text": [
      "12591079\n"
     ]
    }
   ],
   "source": [
    "%%bash\n",
    "awk \"END{print NR}\" iowa_liquor_sales_cleaner.csv"
   ]
  },
  {
   "cell_type": "markdown",
   "id": "fc601975-35ed-4680-a4e1-0273ee3cc047",
   "metadata": {},
   "source": [
    "## Question 2"
   ]
  },
  {
   "cell_type": "code",
   "execution_count": 10,
   "id": "a16336a1-1ef0-41e8-bc7c-49387db27497",
   "metadata": {
    "vscode": {
     "languageId": "shellscript"
    }
   },
   "outputs": [
    {
     "name": "stdout",
     "output_type": "stream",
     "text": [
      "    Store Name                            Number of Sales\n",
      "1   Hy-Vee #3 / BDI / Des Moines          112191\n",
      "2   Central City 2                        89443\n",
      "3   Central City Liquor, Inc.             89043\n",
      "4   Hy-Vee Wine and Spirits / Iowa City   84825\n",
      "5   Hy-Vee #3 Food and Drugstore          72274\n",
      "6   Hy-Vee  #2 / Ames                     68215\n",
      "7   Hy-Vee Food Store #1 / Mason City     68092\n",
      "8   Hy-Vee Wine and Spirits / Bettendorf  64516\n",
      "9   Hy-Vee Food Store #1 / Ames           62404\n",
      "10  Hy-Vee #4 / Wdm                       62394\n"
     ]
    }
   ],
   "source": [
    "%%bash\n",
    "\n",
    "cat iowa_liquor_sales_cleaner.csv | awk -F \";\" '\n",
    "    BEGIN{\n",
    "        PROCINFO[\"sorted_in\"] = \"@val_num_desc\"\n",
    "    }\n",
    "    {\n",
    "    storename[$3] = $4;\n",
    "    numsales[$3]++;\n",
    "    }\n",
    "    END{\n",
    "        count = 1;\n",
    "        for (i in numsales) {\n",
    "            print(count\":\"storename[i]\":\"numsales[i])\n",
    "            count++;\n",
    "        }\n",
    "    }' | head -n 10 | column --table --table-columns \" \",\"Store Name\",\"Number of Sales\" -s \":\""
   ]
  },
  {
   "cell_type": "markdown",
   "id": "14dc22d4-ddc3-41cc-a91a-cb0025bc0c80",
   "metadata": {},
   "source": [
    "Markdown notes and sentences and analysis written here."
   ]
  },
  {
   "cell_type": "markdown",
   "id": "8e586edd-ff26-4ce2-8f6b-2424b26f2929",
   "metadata": {},
   "source": [
    "## Question 3"
   ]
  },
  {
   "cell_type": "code",
   "execution_count": 32,
   "id": "bbe0f40d-9655-4653-9ca8-886bdb61cb91",
   "metadata": {
    "vscode": {
     "languageId": "shellscript"
    }
   },
   "outputs": [
    {
     "name": "stdout",
     "output_type": "stream",
     "text": [
      "$1,468,014,792.77"
     ]
    }
   ],
   "source": [
    "%%bash\n",
    "\n",
    "cat iowa_liquor_sales_cleaner.csv | awk -F \";\" '\n",
    "    BEGIN{\n",
    "        totalSales = 0;\n",
    "    }\n",
    "    {\n",
    "        if (NR != 1) {\n",
    "            gsub(/\\$/, \"\", $22)\n",
    "            totalSales += $22;\n",
    "        }\n",
    "    }\n",
    "    END{\n",
    "        printf(\"$%\\047.2f\", totalSales)\n",
    "    }'"
   ]
  },
  {
   "cell_type": "markdown",
   "id": "47c6229f-35f7-400c-8366-c442baa5cf47",
   "metadata": {},
   "source": [
    "Markdown notes and sentences and analysis written here."
   ]
  },
  {
   "cell_type": "markdown",
   "id": "da22f29c-d245-4d2b-9fc1-ca14cb6087d9",
   "metadata": {},
   "source": [
    "## Question 4"
   ]
  },
  {
   "cell_type": "code",
   "execution_count": 1,
   "id": "27b6f685",
   "metadata": {
    "vscode": {
     "languageId": "shellscript"
    }
   },
   "outputs": [
    {
     "name": "stdout",
     "output_type": "stream",
     "text": [
      "County Name            Sales in Dollars\n",
      "Polk                   $280,237,395.96\n",
      "Linn                   $110,521,770.50\n",
      "Scott                  $89,794,025.86\n",
      "Johnson                $75,137,953.74\n",
      "Black Hawk             $72,814,176.56\n",
      "Pottawattamie          $44,123,018.41\n",
      "Woodbury               $42,520,603.94\n",
      "POLK                   $39,797,195.54\n",
      "Story                  $38,330,779.55\n",
      "Dubuque                $38,001,871.64\n",
      "Cerro Gordo            $25,766,350.55\n",
      "Dallas                 $24,010,968.59\n",
      "Dickinson              $18,209,086.05\n",
      "LINN                   $17,328,222.56\n",
      "Des Moines             $16,270,018.20\n",
      "Lee                    $15,531,162.65\n",
      "Clinton                $15,369,969.08\n",
      "Webster                $14,440,347.26\n",
      "SCOTT                  $13,982,652.03\n",
      "Muscatine              $13,484,670.15\n",
      "Marshall               $13,139,734.33\n",
      "Wapello                $12,330,073.96\n",
      "BLACK HAWK             $12,063,068.79\n",
      "JOHNSON                $11,793,029.75\n",
      "Carroll                $10,665,958.09\n",
      "Warren                 $9,591,962.02\n",
      "                       $9,000,861.80\n",
      "Marion                 $8,912,487.35\n",
      "Hardin                 $8,427,019.08\n",
      "Bremer                 $8,161,072.68\n",
      "Buena Vista            $7,992,256.42\n",
      "Jasper                 $7,903,144.82\n",
      "Kossuth                $7,823,248.54\n",
      "Plymouth               $7,813,333.17\n",
      "WOODBURY               $7,789,678.76\n",
      "Boone                  $7,751,541.50\n",
      "POTTAWATTA             $7,309,902.65\n",
      "Iowa                   $7,252,743.37\n",
      "Clay                   $6,893,669.37\n",
      "DUBUQUE                $6,709,787.10\n",
      "Sioux                  $6,656,933.97\n",
      "STORY                  $6,636,595.51\n",
      "Washington             $6,334,062.47\n",
      "Buchanan               $6,307,712.64\n",
      "Poweshiek              $6,266,937.82\n",
      "Winneshiek             $6,120,637.46\n",
      "Crawford               $5,849,494.42\n",
      "O'Brien                $5,785,760.97\n",
      "Jackson                $5,555,074.23\n",
      "Fayette                $5,403,636.59\n",
      "Page                   $5,238,337.76\n",
      "Cass                   $5,165,322.78\n",
      "Floyd                  $5,149,402.77\n",
      "Henry                  $5,080,729.91\n",
      "Jones                  $4,975,469.39\n",
      "Delaware               $4,642,239.74\n",
      "Union                  $4,335,018.49\n",
      "Mahaska                $4,323,637.40\n",
      "Hamilton               $3,840,358.82\n",
      "Allamakee              $3,764,465.40\n",
      "Jefferson              $3,749,611.70\n",
      "Appanoose              $3,609,724.53\n",
      "Cherokee               $3,347,590.69\n",
      "Shelby                 $3,264,240.03\n",
      "Winnebago              $3,217,261.55\n",
      "Benton                 $3,212,994.59\n",
      "Howard                 $3,196,211.48\n",
      "CERRO GORD             $3,139,445.09\n",
      "Lyon                   $3,099,467.29\n",
      "Madison                $3,049,794.86\n",
      "CLINTON                $3,006,907.12\n",
      "Clayton                $2,995,639.02\n",
      "DES MOINES             $2,974,632.93\n",
      "Humboldt               $2,948,058.75\n",
      "Palo Alto              $2,904,215.71\n",
      "Emmet                  $2,875,159.47\n",
      "Montgomery             $2,763,581.73\n",
      "Tama                   $2,762,062.53\n",
      "Wright                 $2,735,660.50\n",
      "DICKINSON              $2,692,773.44\n",
      "MUSCATINE              $2,667,758.82\n",
      "Clarke                 $2,667,554.21\n",
      "LEE                    $2,642,418.90\n",
      "WEBSTER                $2,526,991.53\n",
      "Sac                    $2,491,947.16\n",
      "MARSHALL               $2,487,300.52\n",
      "Monona                 $2,444,922.02\n",
      "Cedar                  $2,273,530.17\n",
      "Ida                    $2,210,280.91\n",
      "Mitchell               $2,207,790.71\n",
      "WARREN                 $2,130,861.00\n",
      "Harrison               $2,109,578.24\n",
      "Franklin               $2,102,880.14\n",
      "Adair                  $2,102,867.19\n",
      "DALLAS                 $2,015,606.00\n",
      "Mills                  $1,991,710.88\n",
      "Greene                 $1,875,972.61\n",
      "Chickasaw              $1,721,442.82\n",
      "Lucas                  $1,702,146.46\n",
      "MARION                 $1,635,332.34\n",
      "WAPELLO                $1,568,873.21\n",
      "Pocahontas             $1,568,623.30\n",
      "Calhoun                $1,562,571.40\n",
      "BOONE                  $1,500,744.26\n",
      "CARROLL                $1,467,680.85\n",
      "BUENA VIST             $1,398,825.34\n",
      "Grundy                 $1,387,895.00\n",
      "Monroe                 $1,383,129.48\n",
      "BREMER                 $1,376,684.41\n",
      "JASPER                 $1,366,562.86\n",
      "KOSSUTH                $1,360,784.00\n",
      "Hancock                $1,334,388.63\n",
      "Guthrie                $1,314,679.12\n",
      "WINNESHIEK             $1,298,947.36\n",
      "Cerro Gord             $1,293,772.73\n",
      "SIOUX                  $1,256,223.41\n",
      "Butler                 $1,234,076.97\n",
      "CLAY                   $1,203,553.19\n",
      "POWESHIEK              $1,174,023.08\n",
      "WASHINGTON             $1,162,166.67\n",
      "HARDIN                 $1,160,804.71\n",
      "PAGE                   $1,115,547.34\n",
      "Osceola                $1,091,895.61\n",
      "OBRIEN                 $1,048,463.98\n",
      "Louisa                 $1,042,844.11\n",
      "Worth                  $1,033,023.86\n",
      "CASS                   $1,017,309.07\n",
      "FLOYD                  $1,007,811.14\n",
      "JACKSON                $996,437.64\n",
      "JONES                  $954,253.40\n",
      "MAHASKA                $922,121.81\n",
      "FAYETTE                $869,078.35\n",
      "Van Buren              $859,445.06\n",
      "JEFFERSON              $843,714.69\n",
      "BUCHANAN               $813,862.19\n",
      "CRAWFORD               $799,629.46\n",
      "PLYMOUTH               $781,623.51\n",
      "UNION                  $768,956.57\n",
      "Audubon                $763,133.41\n",
      "Decatur                $761,921.76\n",
      "HENRY                  $746,115.94\n",
      "ALLAMAKEE              $742,616.86\n",
      "WINNEBAGO              $713,457.79\n",
      "APPANOOSE              $708,466.02\n",
      "CHEROKEE               $707,895.48\n",
      "MADISON                $679,737.87\n",
      "BENTON                 $660,116.80\n",
      "Ringgold               $655,087.59\n",
      "LYON                   $654,837.12\n",
      "WRIGHT                 $638,019.47\n",
      "Keokuk                 $621,212.77\n",
      "TAMA                   $615,261.30\n",
      "HAMILTON               $608,665.64\n",
      "MONTGOMERY             $596,248.14\n",
      "HUMBOLDT               $556,590.66\n",
      "IDA                    $555,098.42\n",
      "EMMET                  $555,025.64\n",
      "SHELBY                 $539,662.10\n",
      "CLAYTON                $537,735.80\n",
      "HOWARD                 $528,506.01\n",
      "MILLS                  $507,498.93\n",
      "Taylor                 $491,882.09\n",
      "Wayne                  $482,446.45\n",
      "SAC                    $479,393.93\n",
      "IOWA                   $477,106.31\n",
      "PALO ALTO              $469,656.56\n",
      "CLARKE                 $444,063.98\n",
      "Davis                  $437,550.41\n",
      "CEDAR                  $435,966.37\n",
      "MONONA                 $435,636.70\n",
      "Adams                  $434,913.15\n",
      "LUCAS                  $424,696.48\n",
      "GREENE                 $405,589.70\n",
      "HARRISON               $401,811.83\n",
      "FRANKLIN               $386,729.06\n",
      "DELAWARE               $369,238.83\n",
      "MONROE                 $324,089.90\n",
      "HANCOCK                $306,188.43\n",
      "CALHOUN                $301,445.42\n",
      "GUTHRIE                $273,504.11\n",
      "BUTLER                 $264,319.50\n",
      "GRUNDY                 $262,213.84\n",
      "CHICKASAW              $244,602.92\n",
      "POCAHONTAS             $240,058.22\n",
      "OSCEOLA                $238,438.74\n",
      "WORTH                  $229,286.62\n",
      "MITCHELL               $226,868.39\n",
      "LOUISA                 $174,821.52\n",
      "ADAIR                  $174,143.50\n",
      "VAN BUREN              $168,245.21\n",
      "DECATUR                $155,825.17\n",
      "RINGGOLD               $144,160.35\n",
      "KEOKUK                 $113,849.85\n",
      "WAYNE                  $98,743.11\n",
      "Fremont                $95,617.90\n",
      "DAVIS                  $94,032.31\n",
      "AUDUBON                $93,159.81\n",
      "TAYLOR                 $91,396.17\n",
      "ADAMS                  $63,330.52\n",
      "FREMONT                $44,341.52\n",
      "Pottawatta             $38,922.03\n",
      "Thome Enterprises LLC  $0.00\n"
     ]
    }
   ],
   "source": [
    "%%bash\n",
    "\n",
    "cat iowa_liquor_sales_cleaner.csv | awk -F \";\" '\n",
    "    BEGIN{\n",
    "        PROCINFO[\"sorted_in\"] = \"@val_num_desc\"\n",
    "    }\n",
    "    {\n",
    "        if (NR != 1) {\n",
    "            gsub(/\\$/, \"\", $22);\n",
    "            county[$10] += $22;\n",
    "        }\n",
    "\n",
    "    }\n",
    "    END{\n",
    "        count = 1;\n",
    "        for (i in county) {\n",
    "            printf(i\":$%\\047.2f\\n\", county[i])\n",
    "            count++;\n",
    "        }\n",
    "    }' | column --table --table-columns \"County Name\",\"Sales in Dollars\" -s \":\""
   ]
  },
  {
   "cell_type": "markdown",
   "id": "63109dd8",
   "metadata": {},
   "source": [
    "The following cell has the fix for all caps names."
   ]
  },
  {
   "cell_type": "code",
   "execution_count": 16,
   "id": "ce03002c",
   "metadata": {
    "vscode": {
     "languageId": "shellscript"
    }
   },
   "outputs": [
    {
     "name": "stdout",
     "output_type": "stream",
     "text": [
      "County Name            Sales in Dollars\n",
      "polk                   $320,034,591.50\n",
      "linn                   $127,849,993.06\n",
      "scott                  $103,776,677.89\n",
      "johnson                $86,930,983.49\n",
      "black hawk             $84,877,245.35\n",
      "woodbury               $50,310,282.70\n",
      "story                  $44,967,375.06\n",
      "dubuque                $44,711,658.74\n",
      "pottawattamie          $44,123,018.41\n",
      "dallas                 $26,026,574.59\n",
      "cerro gordo            $25,766,350.55\n",
      "dickinson              $20,901,859.49\n",
      "des moines             $19,244,651.13\n",
      "clinton                $18,376,876.20\n",
      "lee                    $18,173,581.55\n",
      "webster                $16,967,338.79\n",
      "muscatine              $16,152,428.97\n",
      "marshall               $15,627,034.85\n",
      "wapello                $13,898,947.17\n",
      "carroll                $12,133,638.94\n",
      "warren                 $11,722,823.02\n",
      "marion                 $10,547,819.69\n",
      "hardin                 $9,587,823.79\n",
      "bremer                 $9,537,757.09\n",
      "jasper                 $9,269,707.68\n",
      "boone                  $9,252,285.76\n",
      "kossuth                $9,184,032.54\n",
      "                       $9,000,861.80\n",
      "plymouth               $8,594,956.68\n",
      "clay                   $8,097,222.56\n",
      "buena vista            $7,992,256.42\n",
      "sioux                  $7,913,157.38\n",
      "iowa                   $7,729,849.68\n",
      "washington             $7,496,229.14\n",
      "poweshiek              $7,440,960.90\n",
      "winneshiek             $7,419,584.82\n",
      "pottawatta             $7,348,824.68\n",
      "buchanan               $7,121,574.83\n",
      "crawford               $6,649,123.88\n",
      "jackson                $6,551,511.87\n",
      "page                   $6,353,885.10\n",
      "fayette                $6,272,714.94\n",
      "cass                   $6,182,631.85\n",
      "floyd                  $6,157,213.91\n",
      "jones                  $5,929,722.79\n",
      "henry                  $5,826,845.85\n",
      "o'brien                $5,785,760.97\n",
      "mahaska                $5,245,759.21\n",
      "union                  $5,103,975.06\n",
      "delaware               $5,011,478.57\n",
      "jefferson              $4,593,326.39\n",
      "allamakee              $4,507,082.26\n",
      "hamilton               $4,449,024.46\n",
      "cerro gord             $4,433,217.82\n",
      "appanoose              $4,318,190.55\n",
      "cherokee               $4,055,486.17\n",
      "winnebago              $3,930,719.34\n",
      "benton                 $3,873,111.39\n",
      "shelby                 $3,803,902.13\n",
      "lyon                   $3,754,304.41\n",
      "madison                $3,729,532.73\n",
      "howard                 $3,724,717.49\n",
      "clayton                $3,533,374.82\n",
      "humboldt               $3,504,649.41\n",
      "emmet                  $3,430,185.11\n",
      "tama                   $3,377,323.83\n",
      "palo alto              $3,373,872.27\n",
      "wright                 $3,373,679.97\n",
      "montgomery             $3,359,829.87\n",
      "clarke                 $3,111,618.19\n",
      "sac                    $2,971,341.09\n",
      "monona                 $2,880,558.72\n",
      "ida                    $2,765,379.33\n",
      "cedar                  $2,709,496.54\n",
      "harrison               $2,511,390.07\n",
      "mills                  $2,499,209.81\n",
      "franklin               $2,489,609.20\n",
      "mitchell               $2,434,659.10\n",
      "greene                 $2,281,562.31\n",
      "adair                  $2,277,010.69\n",
      "lucas                  $2,126,842.94\n",
      "chickasaw              $1,966,045.74\n",
      "calhoun                $1,864,016.82\n",
      "pocahontas             $1,808,681.52\n",
      "monroe                 $1,707,219.38\n",
      "grundy                 $1,650,108.84\n",
      "hancock                $1,640,577.06\n",
      "guthrie                $1,588,183.23\n",
      "butler                 $1,498,396.47\n",
      "buena vist             $1,398,825.34\n",
      "osceola                $1,330,334.35\n",
      "worth                  $1,262,310.48\n",
      "louisa                 $1,217,665.63\n",
      "obrien                 $1,048,463.98\n",
      "van buren              $1,027,690.27\n",
      "decatur                $917,746.93\n",
      "audubon                $856,293.22\n",
      "ringgold               $799,247.94\n",
      "keokuk                 $735,062.62\n",
      "taylor                 $583,278.26\n",
      "wayne                  $581,189.56\n",
      "davis                  $531,582.72\n",
      "adams                  $498,243.67\n",
      "fremont                $139,959.42\n",
      "thome enterprises llc  $0.00\n"
     ]
    }
   ],
   "source": [
    "%%bash\n",
    "\n",
    "cat iowa_liquor_sales_cleaner.csv | awk -F \";\" '\n",
    "    BEGIN{\n",
    "        PROCINFO[\"sorted_in\"] = \"@val_num_desc\"\n",
    "    }\n",
    "    {\n",
    "        if (NR != 1) {\n",
    "            gsub(/\\$/, \"\", $22);\n",
    "            county[tolower($10)] += $22;\n",
    "        }\n",
    "\n",
    "    }\n",
    "    END{\n",
    "        count = 1;\n",
    "        for (i in county) {\n",
    "            printf(i\":$%\\047.2f\\n\", county[i])\n",
    "            count++;\n",
    "        }\n",
    "    }' | column --table --table-columns \"County Name\",\"Sales in Dollars\" -s \":\""
   ]
  },
  {
   "cell_type": "markdown",
   "id": "0d552245-b4d6-474a-9cc9-fa7b8e674d55",
   "metadata": {},
   "source": [
    "Markdown notes and sentences and analysis written here."
   ]
  },
  {
   "cell_type": "markdown",
   "id": "88c9cdac-3e92-498f-83fa-e089bfc44ac8",
   "metadata": {},
   "source": [
    "## Question 5"
   ]
  },
  {
   "cell_type": "markdown",
   "id": "1ab7231a",
   "metadata": {},
   "source": [
    "### I am going to try to find out which distillery makes the most expensive liquor per gallon."
   ]
  },
  {
   "cell_type": "code",
   "execution_count": 39,
   "id": "d370d7c9-06db-42b9-b75f-240481a5c491",
   "metadata": {
    "vscode": {
     "languageId": "shellscript"
    }
   },
   "outputs": [
    {
     "name": "stdout",
     "output_type": "stream",
     "text": [
      "Manufacturer Name                       Dollars Per Gallon\n",
      "Veriano Fine Foods & Spirits Ltd        1,894.74\n",
      "The House of Burgundy Inc               1,705.26\n",
      "Tierra Madre LLC                        1,681.58\n",
      "10th Mountain Whiskey & Spirit Company  1,539.47\n",
      "Wild Agave Imports LLC                  1,182.00\n",
      "Rebecca Creek Distillery LLC            1,032.63\n",
      "Valentine Distilling Co.                967.03\n",
      "RJ Importers LLC                        869.05\n",
      "Purple Valley Imports                   765.16\n",
      "SWISS CELLARS                           709.55\n",
      "Traverse City Whiskey Co                596.44\n",
      "San Luis Spirits, Inc.                  523.07\n",
      "RS Lipman Company LLC                   447.09\n",
      "ST GEORGE SPIRITS INC                   389.33\n",
      "Spirit Imports Inc                      360.01\n",
      "YAHARA BAY DISTILLERS INC               316.81\n",
      "Park Street Imports-High Stick Vodka    302.52\n",
      "Prichards Distillery Inc                286.47\n",
      "Tattersall Companies, LLC               271.43\n",
      "Paterno Imports LTD                     264.38\n",
      "VINO COM LLC                            252.72\n",
      "Topa Spirits                            242.89\n",
      "Ransom Spirits LLC                      231.74\n",
      "WINE IS FINE INC                        226.09\n",
      "3 BADGE CORPORATION                     217.48\n",
      "Patron Spirits Company                  215.44\n",
      "SPIRIT OF HARTFORD                      204.27\n",
      "Three Rangers                           204.23\n",
      "Willett Distillery                      198.10\n",
      "Park Street Imports-Few Spirits         195.75\n",
      "Vital Beverages                         195.38\n",
      "Thome Enterprises LLC                   186.25\n",
      "STEPHEN AUGUSTUS IMPORTS                182.48\n",
      "Royal Wine Corporation                  179.77\n",
      "3-Oaks Distillery, LLC                  179.00\n",
      "REMY COINTREAU USA INC                  172.55\n",
      "Tanteo Tequila                          168.91\n",
      "The Country Vintner                     167.32\n",
      "Whyte and Machay(Americas) Limited,L    167.18\n",
      "Sovereign Brands, LLC                   155.88\n",
      "Santa Fe Tequila Company                152.87\n",
      "Park Street Imports-Tanteo              149.55\n",
      "45th Parallel Spirits                   147.71\n",
      "Park Street Imports-Duke Spirits        145.06\n",
      "Patriarch Distillers                    141.85\n",
      "TY KU LLC                               141.32\n",
      "SURVILLE ENTERPRISES CORP               141.29\n",
      "Winebow Inc                             140.50\n",
      "Vin Divino Ltd                          139.94\n",
      "Square One Organic Spirits              135.88\n",
      "Prairie Creek Beverages LLC             133.72\n",
      "Woody Creek Distillers                  133.66\n",
      "QUADRO GROUP LLC                        125.59\n",
      "Rumcoqui and Co                         124.45\n",
      "VBJ Beverages LLC                       124.03\n",
      "Park Street Imports-House Spirits       122.19\n",
      "Shand Import LLC                        118.47\n",
      "Sugarlands Distilling Company LLC       117.98\n",
      "STE MICHELLE WINE ESTATES               117.85\n",
      "Park Street Imports-Philadelphia Dis    117.32\n",
      "SUTTER HOME WINERY INC                  115.98\n",
      "Park Street-G'Day                       113.45\n",
      "Stolller Warehouse                      110.94\n",
      "Royal World Spirits                     109.10\n",
      "Vision Wine and Spirits                 108.76\n",
      "Park Street Imports-Veev                105.93\n",
      "William Grant & Sons Inc                104.73\n",
      "W J Deutsch & Sons LTD                  104.66\n",
      "Seashore Marketing Group                104.12\n",
      "Philly's Premium Beverages LLC          103.41\n",
      "WINDY HILL SPIRITS                      102.41\n",
      "Van Gogh Imports                        99.83\n",
      "STOLI GROUP                             99.27\n",
      "Phenix Brands, LLC                      98.02\n",
      "Ti Beverage Group, Ltd                  97.06\n",
      "Park Street Imports-Voli                96.77\n",
      "Skyy Spirits Inc                        90.38\n",
      "Vodquila LLC                            89.55\n",
      "WESTERN SPIRITS BEVERAGE                88.65\n",
      "RUSSIAN STANDARD VODKA                  88.16\n",
      "Sage Beverages                          86.14\n",
      "Speakeasy Spirits, LLC                  83.12\n",
      "Stanley Stawski Distributing Co.        82.95\n",
      "Temperance Distiling Company            81.03\n",
      "Park Street Imports-Sweet Revenge       78.05\n",
      "WERNER DISTILLING                       77.33\n",
      "Stern Beverage                          75.69\n",
      "Prestige Wine & Spirits Group           73.58\n",
      "Spirits Of The USA                      73.25\n",
      "SERRALLES USA                           70.13\n",
      "Swell Liquor LLC                        70.01\n",
      "Stellar Importing Company, LLC          67.05\n",
      "Shaw-Ross International                 64.68\n",
      "The Wine Group                          56.69\n",
      "SAZERAC COMPANY  INC                    56.08\n",
      "White Rock Distilleries, Inc.           45.31\n",
      "Strong Spirits Distilling               45.18\n",
      "Wine Intelligence                       43.55\n",
      "Phillips Beverage                       37.60\n",
      "SAZERAC NORTH AMERICA                   28.94\n"
     ]
    }
   ],
   "source": [
    "%%bash\n",
    "# head -n 2 iowa_liquor_sales_cleaner.csv | cut -d \";\" -f13\n",
    "# head -n 2 iowa_liquor_sales_cleaner.csv | cut -d \";\" -f14\n",
    "# head -n 2 iowa_liquor_sales_cleaner.csv | cut -d \";\" -f22\n",
    "# head -n 2 iowa_liquor_sales_cleaner.csv | cut -d \";\" -f24\n",
    "\n",
    "\n",
    "cat iowa_liquor_sales_cleaner.csv | awk -F \";\" '\n",
    "    BEGIN{\n",
    "        PROCINFO[\"sorted_in\"] = \"@val_num_desc\"\n",
    "    }\n",
    "    {\n",
    "        if (NR != 1) {\n",
    "            gsub(/\\$/, \"\", $22);\n",
    "            manufacturerName[$13] = $14;\n",
    "            saleValue[$13] += $22;\n",
    "            gallons[$13] += $24;\n",
    "        }\n",
    "    }\n",
    "    END{\n",
    "        for (i in manufacturerName) {\n",
    "            # print(\"\\n\\n_______________\")\n",
    "            # print(i)\n",
    "            # print(count)\n",
    "            # print(manufacturerName[i])\n",
    "            # print(saleValue[i])\n",
    "            # print(gallons[i])\n",
    "            if (gallons[i] != 0) {\n",
    "                # print(manufacturerName[i]\":\"saleValue[i]/gallons[i])\n",
    "                printf(\"%s:%\\047.2f\\n\", manufacturerName[i], saleValue[i]/gallons[i])\n",
    "            }\n",
    "            \n",
    "            # print(manufacturerName[i]\":\"saleValue[i])\n",
    "        }\n",
    "    }' | head -n 100 | sort -n -r -t \":\" -k2 | column --table --table-columns \"Manufacturer Name\",\"Dollars Per Gallon\" -s \":\""
   ]
  },
  {
   "cell_type": "markdown",
   "id": "9fbf00fb-2418-460f-ae94-2a32b0c28952",
   "metadata": {},
   "source": [
    "I was unable to get the dollar sign in front of the dollar amount, because the sort command doesnt like it there, and I couldn't figure out how to sort my work in awk."
   ]
  },
  {
   "cell_type": "markdown",
   "id": "f76442d6-d02e-4f26-b9d6-c3183e1d6929",
   "metadata": {},
   "source": [
    "## Pledge\n",
    "\n",
    "By submitting this work I hereby pledge that this is my own, personal work. I've acknowledged in the designated place at the top of this file all sources that I used to complete said work, including but not limited to: online resources, books, and electronic communications. I've noted all collaboration with fellow students and/or TA's. I did not copy or plagiarize another's work.\n",
    "\n",
    "> As a Boilermaker pursuing academic excellence, I pledge to be honest and true in all that I do. Accountable together – We are Purdue."
   ]
  }
 ],
 "metadata": {
  "kernelspec": {
   "display_name": "Python 3.9.7 64-bit ('jupyter')",
   "language": "python",
   "name": "python3"
  },
  "language_info": {
   "codemirror_mode": {
    "name": "ipython",
    "version": 3
   },
   "file_extension": ".py",
   "mimetype": "text/x-python",
   "name": "python",
   "nbconvert_exporter": "python",
   "pygments_lexer": "ipython3",
   "version": "3.9.7"
  },
  "vscode": {
   "interpreter": {
    "hash": "ee1cd9b302554fc418f8b84f658dab3188467b37dcaeb92c53502d81e2e402a3"
   }
  }
 },
 "nbformat": 4,
 "nbformat_minor": 5
}
