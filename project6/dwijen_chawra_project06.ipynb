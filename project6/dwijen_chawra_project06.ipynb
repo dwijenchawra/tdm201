{
 "cells": [
  {
   "cell_type": "markdown",
   "id": "be02a957-7133-4d02-818e-fedeb3cecb05",
   "metadata": {},
   "source": [
    "# Project 6 -- Dwijen Chawra"
   ]
  },
  {
   "cell_type": "markdown",
   "id": "a1228853-dd19-4ab2-89e0-0394d7d72de3",
   "metadata": {},
   "source": [
    "**Collaboration:** Alexiy Buynitsky\n",
    "    \n",
    "- Helped him with sorting and formatting."
   ]
  },
  {
   "cell_type": "markdown",
   "id": "6180e742-8e39-4698-98ff-5b00c8cf8ea0",
   "metadata": {},
   "source": [
    "## Question 1"
   ]
  },
  {
   "cell_type": "code",
   "execution_count": 23,
   "id": "49445606-d363-41b4-b479-e319a9a84c01",
   "metadata": {
    "vscode": {
     "languageId": "shellscript"
    }
   },
   "outputs": [
    {
     "name": "stdout",
     "output_type": "stream",
     "text": [
      "rows: 435850\n",
      "columns: 25\n"
     ]
    }
   ],
   "source": [
    "%%bash\n",
    "\n",
    "cat /anvil/projects/tdm/data/craigslist/vehicles_clean.csv | awk -F \"~\" '\n",
    "BEGIN{\n",
    "    rows = 0\n",
    "    col = 0\n",
    "}\n",
    "{\n",
    "    col = NF\n",
    "    rows = NR\n",
    "}\n",
    "END{\n",
    "    print(\"rows: \"rows)\n",
    "    print(\"columns: \"col)\n",
    "\n",
    "\n",
    "}\n",
    "'"
   ]
  },
  {
   "cell_type": "markdown",
   "id": "b456e57c-4a12-464b-999a-ef2df5af80c1",
   "metadata": {},
   "source": [
    "Markdown notes and sentences and analysis written here."
   ]
  },
  {
   "cell_type": "markdown",
   "id": "fc601975-35ed-4680-a4e1-0273ee3cc047",
   "metadata": {},
   "source": [
    "## Question 2"
   ]
  },
  {
   "cell_type": "code",
   "execution_count": 42,
   "id": "a16336a1-1ef0-41e8-bc7c-49387db27497",
   "metadata": {
    "vscode": {
     "languageId": "shellscript"
    }
   },
   "outputs": [
    {
     "name": "stdout",
     "output_type": "stream",
     "text": [
      "Condition       Number of cars\n",
      "---------       --------------\n",
      "                186804        \n",
      "excellent       118432        \n",
      "good            93983         \n",
      "like new        27604         \n",
      "fair            6971          \n",
      "new             1343          \n",
      "salvage         700           \n",
      " 1-owner        5             \n",
      "clean carfax    4             \n",
      "clean           2             \n",
      "\"               1             \n"
     ]
    }
   ],
   "source": [
    "%%bash\n",
    "# head -n 3 /anvil/projects/tdm/data/craigslist/vehicles_clean.csv\n",
    "\n",
    "cat /anvil/projects/tdm/data/craigslist/vehicles_clean.csv | awk -F \"~\" '\n",
    "    BEGIN{\n",
    "        PROCINFO[\"sorted_in\"] = \"@val_num_desc\"\n",
    "    }\n",
    "    {\n",
    "        if (NR != 1) {\n",
    "            conditions[$9]++;\n",
    "        }\n",
    "    }\n",
    "    END{\n",
    "        count = 1;\n",
    "        print(\"Condition       Number of cars\")\n",
    "        print(\"---------       --------------\")\n",
    "        for (i in conditions) {\n",
    "            printf(\"%-12s    %-14d\\n\", i, conditions[i])\n",
    "            count++;\n",
    "        }\n",
    "    }'"
   ]
  },
  {
   "cell_type": "markdown",
   "id": "14dc22d4-ddc3-41cc-a91a-cb0025bc0c80",
   "metadata": {},
   "source": [
    "There are some text formatting issues in the csv, so there are some non existent conditions in the bottom, but the rest of them are sorted by quantity. There are a lot of cars that do not have a value for condition."
   ]
  },
  {
   "cell_type": "markdown",
   "id": "8e586edd-ff26-4ce2-8f6b-2424b26f2929",
   "metadata": {},
   "source": [
    "## Question 3"
   ]
  },
  {
   "cell_type": "code",
   "execution_count": 52,
   "id": "bbe0f40d-9655-4653-9ca8-886bdb61cb91",
   "metadata": {
    "vscode": {
     "languageId": "shellscript"
    }
   },
   "outputs": [
    {
     "name": "stdout",
     "output_type": "stream",
     "text": [
      "Years\n",
      "----\n",
      "2012\n",
      "2013\n",
      "2014\n",
      "2015\n",
      "2016\n",
      "2017\n",
      "2018\n"
     ]
    }
   ],
   "source": [
    "%%bash\n",
    "\n",
    "cat /anvil/projects/tdm/data/donerschoose/Donations.csv | awk -F \",\" '\n",
    "    BEGIN{\n",
    "        PROCINFO[\"sorted_in\"] = \"@ind_num_asc\"\n",
    "    }\n",
    "    {\n",
    "        if (NR != 1) {\n",
    "            conditions[substr($7, 0, 4)]++;\n",
    "        }\n",
    "    }\n",
    "    END{\n",
    "        count = 1;\n",
    "        print(\"Years\")\n",
    "        print(\"----\")\n",
    "        for (i in conditions) {\n",
    "            printf(i\"\\n\")\n",
    "            count++;\n",
    "        }\n",
    "    }'\n"
   ]
  },
  {
   "cell_type": "markdown",
   "id": "47c6229f-35f7-400c-8366-c442baa5cf47",
   "metadata": {},
   "source": [
    "Markdown notes and sentences and analysis written here."
   ]
  },
  {
   "cell_type": "markdown",
   "id": "da22f29c-d245-4d2b-9fc1-ca14cb6087d9",
   "metadata": {},
   "source": [
    "## Question 4"
   ]
  },
  {
   "cell_type": "code",
   "execution_count": 51,
   "id": "8cffc767-d1c8-4d64-b7dc-f0d2ee8a80d1",
   "metadata": {
    "vscode": {
     "languageId": "shellscript"
    }
   },
   "outputs": [
    {
     "name": "stdout",
     "output_type": "stream",
     "text": [
      "Year  Donations in dollars\n",
      "2012  $24,842.64\n",
      "2013  $30,428,220.80\n",
      "2014  $41,461,266.85\n",
      "2015  $50,488,354.49\n",
      "2016  $62,652,231.24\n",
      "2017  $72,872,130.78\n",
      "2018  $26,481,196.48\n"
     ]
    }
   ],
   "source": [
    "%%bash\n",
    "\n",
    "cat /anvil/projects/tdm/data/donerschoose/Donations.csv | awk -F \",\" '\n",
    "    BEGIN{\n",
    "        PROCINFO[\"sorted_in\"] = \"@ind_num_asc\"\n",
    "    }\n",
    "    {\n",
    "        if (NR != 1) {\n",
    "            donations[substr($7, 0, 4)] += $5;\n",
    "        }\n",
    "    }\n",
    "    END{\n",
    "        count = 1;\n",
    "        for (i in donations) {\n",
    "            printf(\"%d:$%\\047.2f\\n\", i, donations[i])\n",
    "            count++;\n",
    "        }\n",
    "    }' | column -s \":\" -t --table-columns \"Year\",\"Donations in dollars\"\n"
   ]
  },
  {
   "cell_type": "markdown",
   "id": "0d552245-b4d6-474a-9cc9-fa7b8e674d55",
   "metadata": {},
   "source": [
    "Markdown notes and sentences and analysis written here."
   ]
  },
  {
   "cell_type": "markdown",
   "id": "88c9cdac-3e92-498f-83fa-e089bfc44ac8",
   "metadata": {},
   "source": [
    "## Question 5"
   ]
  },
  {
   "cell_type": "code",
   "execution_count": 50,
   "id": "d370d7c9-06db-42b9-b75f-240481a5c491",
   "metadata": {
    "vscode": {
     "languageId": "shellscript"
    }
   },
   "outputs": [
    {
     "name": "stdout",
     "output_type": "stream",
     "text": [
      "Month   Average Temperature\n",
      "01      29.39°F\n",
      "02      23.38°F\n",
      "03      44.98°F\n",
      "04      51.41°F\n",
      "05      60.48°F\n",
      "06      73.75°F\n",
      "07      72.94°F\n",
      "08      70.78°F\n",
      "09      64.91°F\n",
      "10      52.41°F\n",
      "11      45.10°F\n",
      "12      32.28°F\n"
     ]
    }
   ],
   "source": [
    "%%bash\n",
    "# head -n 200 /anvil/projects/tdm/data/whin/weather.csv\n",
    "cat /anvil/projects/tdm/data/whin/weather.csv | awk -F \",\" '\n",
    "    BEGIN{\n",
    "        PROCINFO[\"sorted_in\"] = \"@ind_str_asc\"\n",
    "    }\n",
    "    {\n",
    "        if (NR != 1) {\n",
    "            highmonthtemp[substr($5, 6, 2)][0] += $7;\n",
    "            highmonthtemp[substr($5, 6, 2)][1] += 1;\n",
    "        }\n",
    "    }\n",
    "    END{\n",
    "        count = 1;\n",
    "        print(\"Month   Average Temperature\")\n",
    "        for (i in highmonthtemp) {\n",
    "            printf(\"%s      %.2f°F\\n\", i, (highmonthtemp[i][0] / highmonthtemp[i][1]))\n",
    "            count++;\n",
    "        }\n",
    "    }'"
   ]
  },
  {
   "cell_type": "markdown",
   "id": "9fbf00fb-2418-460f-ae94-2a32b0c28952",
   "metadata": {},
   "source": [
    "Markdown notes and sentences and analysis written here."
   ]
  },
  {
   "cell_type": "markdown",
   "id": "f76442d6-d02e-4f26-b9d6-c3183e1d6929",
   "metadata": {},
   "source": [
    "## Pledge\n",
    "\n",
    "By submitting this work I hereby pledge that this is my own, personal work. I've acknowledged in the designated place at the top of this file all sources that I used to complete said work, including but not limited to: online resources, books, and electronic communications. I've noted all collaboration with fellow students and/or TA's. I did not copy or plagiarize another's work.\n",
    "\n",
    "> As a Boilermaker pursuing academic excellence, I pledge to be honest and true in all that I do. Accountable together – We are Purdue."
   ]
  }
 ],
 "metadata": {
  "kernelspec": {
   "display_name": "Python 3.9.7 64-bit",
   "language": "python",
   "name": "python3"
  },
  "language_info": {
   "codemirror_mode": {
    "name": "ipython",
    "version": 3
   },
   "file_extension": ".py",
   "mimetype": "text/x-python",
   "name": "python",
   "nbconvert_exporter": "python",
   "pygments_lexer": "ipython3",
   "version": "3.9.7"
  },
  "vscode": {
   "interpreter": {
    "hash": "ee1cd9b302554fc418f8b84f658dab3188467b37dcaeb92c53502d81e2e402a3"
   }
  }
 },
 "nbformat": 4,
 "nbformat_minor": 5
}
