{
 "cells": [
  {
   "cell_type": "markdown",
   "id": "be02a957-7133-4d02-818e-fedeb3cecb05",
   "metadata": {},
   "source": [
    "# Project 11 -- Dwijen Chawra"
   ]
  },
  {
   "cell_type": "code",
   "execution_count": 4,
   "id": "04fc0d46",
   "metadata": {},
   "outputs": [
    {
     "name": "stdout",
     "output_type": "stream",
     "text": [
      "The sql extension is already loaded. To reload it, use:\n",
      "  %reload_ext sql\n"
     ]
    },
    {
     "data": {
      "text/plain": [
       "'Connected: @/anvil/projects/tdm/data/movies_and_tv/imdb.db'"
      ]
     },
     "execution_count": 4,
     "metadata": {},
     "output_type": "execute_result"
    }
   ],
   "source": [
    "%load_ext sql\n",
    "%sql sqlite:////anvil/projects/tdm/data/movies_and_tv/imdb.db\n"
   ]
  },
  {
   "cell_type": "markdown",
   "id": "6180e742-8e39-4698-98ff-5b00c8cf8ea0",
   "metadata": {},
   "source": [
    "## Question 1"
   ]
  },
  {
   "cell_type": "code",
   "execution_count": 32,
   "id": "49445606-d363-41b4-b479-e319a9a84c01",
   "metadata": {
    "vscode": {
     "languageId": "sql"
    }
   },
   "outputs": [
    {
     "name": "stdout",
     "output_type": "stream",
     "text": [
      " * sqlite:////anvil/projects/tdm/data/movies_and_tv/imdb.db\n",
      "Done.\n"
     ]
    },
    {
     "data": {
      "text/html": [
       "<table>\n",
       "    <thead>\n",
       "        <tr>\n",
       "            <th>primary_title</th>\n",
       "            <th>premiered</th>\n",
       "            <th>rating</th>\n",
       "        </tr>\n",
       "    </thead>\n",
       "    <tbody>\n",
       "        <tr>\n",
       "            <td>Avengers: Infinity War</td>\n",
       "            <td>2018</td>\n",
       "            <td>8.4</td>\n",
       "        </tr>\n",
       "        <tr>\n",
       "            <td>Avengers: Endgame</td>\n",
       "            <td>2019</td>\n",
       "            <td>8.4</td>\n",
       "        </tr>\n",
       "        <tr>\n",
       "            <td>The Avengers</td>\n",
       "            <td>2012</td>\n",
       "            <td>8</td>\n",
       "        </tr>\n",
       "        <tr>\n",
       "            <td>Guardians of the Galaxy</td>\n",
       "            <td>2014</td>\n",
       "            <td>8</td>\n",
       "        </tr>\n",
       "        <tr>\n",
       "            <td>Iron Man</td>\n",
       "            <td>2008</td>\n",
       "            <td>7.9</td>\n",
       "        </tr>\n",
       "    </tbody>\n",
       "</table>"
      ],
      "text/plain": [
       "[('Avengers: Infinity War', 2018, 8.4),\n",
       " ('Avengers: Endgame', 2019, 8.4),\n",
       " ('The Avengers', 2012, 8),\n",
       " ('Guardians of the Galaxy', 2014, 8),\n",
       " ('Iron Man', 2008, 7.9)]"
      ]
     },
     "execution_count": 32,
     "metadata": {},
     "output_type": "execute_result"
    }
   ],
   "source": [
    "%%sql\n",
    "\n",
    "-- get top 5 and bottom 5 movies by average rating using this list\n",
    "\n",
    "SELECT t.primary_title, t.premiered, r.rating FROM titles as t INNER JOIN ratings as r ON t.title_id = r.title_id \n",
    "WHERE t.title_id in ('tt0371746', 'tt0800080', 'tt1228705', 'tt0800369', 'tt0458339', 'tt0848228', 'tt1300854', 'tt1981115', 'tt1843866', 'tt2015381', 'tt2395427', 'tt0478970', 'tt3498820', 'tt1211837', 'tt3896198', 'tt2250912', 'tt3501632', 'tt1825683', 'tt4154756', 'tt5095030', 'tt4154664', 'tt4154796', 'tt6320628', 'tt3480822', 'tt9032400', 'tt9376612', 'tt9419884', 'tt10648342', 'tt9114286') \n",
    "ORDER BY r.rating DESC LIMIT 5"
   ]
  },
  {
   "cell_type": "code",
   "execution_count": 31,
   "id": "ccdc37dd",
   "metadata": {
    "vscode": {
     "languageId": "sql"
    }
   },
   "outputs": [
    {
     "name": "stdout",
     "output_type": "stream",
     "text": [
      " * sqlite:////anvil/projects/tdm/data/movies_and_tv/imdb.db\n",
      "Done.\n"
     ]
    },
    {
     "data": {
      "text/html": [
       "<table>\n",
       "    <thead>\n",
       "        <tr>\n",
       "            <th>primary_title</th>\n",
       "            <th>premiered</th>\n",
       "            <th>rating</th>\n",
       "        </tr>\n",
       "    </thead>\n",
       "    <tbody>\n",
       "        <tr>\n",
       "            <td>The Incredible Hulk</td>\n",
       "            <td>2008</td>\n",
       "            <td>6.7</td>\n",
       "        </tr>\n",
       "        <tr>\n",
       "            <td>Black Widow</td>\n",
       "            <td>2021</td>\n",
       "            <td>6.8</td>\n",
       "        </tr>\n",
       "        <tr>\n",
       "            <td>Captain Marvel</td>\n",
       "            <td>2019</td>\n",
       "            <td>6.8</td>\n",
       "        </tr>\n",
       "        <tr>\n",
       "            <td>Captain America: The First Avenger</td>\n",
       "            <td>2011</td>\n",
       "            <td>6.9</td>\n",
       "        </tr>\n",
       "        <tr>\n",
       "            <td>Thor: The Dark World</td>\n",
       "            <td>2013</td>\n",
       "            <td>6.9</td>\n",
       "        </tr>\n",
       "    </tbody>\n",
       "</table>"
      ],
      "text/plain": [
       "[('The Incredible Hulk', 2008, 6.7),\n",
       " ('Black Widow', 2021, 6.8),\n",
       " ('Captain Marvel', 2019, 6.8),\n",
       " ('Captain America: The First Avenger', 2011, 6.9),\n",
       " ('Thor: The Dark World', 2013, 6.9)]"
      ]
     },
     "execution_count": 31,
     "metadata": {},
     "output_type": "execute_result"
    }
   ],
   "source": [
    "%%sql\n",
    "\n",
    "SELECT t.primary_title, t.premiered, r.rating FROM titles as t INNER JOIN ratings as r ON t.title_id = r.title_id \n",
    "WHERE t.title_id in ('tt0371746', 'tt0800080', 'tt1228705', 'tt0800369', 'tt0458339', 'tt0848228', 'tt1300854', 'tt1981115', 'tt1843866', 'tt2015381', 'tt2395427', 'tt0478970', 'tt3498820', 'tt1211837', 'tt3896198', 'tt2250912', 'tt3501632', 'tt1825683', 'tt4154756', 'tt5095030', 'tt4154664', 'tt4154796', 'tt6320628', 'tt3480822', 'tt9032400', 'tt9376612', 'tt9419884', 'tt10648342', 'tt9114286') \n",
    "ORDER BY r.rating ASC LIMIT 5"
   ]
  },
  {
   "cell_type": "markdown",
   "id": "b456e57c-4a12-464b-999a-ef2df5af80c1",
   "metadata": {},
   "source": [
    "Markdown notes and sentences and analysis written here."
   ]
  },
  {
   "cell_type": "markdown",
   "id": "fc601975-35ed-4680-a4e1-0273ee3cc047",
   "metadata": {},
   "source": [
    "## Question 2"
   ]
  },
  {
   "cell_type": "code",
   "execution_count": 36,
   "id": "a16336a1-1ef0-41e8-bc7c-49387db27497",
   "metadata": {
    "vscode": {
     "languageId": "sql"
    }
   },
   "outputs": [
    {
     "name": "stdout",
     "output_type": "stream",
     "text": [
      " * sqlite:////anvil/projects/tdm/data/movies_and_tv/imdb.db\n",
      "Done.\n"
     ]
    },
    {
     "data": {
      "text/html": [
       "<table>\n",
       "    <thead>\n",
       "        <tr>\n",
       "            <th>title_id</th>\n",
       "            <th>type</th>\n",
       "            <th>primary_title</th>\n",
       "            <th>original_title</th>\n",
       "            <th>is_adult</th>\n",
       "            <th>premiered</th>\n",
       "            <th>ended</th>\n",
       "            <th>runtime_minutes</th>\n",
       "            <th>genres</th>\n",
       "        </tr>\n",
       "    </thead>\n",
       "    <tbody>\n",
       "        <tr>\n",
       "            <td>tt10648342</td>\n",
       "            <td>movie</td>\n",
       "            <td>Thor: Love and Thunder</td>\n",
       "            <td>Thor: Love and Thunder</td>\n",
       "            <td>0</td>\n",
       "            <td>2022</td>\n",
       "            <td>None</td>\n",
       "            <td>None</td>\n",
       "            <td>Action,Adventure,Fantasy</td>\n",
       "        </tr>\n",
       "        <tr>\n",
       "            <td>tt9032400</td>\n",
       "            <td>movie</td>\n",
       "            <td>Eternals</td>\n",
       "            <td>Eternals</td>\n",
       "            <td>0</td>\n",
       "            <td>2021</td>\n",
       "            <td>None</td>\n",
       "            <td>None</td>\n",
       "            <td>Action,Adventure,Drama</td>\n",
       "        </tr>\n",
       "        <tr>\n",
       "            <td>tt9114286</td>\n",
       "            <td>movie</td>\n",
       "            <td>Black Panther: Wakanda Forever</td>\n",
       "            <td>Black Panther: Wakanda Forever</td>\n",
       "            <td>0</td>\n",
       "            <td>2022</td>\n",
       "            <td>None</td>\n",
       "            <td>None</td>\n",
       "            <td>Action,Adventure,Drama</td>\n",
       "        </tr>\n",
       "        <tr>\n",
       "            <td>tt9376612</td>\n",
       "            <td>movie</td>\n",
       "            <td>Shang-Chi and the Legend of the Ten Rings</td>\n",
       "            <td>Shang-Chi and the Legend of the Ten Rings</td>\n",
       "            <td>0</td>\n",
       "            <td>2021</td>\n",
       "            <td>None</td>\n",
       "            <td>None</td>\n",
       "            <td>Action,Adventure,Fantasy</td>\n",
       "        </tr>\n",
       "        <tr>\n",
       "            <td>tt9419884</td>\n",
       "            <td>movie</td>\n",
       "            <td>Doctor Strange in the Multiverse of Madness</td>\n",
       "            <td>Doctor Strange in the Multiverse of Madness</td>\n",
       "            <td>0</td>\n",
       "            <td>2022</td>\n",
       "            <td>None</td>\n",
       "            <td>None</td>\n",
       "            <td>Action,Adventure,Fantasy</td>\n",
       "        </tr>\n",
       "    </tbody>\n",
       "</table>"
      ],
      "text/plain": [
       "[('tt10648342', 'movie', 'Thor: Love and Thunder', 'Thor: Love and Thunder', 0, 2022, None, None, 'Action,Adventure,Fantasy'),\n",
       " ('tt9032400', 'movie', 'Eternals', 'Eternals', 0, 2021, None, None, 'Action,Adventure,Drama'),\n",
       " ('tt9114286', 'movie', 'Black Panther: Wakanda Forever', 'Black Panther: Wakanda Forever', 0, 2022, None, None, 'Action,Adventure,Drama'),\n",
       " ('tt9376612', 'movie', 'Shang-Chi and the Legend of the Ten Rings', 'Shang-Chi and the Legend of the Ten Rings', 0, 2021, None, None, 'Action,Adventure,Fantasy'),\n",
       " ('tt9419884', 'movie', 'Doctor Strange in the Multiverse of Madness', 'Doctor Strange in the Multiverse of Madness', 0, 2022, None, None, 'Action,Adventure,Fantasy')]"
      ]
     },
     "execution_count": 36,
     "metadata": {},
     "output_type": "execute_result"
    }
   ],
   "source": [
    "%%sql\n",
    "\n",
    "SELECT *\n",
    "FROM titles\n",
    "WHERE title_id\n",
    "IN ('tt0371746', 'tt0800080', 'tt1228705', 'tt0800369', 'tt0458339', 'tt0848228', 'tt1300854', 'tt1981115', 'tt1843866', 'tt2015381', 'tt2395427', 'tt0478970', 'tt3498820', 'tt1211837', 'tt3896198', 'tt2250912', 'tt3501632', 'tt1825683', 'tt4154756', 'tt5095030', 'tt4154664', 'tt4154796', 'tt6320628', 'tt3480822', 'tt9032400', 'tt9376612', 'tt9419884', 'tt10648342', 'tt9114286')\n",
    "AND title_id NOT IN (SELECT t.title_id FROM titles as t INNER JOIN ratings as r ON t.title_id = r.title_id \n",
    "WHERE t.title_id in ('tt0371746', 'tt0800080', 'tt1228705', 'tt0800369', 'tt0458339', 'tt0848228', 'tt1300854', 'tt1981115', 'tt1843866', 'tt2015381', 'tt2395427', 'tt0478970', 'tt3498820', 'tt1211837', 'tt3896198', 'tt2250912', 'tt3501632', 'tt1825683', 'tt4154756', 'tt5095030', 'tt4154664', 'tt4154796', 'tt6320628', 'tt3480822', 'tt9032400', 'tt9376612', 'tt9419884', 'tt10648342', 'tt9114286'))"
   ]
  },
  {
   "cell_type": "markdown",
   "id": "14dc22d4-ddc3-41cc-a91a-cb0025bc0c80",
   "metadata": {},
   "source": [
    "Markdown notes and sentences and analysis written here."
   ]
  },
  {
   "cell_type": "markdown",
   "id": "8e586edd-ff26-4ce2-8f6b-2424b26f2929",
   "metadata": {},
   "source": [
    "## Question 3"
   ]
  },
  {
   "cell_type": "code",
   "execution_count": 38,
   "id": "bbe0f40d-9655-4653-9ca8-886bdb61cb91",
   "metadata": {},
   "outputs": [
    {
     "name": "stdout",
     "output_type": "stream",
     "text": [
      " * sqlite:////anvil/projects/tdm/data/movies_and_tv/imdb.db\n",
      "Done.\n"
     ]
    },
    {
     "data": {
      "text/html": [
       "<table>\n",
       "    <thead>\n",
       "        <tr>\n",
       "            <th>primary_title</th>\n",
       "            <th>premiered</th>\n",
       "            <th>rating</th>\n",
       "        </tr>\n",
       "    </thead>\n",
       "    <tbody>\n",
       "        <tr>\n",
       "            <td>Iron Man</td>\n",
       "            <td>2008</td>\n",
       "            <td>7.9</td>\n",
       "        </tr>\n",
       "        <tr>\n",
       "            <td>Captain America: The First Avenger</td>\n",
       "            <td>2011</td>\n",
       "            <td>6.9</td>\n",
       "        </tr>\n",
       "        <tr>\n",
       "            <td>Ant-Man</td>\n",
       "            <td>2015</td>\n",
       "            <td>7.3</td>\n",
       "        </tr>\n",
       "        <tr>\n",
       "            <td>The Incredible Hulk</td>\n",
       "            <td>2008</td>\n",
       "            <td>6.7</td>\n",
       "        </tr>\n",
       "        <tr>\n",
       "            <td>Thor</td>\n",
       "            <td>2011</td>\n",
       "            <td>7</td>\n",
       "        </tr>\n",
       "        <tr>\n",
       "            <td>The Avengers</td>\n",
       "            <td>2012</td>\n",
       "            <td>8</td>\n",
       "        </tr>\n",
       "        <tr>\n",
       "            <td>Thor: Love and Thunder</td>\n",
       "            <td>2022</td>\n",
       "            <td>None</td>\n",
       "        </tr>\n",
       "        <tr>\n",
       "            <td>Doctor Strange</td>\n",
       "            <td>2016</td>\n",
       "            <td>7.5</td>\n",
       "        </tr>\n",
       "        <tr>\n",
       "            <td>Iron Man 2</td>\n",
       "            <td>2010</td>\n",
       "            <td>7</td>\n",
       "        </tr>\n",
       "        <tr>\n",
       "            <td>Iron Man 3</td>\n",
       "            <td>2013</td>\n",
       "            <td>7.1</td>\n",
       "        </tr>\n",
       "        <tr>\n",
       "            <td>Black Panther</td>\n",
       "            <td>2018</td>\n",
       "            <td>7.3</td>\n",
       "        </tr>\n",
       "        <tr>\n",
       "            <td>Captain America: The Winter Soldier</td>\n",
       "            <td>2014</td>\n",
       "            <td>7.7</td>\n",
       "        </tr>\n",
       "        <tr>\n",
       "            <td>Thor: The Dark World</td>\n",
       "            <td>2013</td>\n",
       "            <td>6.9</td>\n",
       "        </tr>\n",
       "        <tr>\n",
       "            <td>Guardians of the Galaxy</td>\n",
       "            <td>2014</td>\n",
       "            <td>8</td>\n",
       "        </tr>\n",
       "        <tr>\n",
       "            <td>Spider-Man: Homecoming</td>\n",
       "            <td>2017</td>\n",
       "            <td>7.4</td>\n",
       "        </tr>\n",
       "        <tr>\n",
       "            <td>Avengers: Age of Ultron</td>\n",
       "            <td>2015</td>\n",
       "            <td>7.3</td>\n",
       "        </tr>\n",
       "        <tr>\n",
       "            <td>Black Widow</td>\n",
       "            <td>2021</td>\n",
       "            <td>6.8</td>\n",
       "        </tr>\n",
       "        <tr>\n",
       "            <td>Captain America: Civil War</td>\n",
       "            <td>2016</td>\n",
       "            <td>7.8</td>\n",
       "        </tr>\n",
       "        <tr>\n",
       "            <td>Thor: Ragnarok</td>\n",
       "            <td>2017</td>\n",
       "            <td>7.9</td>\n",
       "        </tr>\n",
       "        <tr>\n",
       "            <td>Guardians of the Galaxy Vol. 2</td>\n",
       "            <td>2017</td>\n",
       "            <td>7.6</td>\n",
       "        </tr>\n",
       "        <tr>\n",
       "            <td>Captain Marvel</td>\n",
       "            <td>2019</td>\n",
       "            <td>6.8</td>\n",
       "        </tr>\n",
       "        <tr>\n",
       "            <td>Avengers: Infinity War</td>\n",
       "            <td>2018</td>\n",
       "            <td>8.4</td>\n",
       "        </tr>\n",
       "        <tr>\n",
       "            <td>Avengers: Endgame</td>\n",
       "            <td>2019</td>\n",
       "            <td>8.4</td>\n",
       "        </tr>\n",
       "        <tr>\n",
       "            <td>Ant-Man and the Wasp</td>\n",
       "            <td>2018</td>\n",
       "            <td>7</td>\n",
       "        </tr>\n",
       "        <tr>\n",
       "            <td>Spider-Man: Far from Home</td>\n",
       "            <td>2019</td>\n",
       "            <td>7.5</td>\n",
       "        </tr>\n",
       "        <tr>\n",
       "            <td>Eternals</td>\n",
       "            <td>2021</td>\n",
       "            <td>None</td>\n",
       "        </tr>\n",
       "        <tr>\n",
       "            <td>Black Panther: Wakanda Forever</td>\n",
       "            <td>2022</td>\n",
       "            <td>None</td>\n",
       "        </tr>\n",
       "        <tr>\n",
       "            <td>Shang-Chi and the Legend of the Ten Rings</td>\n",
       "            <td>2021</td>\n",
       "            <td>None</td>\n",
       "        </tr>\n",
       "        <tr>\n",
       "            <td>Doctor Strange in the Multiverse of Madness</td>\n",
       "            <td>2022</td>\n",
       "            <td>None</td>\n",
       "        </tr>\n",
       "    </tbody>\n",
       "</table>"
      ],
      "text/plain": [
       "[('Iron Man', 2008, 7.9),\n",
       " ('Captain America: The First Avenger', 2011, 6.9),\n",
       " ('Ant-Man', 2015, 7.3),\n",
       " ('The Incredible Hulk', 2008, 6.7),\n",
       " ('Thor', 2011, 7),\n",
       " ('The Avengers', 2012, 8),\n",
       " ('Thor: Love and Thunder', 2022, None),\n",
       " ('Doctor Strange', 2016, 7.5),\n",
       " ('Iron Man 2', 2010, 7),\n",
       " ('Iron Man 3', 2013, 7.1),\n",
       " ('Black Panther', 2018, 7.3),\n",
       " ('Captain America: The Winter Soldier', 2014, 7.7),\n",
       " ('Thor: The Dark World', 2013, 6.9),\n",
       " ('Guardians of the Galaxy', 2014, 8),\n",
       " ('Spider-Man: Homecoming', 2017, 7.4),\n",
       " ('Avengers: Age of Ultron', 2015, 7.3),\n",
       " ('Black Widow', 2021, 6.8),\n",
       " ('Captain America: Civil War', 2016, 7.8),\n",
       " ('Thor: Ragnarok', 2017, 7.9),\n",
       " ('Guardians of the Galaxy Vol. 2', 2017, 7.6),\n",
       " ('Captain Marvel', 2019, 6.8),\n",
       " ('Avengers: Infinity War', 2018, 8.4),\n",
       " ('Avengers: Endgame', 2019, 8.4),\n",
       " ('Ant-Man and the Wasp', 2018, 7),\n",
       " ('Spider-Man: Far from Home', 2019, 7.5),\n",
       " ('Eternals', 2021, None),\n",
       " ('Black Panther: Wakanda Forever', 2022, None),\n",
       " ('Shang-Chi and the Legend of the Ten Rings', 2021, None),\n",
       " ('Doctor Strange in the Multiverse of Madness', 2022, None)]"
      ]
     },
     "execution_count": 38,
     "metadata": {},
     "output_type": "execute_result"
    }
   ],
   "source": [
    "%%sql\n",
    "\n",
    "-- get top 5 and bottom 5 movies by average rating using this list\n",
    "\n",
    "SELECT t.primary_title, t.premiered, r.rating FROM titles as t LEFT JOIN ratings as r ON t.title_id = r.title_id \n",
    "WHERE t.title_id in ('tt0371746', 'tt0800080', 'tt1228705', 'tt0800369', 'tt0458339', 'tt0848228', 'tt1300854', 'tt1981115', 'tt1843866', 'tt2015381', 'tt2395427', 'tt0478970', 'tt3498820', 'tt1211837', 'tt3896198', 'tt2250912', 'tt3501632', 'tt1825683', 'tt4154756', 'tt5095030', 'tt4154664', 'tt4154796', 'tt6320628', 'tt3480822', 'tt9032400', 'tt9376612', 'tt9419884', 'tt10648342', 'tt9114286') "
   ]
  },
  {
   "cell_type": "markdown",
   "id": "47c6229f-35f7-400c-8366-c442baa5cf47",
   "metadata": {},
   "source": [
    "Markdown notes and sentences and analysis written here."
   ]
  },
  {
   "cell_type": "markdown",
   "id": "da22f29c-d245-4d2b-9fc1-ca14cb6087d9",
   "metadata": {},
   "source": [
    "## Question 4"
   ]
  },
  {
   "cell_type": "code",
   "execution_count": 39,
   "id": "8cffc767-d1c8-4d64-b7dc-f0d2ee8a80d1",
   "metadata": {
    "vscode": {
     "languageId": "sql"
    }
   },
   "outputs": [
    {
     "name": "stdout",
     "output_type": "stream",
     "text": [
      " * sqlite:////anvil/projects/tdm/data/movies_and_tv/imdb.db\n",
      "Done.\n"
     ]
    },
    {
     "data": {
      "text/html": [
       "<table>\n",
       "    <thead>\n",
       "        <tr>\n",
       "            <th>premiered</th>\n",
       "            <th>avg_title_length</th>\n",
       "        </tr>\n",
       "    </thead>\n",
       "    <tbody>\n",
       "        <tr>\n",
       "            <td>None</td>\n",
       "            <td>2.2873547892100556</td>\n",
       "        </tr>\n",
       "        <tr>\n",
       "            <td>1883</td>\n",
       "            <td>2.0</td>\n",
       "        </tr>\n",
       "        <tr>\n",
       "            <td>1885</td>\n",
       "            <td>2.0</td>\n",
       "        </tr>\n",
       "        <tr>\n",
       "            <td>1892</td>\n",
       "            <td>2.6666666666666665</td>\n",
       "        </tr>\n",
       "        <tr>\n",
       "            <td>1893</td>\n",
       "            <td>1.6666666666666667</td>\n",
       "        </tr>\n",
       "        <tr>\n",
       "            <td>1928</td>\n",
       "            <td>2.94361763022324</td>\n",
       "        </tr>\n",
       "        <tr>\n",
       "            <td>1929</td>\n",
       "            <td>2.9717885510818953</td>\n",
       "        </tr>\n",
       "        <tr>\n",
       "            <td>1930</td>\n",
       "            <td>2.9899655064283475</td>\n",
       "        </tr>\n",
       "        <tr>\n",
       "            <td>1931</td>\n",
       "            <td>2.930741190765492</td>\n",
       "        </tr>\n",
       "        <tr>\n",
       "            <td>1935</td>\n",
       "            <td>2.983493810178817</td>\n",
       "        </tr>\n",
       "        <tr>\n",
       "            <td>1982</td>\n",
       "            <td>2.9937077330197</td>\n",
       "        </tr>\n",
       "        <tr>\n",
       "            <td>2022</td>\n",
       "            <td>2.73824547119886</td>\n",
       "        </tr>\n",
       "        <tr>\n",
       "            <td>2023</td>\n",
       "            <td>2.8875379939209727</td>\n",
       "        </tr>\n",
       "        <tr>\n",
       "            <td>2024</td>\n",
       "            <td>2.8181818181818183</td>\n",
       "        </tr>\n",
       "        <tr>\n",
       "            <td>2026</td>\n",
       "            <td>2.4444444444444446</td>\n",
       "        </tr>\n",
       "    </tbody>\n",
       "</table>"
      ],
      "text/plain": [
       "[(None, 2.2873547892100556),\n",
       " (1883, 2.0),\n",
       " (1885, 2.0),\n",
       " (1892, 2.6666666666666665),\n",
       " (1893, 1.6666666666666667),\n",
       " (1928, 2.94361763022324),\n",
       " (1929, 2.9717885510818953),\n",
       " (1930, 2.9899655064283475),\n",
       " (1931, 2.930741190765492),\n",
       " (1935, 2.983493810178817),\n",
       " (1982, 2.9937077330197),\n",
       " (2022, 2.73824547119886),\n",
       " (2023, 2.8875379939209727),\n",
       " (2024, 2.8181818181818183),\n",
       " (2026, 2.4444444444444446)]"
      ]
     },
     "execution_count": 39,
     "metadata": {},
     "output_type": "execute_result"
    }
   ],
   "source": [
    "%%sql\n",
    "\n",
    "SELECT premiered, AVG(length(primary_title) - length(replace(primary_title, ' ', '')) + 1)\n",
    "AS avg_title_length\n",
    "FROM titles\n",
    "GROUP BY premiered\n",
    "HAVING avg_title_length < 3;"
   ]
  },
  {
   "cell_type": "markdown",
   "id": "0d552245-b4d6-474a-9cc9-fa7b8e674d55",
   "metadata": {},
   "source": [
    "Markdown notes and sentences and analysis written here."
   ]
  },
  {
   "cell_type": "markdown",
   "id": "88c9cdac-3e92-498f-83fa-e089bfc44ac8",
   "metadata": {},
   "source": [
    "## Question 5"
   ]
  },
  {
   "cell_type": "code",
   "execution_count": null,
   "id": "d370d7c9-06db-42b9-b75f-240481a5c491",
   "metadata": {},
   "outputs": [],
   "source": [
    "# code here"
   ]
  },
  {
   "cell_type": "markdown",
   "id": "9fbf00fb-2418-460f-ae94-2a32b0c28952",
   "metadata": {},
   "source": [
    "Markdown notes and sentences and analysis written here."
   ]
  },
  {
   "cell_type": "markdown",
   "id": "f76442d6-d02e-4f26-b9d6-c3183e1d6929",
   "metadata": {},
   "source": [
    "## Pledge\n",
    "\n",
    "By submitting this work I hereby pledge that this is my own, personal work. I've acknowledged in the designated place at the top of this file all sources that I used to complete said work, including but not limited to: online resources, books, and electronic communications. I've noted all collaboration with fellow students and/or TA's. I did not copy or plagiarize another's work.\n",
    "\n",
    "> As a Boilermaker pursuing academic excellence, I pledge to be honest and true in all that I do. Accountable together – We are Purdue."
   ]
  }
 ],
 "metadata": {
  "kernelspec": {
   "display_name": "Python 3.9.13 ('hackathon')",
   "language": "python",
   "name": "python3"
  },
  "language_info": {
   "codemirror_mode": {
    "name": "ipython",
    "version": 3
   },
   "file_extension": ".py",
   "mimetype": "text/x-python",
   "name": "python",
   "nbconvert_exporter": "python",
   "pygments_lexer": "ipython3",
   "version": "3.9.13"
  },
  "vscode": {
   "interpreter": {
    "hash": "47ef2d07cb13a693d245cfa793efe84c15311510376b5d2ca6c4836778ee5d6c"
   }
  }
 },
 "nbformat": 4,
 "nbformat_minor": 5
}
